{
 "cells": [
  {
   "cell_type": "code",
   "execution_count": 7,
   "id": "a56e3e4f-3dfc-4633-b59e-fab5ea7ddcbb",
   "metadata": {},
   "outputs": [],
   "source": [
    "from pyspark.sql import SparkSession\n",
    "\n",
    "spark = SparkSession.builder \\\n",
    "    .appName(\"Visuelle Sales Forecasting\") \\\n",
    "    .config(\"spark.driver.memory\", \"4g\") \\\n",
    "    .getOrCreate()\n"
   ]
  },
  {
   "cell_type": "code",
   "execution_count": 9,
   "id": "04b0cbdd-97f2-4fd6-a8ba-5cdb27192224",
   "metadata": {},
   "outputs": [
    {
     "name": "stdout",
     "output_type": "stream",
     "text": [
      "root\n",
      " |-- _c0: integer (nullable = true)\n",
      " |-- external_code: integer (nullable = true)\n",
      " |-- retail: integer (nullable = true)\n",
      " |-- season: string (nullable = true)\n",
      " |-- category: string (nullable = true)\n",
      " |-- color: string (nullable = true)\n",
      " |-- image_path: string (nullable = true)\n",
      " |-- fabric: string (nullable = true)\n",
      " |-- release_date: date (nullable = true)\n",
      " |-- restock: integer (nullable = true)\n",
      " |-- 0: double (nullable = true)\n",
      " |-- 1: double (nullable = true)\n",
      " |-- 2: double (nullable = true)\n",
      " |-- 3: double (nullable = true)\n",
      " |-- 4: double (nullable = true)\n",
      " |-- 5: double (nullable = true)\n",
      " |-- 6: double (nullable = true)\n",
      " |-- 7: double (nullable = true)\n",
      " |-- 8: double (nullable = true)\n",
      " |-- 9: double (nullable = true)\n",
      " |-- 10: double (nullable = true)\n",
      " |-- 11: double (nullable = true)\n",
      "\n",
      "+---+-------------+------+------+-----------+------+--------------+-----------+------------+-------+---+---+---+---+---+---+---+---+---+---+---+---+\n",
      "|_c0|external_code|retail|season|   category| color|    image_path|     fabric|release_date|restock|  0|  1|  2|  3|  4|  5|  6|  7|  8|  9| 10| 11|\n",
      "+---+-------------+------+------+-----------+------+--------------+-----------+------------+-------+---+---+---+---+---+---+---+---+---+---+---+---+\n",
      "|  0|            5|    36|  SS17|long sleeve|  grey|PE17/00005.png|    acrylic|  2016-11-28|     22|1.0|3.0|1.0|1.0|2.0|1.0|0.0|0.0|2.0|0.0|0.0|0.0|\n",
      "|  1|            2|    51|  SS17|long sleeve|violet|PE17/00002.png|    acrylic|  2016-11-28|     17|1.0|1.0|1.0|0.0|0.0|2.0|0.0|0.0|0.0|1.0|1.0|0.0|\n",
      "|  2|            5|    10|  SS17|long sleeve|  grey|PE17/00005.png|    acrylic|  2016-11-28|     15|1.0|3.0|1.0|0.0|1.0|1.0|1.0|1.0|1.0|0.0|0.0|1.0|\n",
      "|  3|            9|    41|  SS17|   culottes|yellow|PE17/00009.png|scuba crepe|  2016-11-28|     32|1.0|1.0|1.0|1.0|0.0|0.0|0.0|1.0|0.0|1.0|0.0|0.0|\n",
      "|  4|            5|    13|  SS17|long sleeve|  grey|PE17/00005.png|    acrylic|  2016-11-28|     26|1.0|2.0|4.0|0.0|3.0|0.0|2.0|1.0|0.0|0.0|0.0|0.0|\n",
      "+---+-------------+------+------+-----------+------+--------------+-----------+------------+-------+---+---+---+---+---+---+---+---+---+---+---+---+\n",
      "only showing top 5 rows\n",
      "\n"
     ]
    }
   ],
   "source": [
    "sales_df = spark.read.option(\"header\", \"true\").csv(\"C:/Documents/m5-sales-forecasting/data/raw/sales.csv\", inferSchema=True)\n",
    "sales_df.printSchema()\n",
    "sales_df.show(5)"
   ]
  },
  {
   "cell_type": "code",
   "execution_count": 10,
   "id": "6db725cf-8306-4973-be1e-7fb5d22a0a58",
   "metadata": {},
   "outputs": [
    {
     "name": "stdout",
     "output_type": "stream",
     "text": [
      "+-------------+------+------+-----------+-----+-------+------------+-------+-----+-----+\n",
      "|external_code|retail|season|   category|color| fabric|release_date|restock|month|sales|\n",
      "+-------------+------+------+-----------+-----+-------+------------+-------+-----+-----+\n",
      "|            5|    36|  SS17|long sleeve| grey|acrylic|  2016-11-28|     22|    0|  1.0|\n",
      "|            5|    36|  SS17|long sleeve| grey|acrylic|  2016-11-28|     22|    1|  3.0|\n",
      "|            5|    36|  SS17|long sleeve| grey|acrylic|  2016-11-28|     22|    2|  1.0|\n",
      "|            5|    36|  SS17|long sleeve| grey|acrylic|  2016-11-28|     22|    3|  1.0|\n",
      "|            5|    36|  SS17|long sleeve| grey|acrylic|  2016-11-28|     22|    4|  2.0|\n",
      "+-------------+------+------+-----------+-----+-------+------------+-------+-----+-----+\n",
      "only showing top 5 rows\n",
      "\n"
     ]
    }
   ],
   "source": [
    "from pyspark.sql import functions as F\n",
    "\n",
    "# Melt the sales columns into a long format\n",
    "sales_long_df = sales_df.selectExpr(\"external_code\", \"retail\", \"season\", \"category\", \"color\", \"fabric\", \"release_date\", \"restock\", \n",
    "                                   \"stack(12, '0', `0`, '1', `1`, '2', `2`, '3', `3`, '4', `4`, '5', `5`, '6', `6`, '7', `7`, '8', `8`, '9', `9`, '10', `10`, '11', `11`) as (month, sales)\")\n",
    "sales_long_df.show(5)\n"
   ]
  },
  {
   "cell_type": "markdown",
   "id": "bf425145-8eaa-4deb-b5ef-d1aca4860092",
   "metadata": {},
   "source": [
    "Here we are merging multiple datasets to include sesonality, trends etc"
   ]
  },
  {
   "cell_type": "code",
   "execution_count": 11,
   "id": "8183a551-423c-4ce9-9344-ed538504e119",
   "metadata": {},
   "outputs": [],
   "source": [
    "price_discount_df = spark.read.option(\"header\", \"true\").csv(\"C:/Documents/m5-sales-forecasting/data/raw/price_discount_series.csv\", inferSchema=True)\n",
    "weather_df = spark.read.option(\"header\", \"true\").csv(\"C:/Documents/m5-sales-forecasting/data/raw/vis2_weather_data.csv\", inferSchema=True)\n"
   ]
  },
  {
   "cell_type": "code",
   "execution_count": 30,
   "id": "f354b39f-4565-498b-a2e4-8ff1a6ce7db0",
   "metadata": {},
   "outputs": [
    {
     "name": "stdout",
     "output_type": "stream",
     "text": [
      "root\n",
      " |-- locality: integer (nullable = true)\n",
      " |-- date: date (nullable = true)\n",
      " |-- avg temp °C: double (nullable = true)\n",
      " |-- min temp °C: double (nullable = true)\n",
      " |-- max temp °C: double (nullable = true)\n",
      " |-- dew point °C: double (nullable = true)\n",
      " |-- humidity %: double (nullable = true)\n",
      " |-- visibility km: double (nullable = true)\n",
      " |-- avg wind km/h: double (nullable = true)\n",
      " |-- max wind km/h: double (nullable = true)\n",
      " |-- gust km/h: double (nullable = true)\n",
      " |-- slm pressure mb: double (nullable = true)\n",
      " |-- avg pressure mb: double (nullable = true)\n",
      " |-- rain mm: double (nullable = true)\n",
      " |-- month: string (nullable = true)\n",
      "\n"
     ]
    }
   ],
   "source": [
    "weather_df.printSchema()\n",
    "\n",
    "\n",
    "\n",
    "\n"
   ]
  },
  {
   "cell_type": "code",
   "execution_count": 15,
   "id": "03571880-5b2e-4990-8ca4-e5383c5f0518",
   "metadata": {},
   "outputs": [
    {
     "name": "stdout",
     "output_type": "stream",
     "text": [
      "+-------------+---+------+------+-----------+-----+--------------+-------+------------+-------+---------+---------+---------+---------+---------+---------+---------+---------+---------+---------+---------+---------+------+---+---+---+---+---+---+---+---+---+---+---+---+------------------+\n",
      "|external_code| id|retail|season|   category|color|    image_path| fabric|release_date|restock|jan_sales|feb_sales|mar_sales|apr_sales|may_sales|jun_sales|jul_sales|aug_sales|sep_sales|oct_sales|nov_sales|dec_sales|retail|  0|  1|  2|  3|  4|  5|  6|  7|  8|  9| 10| 11|             price|\n",
      "+-------------+---+------+------+-----------+-----+--------------+-------+------------+-------+---------+---------+---------+---------+---------+---------+---------+---------+---------+---------+---------+---------+------+---+---+---+---+---+---+---+---+---+---+---+---+------------------+\n",
      "|            5|  0|    36|  SS17|long sleeve| grey|PE17/00005.png|acrylic|  2016-11-28|     22|      1.0|      3.0|      1.0|      1.0|      2.0|      1.0|      0.0|      0.0|      2.0|      0.0|      0.0|      0.0|    19|0.0|0.0|0.0|0.0|0.0|0.0|0.0|0.0|0.0|0.0|0.0|0.0|0.0549442093112735|\n",
      "|            5|  0|    36|  SS17|long sleeve| grey|PE17/00005.png|acrylic|  2016-11-28|     22|      1.0|      3.0|      1.0|      1.0|      2.0|      1.0|      0.0|      0.0|      2.0|      0.0|      0.0|      0.0|    18|0.0|0.0|0.0|0.0|0.0|0.0|0.0|0.0|0.0|0.0|0.0|0.0|0.0549442093112735|\n",
      "|            5|  0|    36|  SS17|long sleeve| grey|PE17/00005.png|acrylic|  2016-11-28|     22|      1.0|      3.0|      1.0|      1.0|      2.0|      1.0|      0.0|      0.0|      2.0|      0.0|      0.0|      0.0|    43|0.0|0.0|0.0|0.0|0.0|0.0|0.0|0.0|0.0|0.0|0.0|0.0|0.0549442093112735|\n",
      "|            5|  0|    36|  SS17|long sleeve| grey|PE17/00005.png|acrylic|  2016-11-28|     22|      1.0|      3.0|      1.0|      1.0|      2.0|      1.0|      0.0|      0.0|      2.0|      0.0|      0.0|      0.0|     8|0.0|0.0|0.0|0.0|0.0|0.0|0.0|0.0|0.0|0.0|0.0|0.0|0.0549442093112735|\n",
      "|            5|  0|    36|  SS17|long sleeve| grey|PE17/00005.png|acrylic|  2016-11-28|     22|      1.0|      3.0|      1.0|      1.0|      2.0|      1.0|      0.0|      0.0|      2.0|      0.0|      0.0|      0.0|    20|0.0|0.0|0.0|0.0|0.0|0.0|0.0|0.0|0.0|0.0|0.0|0.0|0.0549442093112735|\n",
      "+-------------+---+------+------+-----------+-----+--------------+-------+------------+-------+---------+---------+---------+---------+---------+---------+---------+---------+---------+---------+---------+---------+------+---+---+---+---+---+---+---+---+---+---+---+---+------------------+\n",
      "only showing top 5 rows\n",
      "\n"
     ]
    }
   ],
   "source": [
    "# Rename sales columns in sales_df first\n",
    "sales_df = sales_df.withColumnRenamed(\"_c0\", \"id\")  # Rename '_c0' to 'id'\n",
    "\n",
    "# Rename the sales columns from '0', '1', '2', ... to 'jan_sales', 'feb_sales', 'mar_sales', etc.\n",
    "sales_df = sales_df.withColumnRenamed(\"0\", \"jan_sales\") \\\n",
    "                   .withColumnRenamed(\"1\", \"feb_sales\") \\\n",
    "                   .withColumnRenamed(\"2\", \"mar_sales\") \\\n",
    "                   .withColumnRenamed(\"3\", \"apr_sales\") \\\n",
    "                   .withColumnRenamed(\"4\", \"may_sales\") \\\n",
    "                   .withColumnRenamed(\"5\", \"jun_sales\") \\\n",
    "                   .withColumnRenamed(\"6\", \"jul_sales\") \\\n",
    "                   .withColumnRenamed(\"7\", \"aug_sales\") \\\n",
    "                   .withColumnRenamed(\"8\", \"sep_sales\") \\\n",
    "                   .withColumnRenamed(\"9\", \"oct_sales\") \\\n",
    "                   .withColumnRenamed(\"10\", \"nov_sales\") \\\n",
    "                   .withColumnRenamed(\"11\", \"dec_sales\")\n",
    "\n",
    "# Now merge with other DataFrames, e.g., price_discount_df\n",
    "sales_price_df = sales_df.join(price_discount_df, on=\"external_code\", how=\"inner\")\n",
    "\n",
    "# Check the result of the merge\n",
    "sales_price_df.show(5)\n"
   ]
  },
  {
   "cell_type": "markdown",
   "id": "7d433dbd-e953-430d-96ad-2f10b4190416",
   "metadata": {},
   "source": [
    "Merge Sales and Price discounts"
   ]
  },
  {
   "cell_type": "code",
   "execution_count": 21,
   "id": "7870c42d-0ca0-4704-9cdf-fec59f3a1f7c",
   "metadata": {},
   "outputs": [
    {
     "name": "stdout",
     "output_type": "stream",
     "text": [
      "['external_code', 'retail', 'id', 'season', 'category', 'color', 'image_path', 'fabric', 'release_date', 'restock', 'jan_sales', 'feb_sales', 'mar_sales', 'apr_sales', 'may_sales', 'jun_sales', 'jul_sales', 'aug_sales', 'sep_sales', 'oct_sales', 'nov_sales', 'dec_sales', '0', '1', '2', '3', '4', '5', '6', '7', '8', '9', '10', '11', 'price']\n"
     ]
    }
   ],
   "source": [
    "# Merge sales with price discount data based on external_code, retail, and the date\n",
    "sales_price_df = sales_df.join(price_discount_df, on=[\"external_code\", \"retail\"], how=\"left\")\n",
    "\n",
    "# Show the merged data\n",
    "print(sales_price_df.columns)"
   ]
  },
  {
   "cell_type": "code",
   "execution_count": 38,
   "id": "2e9faa9f-9628-4dca-89a4-24977a15d871",
   "metadata": {},
   "outputs": [
    {
     "name": "stdout",
     "output_type": "stream",
     "text": [
      "['external_code', 'retail', 'id', 'season', 'category', 'color', 'image_path', 'fabric', 'release_date', 'restock', 'jan_sales', 'feb_sales', 'mar_sales', 'apr_sales', 'may_sales', 'jun_sales', 'jul_sales', 'aug_sales', 'sep_sales', 'oct_sales', 'nov_sales', 'dec_sales']\n"
     ]
    }
   ],
   "source": [
    "# Drop columns '0' to '11' manually\n",
    "sales_price_df = sales_price_df.drop(\"0\")\n",
    "sales_price_df = sales_price_df.drop(\"1\")\n",
    "sales_price_df = sales_price_df.drop(\"2\")\n",
    "sales_price_df = sales_price_df.drop(\"3\")\n",
    "sales_price_df = sales_price_df.drop(\"4\")\n",
    "sales_price_df = sales_price_df.drop(\"5\")\n",
    "sales_price_df = sales_price_df.drop(\"6\")\n",
    "sales_price_df = sales_price_df.drop(\"7\")\n",
    "sales_price_df = sales_price_df.drop(\"8\")\n",
    "sales_price_df = sales_price_df.drop(\"9\")\n",
    "sales_price_df = sales_price_df.drop(\"10\")\n",
    "sales_price_df = sales_price_df.drop(\"11\")\n",
    "\n",
    "# Check final column list\n",
    "print(sales_price_df.columns)\n",
    "\n",
    "\n"
   ]
  },
  {
   "cell_type": "code",
   "execution_count": 42,
   "id": "5325c007-1fbb-4f94-b59b-a2f34331a0b2",
   "metadata": {},
   "outputs": [
    {
     "name": "stdout",
     "output_type": "stream",
     "text": [
      "['external_code', 'retail', 'id', 'season', 'category', 'color', 'image_path', 'fabric', 'release_date', 'restock', 'jan_sales', 'feb_sales', 'mar_sales', 'apr_sales', 'may_sales', 'jun_sales', 'jul_sales', 'aug_sales', 'sep_sales', 'oct_sales', 'nov_sales', 'dec_sales', 'price']\n"
     ]
    }
   ],
   "source": [
    "sales_price_df = sales_price_df.join(price_discount_df.select(\"external_code\", \"price\"), on=\"external_code\", how=\"left\")\n",
    "print(sales_price_df.columns)"
   ]
  },
  {
   "cell_type": "code",
   "execution_count": 43,
   "id": "c02971b6-8fc9-431f-8337-579eb428f902",
   "metadata": {},
   "outputs": [
    {
     "name": "stdout",
     "output_type": "stream",
     "text": [
      "+-------------+------+---+------+-----------+-----+--------------+-------+------------+-------+---------+---------+---------+---------+---------+---------+---------+---------+---------+---------+---------+---------+------------------+\n",
      "|external_code|retail| id|season|   category|color|    image_path| fabric|release_date|restock|jan_sales|feb_sales|mar_sales|apr_sales|may_sales|jun_sales|jul_sales|aug_sales|sep_sales|oct_sales|nov_sales|dec_sales|             price|\n",
      "+-------------+------+---+------+-----------+-----+--------------+-------+------------+-------+---------+---------+---------+---------+---------+---------+---------+---------+---------+---------+---------+---------+------------------+\n",
      "|            5|    36|  0|  SS17|long sleeve| grey|PE17/00005.png|acrylic|  2016-11-28|     22|      1.0|      3.0|      1.0|      1.0|      2.0|      1.0|      0.0|      0.0|      2.0|      0.0|      0.0|      0.0|0.0549442093112735|\n",
      "|            5|    36|  0|  SS17|long sleeve| grey|PE17/00005.png|acrylic|  2016-11-28|     22|      1.0|      3.0|      1.0|      1.0|      2.0|      1.0|      0.0|      0.0|      2.0|      0.0|      0.0|      0.0|0.0549442093112735|\n",
      "|            5|    36|  0|  SS17|long sleeve| grey|PE17/00005.png|acrylic|  2016-11-28|     22|      1.0|      3.0|      1.0|      1.0|      2.0|      1.0|      0.0|      0.0|      2.0|      0.0|      0.0|      0.0|0.0549442093112735|\n",
      "|            5|    36|  0|  SS17|long sleeve| grey|PE17/00005.png|acrylic|  2016-11-28|     22|      1.0|      3.0|      1.0|      1.0|      2.0|      1.0|      0.0|      0.0|      2.0|      0.0|      0.0|      0.0|0.0549442093112735|\n",
      "|            5|    36|  0|  SS17|long sleeve| grey|PE17/00005.png|acrylic|  2016-11-28|     22|      1.0|      3.0|      1.0|      1.0|      2.0|      1.0|      0.0|      0.0|      2.0|      0.0|      0.0|      0.0|0.0549442093112735|\n",
      "+-------------+------+---+------+-----------+-----+--------------+-------+------------+-------+---------+---------+---------+---------+---------+---------+---------+---------+---------+---------+---------+---------+------------------+\n",
      "only showing top 5 rows\n",
      "\n"
     ]
    }
   ],
   "source": [
    "sales_price_df.show(5)"
   ]
  },
  {
   "cell_type": "markdown",
   "id": "e10ae2d4-8c0e-49de-98ad-f3089c34e911",
   "metadata": {},
   "source": [
    "Store your data as parquet format"
   ]
  },
  {
   "cell_type": "code",
   "execution_count": 44,
   "id": "b24fa0ed-1d07-4625-ae4c-de2e8b82821e",
   "metadata": {},
   "outputs": [],
   "source": [
    "# Save as Parquet to \"processed_data\" folder\n",
    "sales_price_df.write.mode(\"overwrite\").parquet(\"C:/Documents/m5-sales-forecasting/data/processed\")\n"
   ]
  },
  {
   "cell_type": "code",
   "execution_count": null,
   "id": "b479db83-4d7c-44e3-a193-d2f9ccb0e07d",
   "metadata": {},
   "outputs": [],
   "source": []
  }
 ],
 "metadata": {
  "kernelspec": {
   "display_name": "Python 3 (ipykernel)",
   "language": "python",
   "name": "python3"
  },
  "language_info": {
   "codemirror_mode": {
    "name": "ipython",
    "version": 3
   },
   "file_extension": ".py",
   "mimetype": "text/x-python",
   "name": "python",
   "nbconvert_exporter": "python",
   "pygments_lexer": "ipython3",
   "version": "3.10.0"
  }
 },
 "nbformat": 4,
 "nbformat_minor": 5
}
