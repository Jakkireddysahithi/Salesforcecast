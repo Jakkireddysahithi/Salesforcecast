{
 "cells": [
  {
   "cell_type": "code",
   "execution_count": 3,
   "id": "1606c55c-ee4e-4708-aa01-9c051de5539a",
   "metadata": {},
   "outputs": [
    {
     "name": "stdout",
     "output_type": "stream",
     "text": [
      "+--------+------+-------------+----------+---+\n",
      "|customer|retail|external_code|      date|qty|\n",
      "+--------+------+-------------+----------+---+\n",
      "|       1|     0|          940|2017-06-10|  1|\n",
      "|       1|     0|          718|2017-06-10|  1|\n",
      "|       1|     0|          825|2017-06-10|  1|\n",
      "|       2|     1|          471|2017-08-03|  1|\n",
      "|       2|     1|          613|2017-08-03|  1|\n",
      "+--------+------+-------------+----------+---+\n",
      "only showing top 5 rows\n",
      "\n",
      "+----------+-----------+--------+---------+-------------+-------------+--------------+---------------+-------------+----------+-------------+------------+----------+-----------+----------+----------+------+---------+--------+-----------+-------------+------------+---------------+-----------+----+------+------------+-----------+------+-----+----+----+-----+-----+---+-----+------+------+-------+-----------+-----+------+------------+---------+-----+----+-----+------------+-----------+---+------------+------+------+----+------+------+-----+---------+--------+-----+---------+----+----------+-----------+---+--------+-----------+--------+-------+-----------+------+--------+-------+--------+-----------+-----+------+----------+--------+-----------+---------------------+-----+------+-------------+-----+------+------+--------+-------------+------+----+-------+-----+------+-----------------+------------+-----+\n",
      "|      date|long sleeve|culottes|miniskirt|short sleeves|printed shirt|short cardigan|solid color top|trapeze dress|sleeveless|long cardigan|sheath dress|short coat|medium coat|doll dress|long dress|shorts|long coat|jumpsuit|drop sleeve|patterned top|kimono dress|medium cardigan|shirt dress|maxi|capris|gitana skirt|long duster|yellow|brown|blue|grey|green|black|red|white|orange|violet|acrylic|scuba crepe|tulle|angora|faux leather|georgette|lurex|nice|crepe|satin cotton|silky satin|fur|matte jersey|plisse|velvet|lace|cotton|piquet|plush|bengaline|jacquard|frise|technical|cady|dark jeans|light jeans|ity|plumetis|polyviscous|dainetto|webbing|foam rubber|chanel|marocain|macrame|embossed|heavy jeans|nylon|tencel|paillettes|chambree|chine crepe|muslin cotton or silk|linen|tactel|viscose twill|cloth|mohair|mutton|scottish|milano stitch|devore|hron|ottoman|fluid|flamed|fluid polyviscous|shiny jersey|goose|\n",
      "+----------+-----------+--------+---------+-------------+-------------+--------------+---------------+-------------+----------+-------------+------------+----------+-----------+----------+----------+------+---------+--------+-----------+-------------+------------+---------------+-----------+----+------+------------+-----------+------+-----+----+----+-----+-----+---+-----+------+------+-------+-----------+-----+------+------------+---------+-----+----+-----+------------+-----------+---+------------+------+------+----+------+------+-----+---------+--------+-----+---------+----+----------+-----------+---+--------+-----------+--------+-------+-----------+------+--------+-------+--------+-----------+-----+------+----------+--------+-----------+---------------------+-----+------+-------------+-----+------+------+--------+-------------+------+----+-------+-----+------+-----------------+------------+-----+\n",
      "|2015-10-05|         55|      41|       66|           58|           58|            22|             24|         43.0|        66|           74|          42|        44|         10|        73|        70|    38|       36|      30|         11|           75|          25|              0|       78.6|  63|    37|           0|         24|    83|   66|  77|  18|   79|   25| 61|   77|    70|    56|     57|         18|   81|    65|          50|       25|   23|  20|   35|          61|         10| 54|          35|    26|    54|  70|    68|    33|   35|       13|      73|   80|       89|  29|        50|         63| 62|      20|         -1|       0|     55|         46|    73|      81|     54|      56|         55|   86|    36|        18|       0|         20|                   -1|   52|    33|            0|   82|    62|    45|      57|            0|    29|  17|     57|   80|    49|               -1|           0|   34|\n",
      "|2015-10-12|         55|      44|       73|           71|           61|            31|             37|         21.2|        63|           59|          52|        47|         29|        85|        72|    37|       33|      27|         33|           83|          40|              0|       75.0|  64|    32|           0|         14|    80|   66|  95|  18|   76|   26| 62|   77|    71|    57|     58|          0|   86|    63|          52|       31|   21|  18|   37|          37|         59| 58|          70|    38|    54|  68|    69|    23|   38|       27|      76|   76|       89|  26|        56|         66| 72|      30|         -1|       0|     54|         72|    72|      80|     56|      74|         32|   85|    39|        12|       0|         27|                   -1|   55|    48|            0|   82|    66|    43|      54|            0|    17|  14|     61|   80|    41|               -1|           0|   39|\n",
      "|2015-10-19|         60|      42|       73|           62|           61|            43|             37|         27.4|        47|           71|          37|        46|         29|       100|        79|    36|       39|      31|         55|           71|          39|              0|       68.8|  66|    23|           0|         34|    83|   66|  92|  18|   76|   27| 62|   77|    67|    58|     59|          0|   81|    70|          52|       27|   19|  18|   43|          30|         29| 59|          52|    33|    53| 100|    68|    26|   38|       17|      86|   62|       81|  27|        59|         66| 63|      30|         -1|       0|     57|         43|    69|      83|     48|      66|         23|   86|    32|        14|      30|         47|                   -1|   54|    35|           48|   81|    63|    46|      55|            0|    21|  23|     63|   79|    52|               -1|          33|   41|\n",
      "|2015-10-26|         57|      44|       68|           51|           55|            19|             37|         59.8|        54|           64|          38|        43|         43|        96|        74|    36|       42|      31|         22|           73|          42|             17|       71.8|  65|    23|           0|         43|    82|   67|  70|  17|   74|   28| 62|   76|    69|    52|     62|         17|   95|    70|          60|       32|   20|  17|   44|          24|         39| 63|          35|    33|    54|  73|    68|    30|   39|       13|      73|   76|       83|  33|        66|         53| 72|      30|         -1|       0|     54|         72|    69|      81|     46|      63|         46|   85|    38|        16|       0|         27|                   -1|   56|    29|            0|   84|    61|    44|      55|            0|    26|  14|     58|   76|    33|               -1|          32|   37|\n",
      "|2015-11-02|         49|      39|       66|           39|           63|            16|             37|         44.0|        51|           67|          49|        46|          0|        59|        70|    34|       35|      32|         22|           71|          37|             34|       64.2|  67|    21|           0|         34|    76|   66|  69|  17|   77|   32| 60|   77|    70|    56|     57|          0|   66|    66|          55|       33|   19|  18|   35|          55|         39| 63|           0|    36|    58|  66|    72|    27|   39|       10|      78|   78|       83|  32|        53|         56| 72|      25|         -1|       0|     66|         64|    69|      91|     48|      55|         47|   85|    34|        20|       0|         27|                   -1|   61|    33|            0|   85|    61|    46|      55|            0|    18|  18|     60|   80|    37|               -1|          98|   38|\n",
      "+----------+-----------+--------+---------+-------------+-------------+--------------+---------------+-------------+----------+-------------+------------+----------+-----------+----------+----------+------+---------+--------+-----------+-------------+------------+---------------+-----------+----+------+------------+-----------+------+-----+----+----+-----+-----+---+-----+------+------+-------+-----------+-----+------+------------+---------+-----+----+-----+------------+-----------+---+------------+------+------+----+------+------+-----+---------+--------+-----+---------+----+----------+-----------+---+--------+-----------+--------+-------+-----------+------+--------+-------+--------+-----------+-----+------+----------+--------+-----------+---------------------+-----+------+-------------+-----+------+------+--------+-------------+------+----+-------+-----+------+-----------------+------------+-----+\n",
      "only showing top 5 rows\n",
      "\n"
     ]
    }
   ],
   "source": [
    "from pyspark.sql import SparkSession\n",
    "from pyspark.sql.functions import to_date, col\n",
    "\n",
    "spark = SparkSession.builder.appName(\"CustomerChurn\").getOrCreate()\n",
    "\n",
    "# Load customer data\n",
    "customer_df = spark.read.csv(\"C:/Documents/m5-sales-forecasting/data/raw - Copy/customer_dataC.csv\", header=True, inferSchema=True)\n",
    "\n",
    "# Load trends data\n",
    "trends_df = spark.read.csv(\"C:/Documents/m5-sales-forecasting/data/raw - Copy/vis2_gtrends_dataC.csv\", header=True, inferSchema=True)\n",
    "\n",
    "# Show sample of data to confirm load\n",
    "customer_df.show(5)\n",
    "trends_df.show(5)"
   ]
  },
  {
   "cell_type": "code",
   "execution_count": 4,
   "id": "cc6caf63-f1eb-4478-9d2f-21725fddccf1",
   "metadata": {},
   "outputs": [
    {
     "ename": "NameError",
     "evalue": "name 'combined_df' is not defined",
     "output_type": "error",
     "traceback": [
      "\u001b[1;31m---------------------------------------------------------------------------\u001b[0m",
      "\u001b[1;31mNameError\u001b[0m                                 Traceback (most recent call last)",
      "Cell \u001b[1;32mIn[4], line 2\u001b[0m\n\u001b[0;32m      1\u001b[0m \u001b[38;5;66;03m# Filter rows where at least one trend column is not null\u001b[39;00m\n\u001b[1;32m----> 2\u001b[0m valid_trends_df \u001b[38;5;241m=\u001b[39m \u001b[43mcombined_df\u001b[49m\u001b[38;5;241m.\u001b[39mfilter(\n\u001b[0;32m      3\u001b[0m     (col(\u001b[38;5;124m'\u001b[39m\u001b[38;5;124mlong sleeve\u001b[39m\u001b[38;5;124m'\u001b[39m)\u001b[38;5;241m.\u001b[39misNotNull()) \u001b[38;5;241m|\u001b[39m\n\u001b[0;32m      4\u001b[0m     (col(\u001b[38;5;124m'\u001b[39m\u001b[38;5;124mculottes\u001b[39m\u001b[38;5;124m'\u001b[39m)\u001b[38;5;241m.\u001b[39misNotNull()) \u001b[38;5;241m|\u001b[39m\n\u001b[0;32m      5\u001b[0m     (col(\u001b[38;5;124m'\u001b[39m\u001b[38;5;124mminiskirt\u001b[39m\u001b[38;5;124m'\u001b[39m)\u001b[38;5;241m.\u001b[39misNotNull()) \u001b[38;5;241m|\u001b[39m\n\u001b[0;32m      6\u001b[0m     (col(\u001b[38;5;124m'\u001b[39m\u001b[38;5;124mshort sleeves\u001b[39m\u001b[38;5;124m'\u001b[39m)\u001b[38;5;241m.\u001b[39misNotNull()) \u001b[38;5;241m|\u001b[39m\n\u001b[0;32m      7\u001b[0m     (col(\u001b[38;5;124m'\u001b[39m\u001b[38;5;124mprinted shirt\u001b[39m\u001b[38;5;124m'\u001b[39m)\u001b[38;5;241m.\u001b[39misNotNull()) \u001b[38;5;241m|\u001b[39m\n\u001b[0;32m      8\u001b[0m     (col(\u001b[38;5;124m'\u001b[39m\u001b[38;5;124mshort cardigan\u001b[39m\u001b[38;5;124m'\u001b[39m)\u001b[38;5;241m.\u001b[39misNotNull()) \u001b[38;5;241m|\u001b[39m\n\u001b[0;32m      9\u001b[0m     (col(\u001b[38;5;124m'\u001b[39m\u001b[38;5;124msolid color top\u001b[39m\u001b[38;5;124m'\u001b[39m)\u001b[38;5;241m.\u001b[39misNotNull()) \u001b[38;5;241m|\u001b[39m\n\u001b[0;32m     10\u001b[0m     (col(\u001b[38;5;124m'\u001b[39m\u001b[38;5;124mtrapeze dress\u001b[39m\u001b[38;5;124m'\u001b[39m)\u001b[38;5;241m.\u001b[39misNotNull()) \u001b[38;5;241m|\u001b[39m\n\u001b[0;32m     11\u001b[0m     (col(\u001b[38;5;124m'\u001b[39m\u001b[38;5;124msleeveless\u001b[39m\u001b[38;5;124m'\u001b[39m)\u001b[38;5;241m.\u001b[39misNotNull()) \u001b[38;5;241m|\u001b[39m\n\u001b[0;32m     12\u001b[0m     (col(\u001b[38;5;124m'\u001b[39m\u001b[38;5;124mlong cardigan\u001b[39m\u001b[38;5;124m'\u001b[39m)\u001b[38;5;241m.\u001b[39misNotNull()) \u001b[38;5;241m|\u001b[39m\n\u001b[0;32m     13\u001b[0m     (col(\u001b[38;5;124m'\u001b[39m\u001b[38;5;124msheath dress\u001b[39m\u001b[38;5;124m'\u001b[39m)\u001b[38;5;241m.\u001b[39misNotNull()) \u001b[38;5;241m|\u001b[39m\n\u001b[0;32m     14\u001b[0m     (col(\u001b[38;5;124m'\u001b[39m\u001b[38;5;124mshort coat\u001b[39m\u001b[38;5;124m'\u001b[39m)\u001b[38;5;241m.\u001b[39misNotNull()) \u001b[38;5;241m|\u001b[39m\n\u001b[0;32m     15\u001b[0m     (col(\u001b[38;5;124m'\u001b[39m\u001b[38;5;124mmedium coat\u001b[39m\u001b[38;5;124m'\u001b[39m)\u001b[38;5;241m.\u001b[39misNotNull()) \u001b[38;5;241m|\u001b[39m\n\u001b[0;32m     16\u001b[0m     (col(\u001b[38;5;124m'\u001b[39m\u001b[38;5;124mdoll dress\u001b[39m\u001b[38;5;124m'\u001b[39m)\u001b[38;5;241m.\u001b[39misNotNull()) \u001b[38;5;241m|\u001b[39m\n\u001b[0;32m     17\u001b[0m     (col(\u001b[38;5;124m'\u001b[39m\u001b[38;5;124mlong dress\u001b[39m\u001b[38;5;124m'\u001b[39m)\u001b[38;5;241m.\u001b[39misNotNull()) \u001b[38;5;241m|\u001b[39m\n\u001b[0;32m     18\u001b[0m     (col(\u001b[38;5;124m'\u001b[39m\u001b[38;5;124mshorts\u001b[39m\u001b[38;5;124m'\u001b[39m)\u001b[38;5;241m.\u001b[39misNotNull()) \u001b[38;5;241m|\u001b[39m\n\u001b[0;32m     19\u001b[0m     (col(\u001b[38;5;124m'\u001b[39m\u001b[38;5;124mlong coat\u001b[39m\u001b[38;5;124m'\u001b[39m)\u001b[38;5;241m.\u001b[39misNotNull()) \u001b[38;5;241m|\u001b[39m\n\u001b[0;32m     20\u001b[0m     (col(\u001b[38;5;124m'\u001b[39m\u001b[38;5;124mjumpsuit\u001b[39m\u001b[38;5;124m'\u001b[39m)\u001b[38;5;241m.\u001b[39misNotNull()) \u001b[38;5;241m|\u001b[39m\n\u001b[0;32m     21\u001b[0m     (col(\u001b[38;5;124m'\u001b[39m\u001b[38;5;124mdrop sleeve\u001b[39m\u001b[38;5;124m'\u001b[39m)\u001b[38;5;241m.\u001b[39misNotNull()) \u001b[38;5;241m|\u001b[39m\n\u001b[0;32m     22\u001b[0m     (col(\u001b[38;5;124m'\u001b[39m\u001b[38;5;124mpatterned top\u001b[39m\u001b[38;5;124m'\u001b[39m)\u001b[38;5;241m.\u001b[39misNotNull()) \u001b[38;5;241m|\u001b[39m\n\u001b[0;32m     23\u001b[0m     (col(\u001b[38;5;124m'\u001b[39m\u001b[38;5;124mkimono dress\u001b[39m\u001b[38;5;124m'\u001b[39m)\u001b[38;5;241m.\u001b[39misNotNull()) \u001b[38;5;241m|\u001b[39m\n\u001b[0;32m     24\u001b[0m     (col(\u001b[38;5;124m'\u001b[39m\u001b[38;5;124mmedium cardigan\u001b[39m\u001b[38;5;124m'\u001b[39m)\u001b[38;5;241m.\u001b[39misNotNull()) \u001b[38;5;241m|\u001b[39m\n\u001b[0;32m     25\u001b[0m     (col(\u001b[38;5;124m'\u001b[39m\u001b[38;5;124mshirt dress\u001b[39m\u001b[38;5;124m'\u001b[39m)\u001b[38;5;241m.\u001b[39misNotNull()) \u001b[38;5;241m|\u001b[39m\n\u001b[0;32m     26\u001b[0m     (col(\u001b[38;5;124m'\u001b[39m\u001b[38;5;124mmaxi\u001b[39m\u001b[38;5;124m'\u001b[39m)\u001b[38;5;241m.\u001b[39misNotNull()) \u001b[38;5;241m|\u001b[39m\n\u001b[0;32m     27\u001b[0m     (col(\u001b[38;5;124m'\u001b[39m\u001b[38;5;124mcapris\u001b[39m\u001b[38;5;124m'\u001b[39m)\u001b[38;5;241m.\u001b[39misNotNull()) \u001b[38;5;241m|\u001b[39m\n\u001b[0;32m     28\u001b[0m     (col(\u001b[38;5;124m'\u001b[39m\u001b[38;5;124mgitana skirt\u001b[39m\u001b[38;5;124m'\u001b[39m)\u001b[38;5;241m.\u001b[39misNotNull()) \u001b[38;5;241m|\u001b[39m\n\u001b[0;32m     29\u001b[0m     (col(\u001b[38;5;124m'\u001b[39m\u001b[38;5;124mlong duster\u001b[39m\u001b[38;5;124m'\u001b[39m)\u001b[38;5;241m.\u001b[39misNotNull()) \u001b[38;5;241m|\u001b[39m\n\u001b[0;32m     30\u001b[0m     (col(\u001b[38;5;124m'\u001b[39m\u001b[38;5;124myellow\u001b[39m\u001b[38;5;124m'\u001b[39m)\u001b[38;5;241m.\u001b[39misNotNull()) \u001b[38;5;241m|\u001b[39m\n\u001b[0;32m     31\u001b[0m     (col(\u001b[38;5;124m'\u001b[39m\u001b[38;5;124mbrown\u001b[39m\u001b[38;5;124m'\u001b[39m)\u001b[38;5;241m.\u001b[39misNotNull()) \u001b[38;5;241m|\u001b[39m\n\u001b[0;32m     32\u001b[0m     (col(\u001b[38;5;124m'\u001b[39m\u001b[38;5;124mblue\u001b[39m\u001b[38;5;124m'\u001b[39m)\u001b[38;5;241m.\u001b[39misNotNull()) \u001b[38;5;241m|\u001b[39m\n\u001b[0;32m     33\u001b[0m     (col(\u001b[38;5;124m'\u001b[39m\u001b[38;5;124mgrey\u001b[39m\u001b[38;5;124m'\u001b[39m)\u001b[38;5;241m.\u001b[39misNotNull()) \u001b[38;5;241m|\u001b[39m\n\u001b[0;32m     34\u001b[0m     (col(\u001b[38;5;124m'\u001b[39m\u001b[38;5;124mgreen\u001b[39m\u001b[38;5;124m'\u001b[39m)\u001b[38;5;241m.\u001b[39misNotNull()) \u001b[38;5;241m|\u001b[39m\n\u001b[0;32m     35\u001b[0m     (col(\u001b[38;5;124m'\u001b[39m\u001b[38;5;124mblack\u001b[39m\u001b[38;5;124m'\u001b[39m)\u001b[38;5;241m.\u001b[39misNotNull()) \u001b[38;5;241m|\u001b[39m\n\u001b[0;32m     36\u001b[0m     (col(\u001b[38;5;124m'\u001b[39m\u001b[38;5;124mred\u001b[39m\u001b[38;5;124m'\u001b[39m)\u001b[38;5;241m.\u001b[39misNotNull()) \u001b[38;5;241m|\u001b[39m\n\u001b[0;32m     37\u001b[0m     (col(\u001b[38;5;124m'\u001b[39m\u001b[38;5;124mwhite\u001b[39m\u001b[38;5;124m'\u001b[39m)\u001b[38;5;241m.\u001b[39misNotNull()) \u001b[38;5;241m|\u001b[39m\n\u001b[0;32m     38\u001b[0m     (col(\u001b[38;5;124m'\u001b[39m\u001b[38;5;124morange\u001b[39m\u001b[38;5;124m'\u001b[39m)\u001b[38;5;241m.\u001b[39misNotNull()) \u001b[38;5;241m|\u001b[39m\n\u001b[0;32m     39\u001b[0m     (col(\u001b[38;5;124m'\u001b[39m\u001b[38;5;124mviolet\u001b[39m\u001b[38;5;124m'\u001b[39m)\u001b[38;5;241m.\u001b[39misNotNull()) \u001b[38;5;241m|\u001b[39m\n\u001b[0;32m     40\u001b[0m     (col(\u001b[38;5;124m'\u001b[39m\u001b[38;5;124macrylic\u001b[39m\u001b[38;5;124m'\u001b[39m)\u001b[38;5;241m.\u001b[39misNotNull()) \u001b[38;5;241m|\u001b[39m\n\u001b[0;32m     41\u001b[0m     (col(\u001b[38;5;124m'\u001b[39m\u001b[38;5;124mscuba crepe\u001b[39m\u001b[38;5;124m'\u001b[39m)\u001b[38;5;241m.\u001b[39misNotNull()) \u001b[38;5;241m|\u001b[39m\n\u001b[0;32m     42\u001b[0m     (col(\u001b[38;5;124m'\u001b[39m\u001b[38;5;124mtulle\u001b[39m\u001b[38;5;124m'\u001b[39m)\u001b[38;5;241m.\u001b[39misNotNull()) \u001b[38;5;241m|\u001b[39m\n\u001b[0;32m     43\u001b[0m     (col(\u001b[38;5;124m'\u001b[39m\u001b[38;5;124mangora\u001b[39m\u001b[38;5;124m'\u001b[39m)\u001b[38;5;241m.\u001b[39misNotNull()) \u001b[38;5;241m|\u001b[39m\n\u001b[0;32m     44\u001b[0m     (col(\u001b[38;5;124m'\u001b[39m\u001b[38;5;124mfaux leather\u001b[39m\u001b[38;5;124m'\u001b[39m)\u001b[38;5;241m.\u001b[39misNotNull()) \u001b[38;5;241m|\u001b[39m\n\u001b[0;32m     45\u001b[0m     (col(\u001b[38;5;124m'\u001b[39m\u001b[38;5;124mgeorgette\u001b[39m\u001b[38;5;124m'\u001b[39m)\u001b[38;5;241m.\u001b[39misNotNull()) \u001b[38;5;241m|\u001b[39m\n\u001b[0;32m     46\u001b[0m     (col(\u001b[38;5;124m'\u001b[39m\u001b[38;5;124mlurex\u001b[39m\u001b[38;5;124m'\u001b[39m)\u001b[38;5;241m.\u001b[39misNotNull()) \u001b[38;5;241m|\u001b[39m\n\u001b[0;32m     47\u001b[0m     (col(\u001b[38;5;124m'\u001b[39m\u001b[38;5;124mnice\u001b[39m\u001b[38;5;124m'\u001b[39m)\u001b[38;5;241m.\u001b[39misNotNull()) \u001b[38;5;241m|\u001b[39m\n\u001b[0;32m     48\u001b[0m     (col(\u001b[38;5;124m'\u001b[39m\u001b[38;5;124mcrepe\u001b[39m\u001b[38;5;124m'\u001b[39m)\u001b[38;5;241m.\u001b[39misNotNull()) \u001b[38;5;241m|\u001b[39m\n\u001b[0;32m     49\u001b[0m     (col(\u001b[38;5;124m'\u001b[39m\u001b[38;5;124msatin cotton\u001b[39m\u001b[38;5;124m'\u001b[39m)\u001b[38;5;241m.\u001b[39misNotNull()) \u001b[38;5;241m|\u001b[39m\n\u001b[0;32m     50\u001b[0m     (col(\u001b[38;5;124m'\u001b[39m\u001b[38;5;124msilky satin\u001b[39m\u001b[38;5;124m'\u001b[39m)\u001b[38;5;241m.\u001b[39misNotNull()) \u001b[38;5;241m|\u001b[39m\n\u001b[0;32m     51\u001b[0m     (col(\u001b[38;5;124m'\u001b[39m\u001b[38;5;124mfur\u001b[39m\u001b[38;5;124m'\u001b[39m)\u001b[38;5;241m.\u001b[39misNotNull()) \u001b[38;5;241m|\u001b[39m\n\u001b[0;32m     52\u001b[0m     (col(\u001b[38;5;124m'\u001b[39m\u001b[38;5;124mmatte jersey\u001b[39m\u001b[38;5;124m'\u001b[39m)\u001b[38;5;241m.\u001b[39misNotNull()) \u001b[38;5;241m|\u001b[39m\n\u001b[0;32m     53\u001b[0m     (col(\u001b[38;5;124m'\u001b[39m\u001b[38;5;124mplisse\u001b[39m\u001b[38;5;124m'\u001b[39m)\u001b[38;5;241m.\u001b[39misNotNull()) \u001b[38;5;241m|\u001b[39m\n\u001b[0;32m     54\u001b[0m     (col(\u001b[38;5;124m'\u001b[39m\u001b[38;5;124mvelvet\u001b[39m\u001b[38;5;124m'\u001b[39m)\u001b[38;5;241m.\u001b[39misNotNull()) \u001b[38;5;241m|\u001b[39m\n\u001b[0;32m     55\u001b[0m     (col(\u001b[38;5;124m'\u001b[39m\u001b[38;5;124mlace\u001b[39m\u001b[38;5;124m'\u001b[39m)\u001b[38;5;241m.\u001b[39misNotNull()) \u001b[38;5;241m|\u001b[39m\n\u001b[0;32m     56\u001b[0m     (col(\u001b[38;5;124m'\u001b[39m\u001b[38;5;124mcotton\u001b[39m\u001b[38;5;124m'\u001b[39m)\u001b[38;5;241m.\u001b[39misNotNull()) \u001b[38;5;241m|\u001b[39m\n\u001b[0;32m     57\u001b[0m     (col(\u001b[38;5;124m'\u001b[39m\u001b[38;5;124mpiquet\u001b[39m\u001b[38;5;124m'\u001b[39m)\u001b[38;5;241m.\u001b[39misNotNull()) \u001b[38;5;241m|\u001b[39m\n\u001b[0;32m     58\u001b[0m     (col(\u001b[38;5;124m'\u001b[39m\u001b[38;5;124mplush\u001b[39m\u001b[38;5;124m'\u001b[39m)\u001b[38;5;241m.\u001b[39misNotNull()) \u001b[38;5;241m|\u001b[39m\n\u001b[0;32m     59\u001b[0m     (col(\u001b[38;5;124m'\u001b[39m\u001b[38;5;124mbengaline\u001b[39m\u001b[38;5;124m'\u001b[39m)\u001b[38;5;241m.\u001b[39misNotNull()) \u001b[38;5;241m|\u001b[39m\n\u001b[0;32m     60\u001b[0m     (col(\u001b[38;5;124m'\u001b[39m\u001b[38;5;124mjacquard\u001b[39m\u001b[38;5;124m'\u001b[39m)\u001b[38;5;241m.\u001b[39misNotNull()) \u001b[38;5;241m|\u001b[39m\n\u001b[0;32m     61\u001b[0m     (col(\u001b[38;5;124m'\u001b[39m\u001b[38;5;124mfrise\u001b[39m\u001b[38;5;124m'\u001b[39m)\u001b[38;5;241m.\u001b[39misNotNull()) \u001b[38;5;241m|\u001b[39m\n\u001b[0;32m     62\u001b[0m     (col(\u001b[38;5;124m'\u001b[39m\u001b[38;5;124mtechnical\u001b[39m\u001b[38;5;124m'\u001b[39m)\u001b[38;5;241m.\u001b[39misNotNull()) \u001b[38;5;241m|\u001b[39m\n\u001b[0;32m     63\u001b[0m     (col(\u001b[38;5;124m'\u001b[39m\u001b[38;5;124mcady\u001b[39m\u001b[38;5;124m'\u001b[39m)\u001b[38;5;241m.\u001b[39misNotNull()) \u001b[38;5;241m|\u001b[39m\n\u001b[0;32m     64\u001b[0m     (col(\u001b[38;5;124m'\u001b[39m\u001b[38;5;124mdark jeans\u001b[39m\u001b[38;5;124m'\u001b[39m)\u001b[38;5;241m.\u001b[39misNotNull()) \u001b[38;5;241m|\u001b[39m\n\u001b[0;32m     65\u001b[0m     (col(\u001b[38;5;124m'\u001b[39m\u001b[38;5;124mlight jeans\u001b[39m\u001b[38;5;124m'\u001b[39m)\u001b[38;5;241m.\u001b[39misNotNull()) \u001b[38;5;241m|\u001b[39m\n\u001b[0;32m     66\u001b[0m     (col(\u001b[38;5;124m'\u001b[39m\u001b[38;5;124mity\u001b[39m\u001b[38;5;124m'\u001b[39m)\u001b[38;5;241m.\u001b[39misNotNull()) \u001b[38;5;241m|\u001b[39m\n\u001b[0;32m     67\u001b[0m     (col(\u001b[38;5;124m'\u001b[39m\u001b[38;5;124mplumetis\u001b[39m\u001b[38;5;124m'\u001b[39m)\u001b[38;5;241m.\u001b[39misNotNull()) \u001b[38;5;241m|\u001b[39m\n\u001b[0;32m     68\u001b[0m     (col(\u001b[38;5;124m'\u001b[39m\u001b[38;5;124mpolyviscous\u001b[39m\u001b[38;5;124m'\u001b[39m)\u001b[38;5;241m.\u001b[39misNotNull()) \u001b[38;5;241m|\u001b[39m\n\u001b[0;32m     69\u001b[0m     (col(\u001b[38;5;124m'\u001b[39m\u001b[38;5;124mdainetto\u001b[39m\u001b[38;5;124m'\u001b[39m)\u001b[38;5;241m.\u001b[39misNotNull()) \u001b[38;5;241m|\u001b[39m\n\u001b[0;32m     70\u001b[0m     (col(\u001b[38;5;124m'\u001b[39m\u001b[38;5;124mwebbing\u001b[39m\u001b[38;5;124m'\u001b[39m)\u001b[38;5;241m.\u001b[39misNotNull()) \u001b[38;5;241m|\u001b[39m\n\u001b[0;32m     71\u001b[0m     (col(\u001b[38;5;124m'\u001b[39m\u001b[38;5;124mfoam rubber\u001b[39m\u001b[38;5;124m'\u001b[39m)\u001b[38;5;241m.\u001b[39misNotNull()) \u001b[38;5;241m|\u001b[39m\n\u001b[0;32m     72\u001b[0m     (col(\u001b[38;5;124m'\u001b[39m\u001b[38;5;124mchanel\u001b[39m\u001b[38;5;124m'\u001b[39m)\u001b[38;5;241m.\u001b[39misNotNull()) \u001b[38;5;241m|\u001b[39m\n\u001b[0;32m     73\u001b[0m     (col(\u001b[38;5;124m'\u001b[39m\u001b[38;5;124mmarocain\u001b[39m\u001b[38;5;124m'\u001b[39m)\u001b[38;5;241m.\u001b[39misNotNull()) \u001b[38;5;241m|\u001b[39m\n\u001b[0;32m     74\u001b[0m     (col(\u001b[38;5;124m'\u001b[39m\u001b[38;5;124mmacrame\u001b[39m\u001b[38;5;124m'\u001b[39m)\u001b[38;5;241m.\u001b[39misNotNull()) \u001b[38;5;241m|\u001b[39m\n\u001b[0;32m     75\u001b[0m     (col(\u001b[38;5;124m'\u001b[39m\u001b[38;5;124membossed\u001b[39m\u001b[38;5;124m'\u001b[39m)\u001b[38;5;241m.\u001b[39misNotNull()) \u001b[38;5;241m|\u001b[39m\n\u001b[0;32m     76\u001b[0m     (col(\u001b[38;5;124m'\u001b[39m\u001b[38;5;124mheavy jeans\u001b[39m\u001b[38;5;124m'\u001b[39m)\u001b[38;5;241m.\u001b[39misNotNull()) \u001b[38;5;241m|\u001b[39m\n\u001b[0;32m     77\u001b[0m     (col(\u001b[38;5;124m'\u001b[39m\u001b[38;5;124mnylon\u001b[39m\u001b[38;5;124m'\u001b[39m)\u001b[38;5;241m.\u001b[39misNotNull()) \u001b[38;5;241m|\u001b[39m\n\u001b[0;32m     78\u001b[0m     (col(\u001b[38;5;124m'\u001b[39m\u001b[38;5;124mtencel\u001b[39m\u001b[38;5;124m'\u001b[39m)\u001b[38;5;241m.\u001b[39misNotNull()) \u001b[38;5;241m|\u001b[39m\n\u001b[0;32m     79\u001b[0m     (col(\u001b[38;5;124m'\u001b[39m\u001b[38;5;124mpaillettes\u001b[39m\u001b[38;5;124m'\u001b[39m)\u001b[38;5;241m.\u001b[39misNotNull()) \u001b[38;5;241m|\u001b[39m\n\u001b[0;32m     80\u001b[0m     (col(\u001b[38;5;124m'\u001b[39m\u001b[38;5;124mchambree\u001b[39m\u001b[38;5;124m'\u001b[39m)\u001b[38;5;241m.\u001b[39misNotNull()) \u001b[38;5;241m|\u001b[39m\n\u001b[0;32m     81\u001b[0m     (col(\u001b[38;5;124m'\u001b[39m\u001b[38;5;124mchine crepe\u001b[39m\u001b[38;5;124m'\u001b[39m)\u001b[38;5;241m.\u001b[39misNotNull()) \u001b[38;5;241m|\u001b[39m\n\u001b[0;32m     82\u001b[0m     (col(\u001b[38;5;124m'\u001b[39m\u001b[38;5;124mmuslin cotton or silk\u001b[39m\u001b[38;5;124m'\u001b[39m)\u001b[38;5;241m.\u001b[39misNotNull()) \u001b[38;5;241m|\u001b[39m\n\u001b[0;32m     83\u001b[0m     (col(\u001b[38;5;124m'\u001b[39m\u001b[38;5;124mlinen\u001b[39m\u001b[38;5;124m'\u001b[39m)\u001b[38;5;241m.\u001b[39misNotNull()) \u001b[38;5;241m|\u001b[39m\n\u001b[0;32m     84\u001b[0m     (col(\u001b[38;5;124m'\u001b[39m\u001b[38;5;124mtactel\u001b[39m\u001b[38;5;124m'\u001b[39m)\u001b[38;5;241m.\u001b[39misNotNull()) \u001b[38;5;241m|\u001b[39m\n\u001b[0;32m     85\u001b[0m     (col(\u001b[38;5;124m'\u001b[39m\u001b[38;5;124mviscose twill\u001b[39m\u001b[38;5;124m'\u001b[39m)\u001b[38;5;241m.\u001b[39misNotNull()) \u001b[38;5;241m|\u001b[39m\n\u001b[0;32m     86\u001b[0m     (col(\u001b[38;5;124m'\u001b[39m\u001b[38;5;124mcloth\u001b[39m\u001b[38;5;124m'\u001b[39m)\u001b[38;5;241m.\u001b[39misNotNull()) \u001b[38;5;241m|\u001b[39m\n\u001b[0;32m     87\u001b[0m     (col(\u001b[38;5;124m'\u001b[39m\u001b[38;5;124mmohair\u001b[39m\u001b[38;5;124m'\u001b[39m)\u001b[38;5;241m.\u001b[39misNotNull()) \u001b[38;5;241m|\u001b[39m\n\u001b[0;32m     88\u001b[0m     (col(\u001b[38;5;124m'\u001b[39m\u001b[38;5;124mmutton\u001b[39m\u001b[38;5;124m'\u001b[39m)\u001b[38;5;241m.\u001b[39misNotNull()) \u001b[38;5;241m|\u001b[39m\n\u001b[0;32m     89\u001b[0m     (col(\u001b[38;5;124m'\u001b[39m\u001b[38;5;124mscottish\u001b[39m\u001b[38;5;124m'\u001b[39m)\u001b[38;5;241m.\u001b[39misNotNull()) \u001b[38;5;241m|\u001b[39m\n\u001b[0;32m     90\u001b[0m     (col(\u001b[38;5;124m'\u001b[39m\u001b[38;5;124mmilano stitch\u001b[39m\u001b[38;5;124m'\u001b[39m)\u001b[38;5;241m.\u001b[39misNotNull()) \u001b[38;5;241m|\u001b[39m\n\u001b[0;32m     91\u001b[0m     (col(\u001b[38;5;124m'\u001b[39m\u001b[38;5;124mdevore\u001b[39m\u001b[38;5;124m'\u001b[39m)\u001b[38;5;241m.\u001b[39misNotNull()) \u001b[38;5;241m|\u001b[39m\n\u001b[0;32m     92\u001b[0m     (col(\u001b[38;5;124m'\u001b[39m\u001b[38;5;124mhron\u001b[39m\u001b[38;5;124m'\u001b[39m)\u001b[38;5;241m.\u001b[39misNotNull()) \u001b[38;5;241m|\u001b[39m\n\u001b[0;32m     93\u001b[0m     (col(\u001b[38;5;124m'\u001b[39m\u001b[38;5;124mottoman\u001b[39m\u001b[38;5;124m'\u001b[39m)\u001b[38;5;241m.\u001b[39misNotNull()) \u001b[38;5;241m|\u001b[39m\n\u001b[0;32m     94\u001b[0m     (col(\u001b[38;5;124m'\u001b[39m\u001b[38;5;124mfluid\u001b[39m\u001b[38;5;124m'\u001b[39m)\u001b[38;5;241m.\u001b[39misNotNull()) \u001b[38;5;241m|\u001b[39m\n\u001b[0;32m     95\u001b[0m     (col(\u001b[38;5;124m'\u001b[39m\u001b[38;5;124mflamed\u001b[39m\u001b[38;5;124m'\u001b[39m)\u001b[38;5;241m.\u001b[39misNotNull()) \u001b[38;5;241m|\u001b[39m\n\u001b[0;32m     96\u001b[0m     (col(\u001b[38;5;124m'\u001b[39m\u001b[38;5;124mfluid polyviscous\u001b[39m\u001b[38;5;124m'\u001b[39m)\u001b[38;5;241m.\u001b[39misNotNull()) \u001b[38;5;241m|\u001b[39m\n\u001b[0;32m     97\u001b[0m     (col(\u001b[38;5;124m'\u001b[39m\u001b[38;5;124mshiny jersey\u001b[39m\u001b[38;5;124m'\u001b[39m)\u001b[38;5;241m.\u001b[39misNotNull()) \u001b[38;5;241m|\u001b[39m\n\u001b[0;32m     98\u001b[0m     (col(\u001b[38;5;124m'\u001b[39m\u001b[38;5;124mgoose\u001b[39m\u001b[38;5;124m'\u001b[39m)\u001b[38;5;241m.\u001b[39misNotNull())\n\u001b[0;32m     99\u001b[0m )\n\u001b[0;32m    101\u001b[0m \u001b[38;5;66;03m# Show the filtered DataFrame\u001b[39;00m\n\u001b[0;32m    102\u001b[0m valid_trends_df\u001b[38;5;241m.\u001b[39mshow()\n",
      "\u001b[1;31mNameError\u001b[0m: name 'combined_df' is not defined"
     ]
    }
   ],
   "source": [
    "# Filter rows where at least one trend column is not null\n",
    "valid_trends_df = combined_df.filter(\n",
    "    (col('long sleeve').isNotNull()) |\n",
    "    (col('culottes').isNotNull()) |\n",
    "    (col('miniskirt').isNotNull()) |\n",
    "    (col('short sleeves').isNotNull()) |\n",
    "    (col('printed shirt').isNotNull()) |\n",
    "    (col('short cardigan').isNotNull()) |\n",
    "    (col('solid color top').isNotNull()) |\n",
    "    (col('trapeze dress').isNotNull()) |\n",
    "    (col('sleeveless').isNotNull()) |\n",
    "    (col('long cardigan').isNotNull()) |\n",
    "    (col('sheath dress').isNotNull()) |\n",
    "    (col('short coat').isNotNull()) |\n",
    "    (col('medium coat').isNotNull()) |\n",
    "    (col('doll dress').isNotNull()) |\n",
    "    (col('long dress').isNotNull()) |\n",
    "    (col('shorts').isNotNull()) |\n",
    "    (col('long coat').isNotNull()) |\n",
    "    (col('jumpsuit').isNotNull()) |\n",
    "    (col('drop sleeve').isNotNull()) |\n",
    "    (col('patterned top').isNotNull()) |\n",
    "    (col('kimono dress').isNotNull()) |\n",
    "    (col('medium cardigan').isNotNull()) |\n",
    "    (col('shirt dress').isNotNull()) |\n",
    "    (col('maxi').isNotNull()) |\n",
    "    (col('capris').isNotNull()) |\n",
    "    (col('gitana skirt').isNotNull()) |\n",
    "    (col('long duster').isNotNull()) |\n",
    "    (col('yellow').isNotNull()) |\n",
    "    (col('brown').isNotNull()) |\n",
    "    (col('blue').isNotNull()) |\n",
    "    (col('grey').isNotNull()) |\n",
    "    (col('green').isNotNull()) |\n",
    "    (col('black').isNotNull()) |\n",
    "    (col('red').isNotNull()) |\n",
    "    (col('white').isNotNull()) |\n",
    "    (col('orange').isNotNull()) |\n",
    "    (col('violet').isNotNull()) |\n",
    "    (col('acrylic').isNotNull()) |\n",
    "    (col('scuba crepe').isNotNull()) |\n",
    "    (col('tulle').isNotNull()) |\n",
    "    (col('angora').isNotNull()) |\n",
    "    (col('faux leather').isNotNull()) |\n",
    "    (col('georgette').isNotNull()) |\n",
    "    (col('lurex').isNotNull()) |\n",
    "    (col('nice').isNotNull()) |\n",
    "    (col('crepe').isNotNull()) |\n",
    "    (col('satin cotton').isNotNull()) |\n",
    "    (col('silky satin').isNotNull()) |\n",
    "    (col('fur').isNotNull()) |\n",
    "    (col('matte jersey').isNotNull()) |\n",
    "    (col('plisse').isNotNull()) |\n",
    "    (col('velvet').isNotNull()) |\n",
    "    (col('lace').isNotNull()) |\n",
    "    (col('cotton').isNotNull()) |\n",
    "    (col('piquet').isNotNull()) |\n",
    "    (col('plush').isNotNull()) |\n",
    "    (col('bengaline').isNotNull()) |\n",
    "    (col('jacquard').isNotNull()) |\n",
    "    (col('frise').isNotNull()) |\n",
    "    (col('technical').isNotNull()) |\n",
    "    (col('cady').isNotNull()) |\n",
    "    (col('dark jeans').isNotNull()) |\n",
    "    (col('light jeans').isNotNull()) |\n",
    "    (col('ity').isNotNull()) |\n",
    "    (col('plumetis').isNotNull()) |\n",
    "    (col('polyviscous').isNotNull()) |\n",
    "    (col('dainetto').isNotNull()) |\n",
    "    (col('webbing').isNotNull()) |\n",
    "    (col('foam rubber').isNotNull()) |\n",
    "    (col('chanel').isNotNull()) |\n",
    "    (col('marocain').isNotNull()) |\n",
    "    (col('macrame').isNotNull()) |\n",
    "    (col('embossed').isNotNull()) |\n",
    "    (col('heavy jeans').isNotNull()) |\n",
    "    (col('nylon').isNotNull()) |\n",
    "    (col('tencel').isNotNull()) |\n",
    "    (col('paillettes').isNotNull()) |\n",
    "    (col('chambree').isNotNull()) |\n",
    "    (col('chine crepe').isNotNull()) |\n",
    "    (col('muslin cotton or silk').isNotNull()) |\n",
    "    (col('linen').isNotNull()) |\n",
    "    (col('tactel').isNotNull()) |\n",
    "    (col('viscose twill').isNotNull()) |\n",
    "    (col('cloth').isNotNull()) |\n",
    "    (col('mohair').isNotNull()) |\n",
    "    (col('mutton').isNotNull()) |\n",
    "    (col('scottish').isNotNull()) |\n",
    "    (col('milano stitch').isNotNull()) |\n",
    "    (col('devore').isNotNull()) |\n",
    "    (col('hron').isNotNull()) |\n",
    "    (col('ottoman').isNotNull()) |\n",
    "    (col('fluid').isNotNull()) |\n",
    "    (col('flamed').isNotNull()) |\n",
    "    (col('fluid polyviscous').isNotNull()) |\n",
    "    (col('shiny jersey').isNotNull()) |\n",
    "    (col('goose').isNotNull())\n",
    ")\n",
    "\n",
    "# Show the filtered DataFrame\n",
    "valid_trends_df.show()\n"
   ]
  },
  {
   "cell_type": "code",
   "execution_count": 5,
   "id": "002c24cc-2dd8-4961-a52c-caf947a43421",
   "metadata": {},
   "outputs": [
    {
     "name": "stdout",
     "output_type": "stream",
     "text": [
      "+----------+--------+------+-------------+---+-----------+--------+---------+-------------+-------------+--------------+---------------+-------------+----------+-------------+------------+----------+-----------+----------+----------+------+---------+--------+-----------+-------------+------------+---------------+-----------+----+------+------------+-----------+------+-----+----+----+-----+-----+---+-----+------+------+-------+-----------+-----+------+------------+---------+-----+----+-----+------------+-----------+---+------------+------+------+----+------+------+-----+---------+--------+-----+---------+----+----------+-----------+---+--------+-----------+--------+-------+-----------+------+--------+-------+--------+-----------+-----+------+----------+--------+-----------+---------------------+-----+------+-------------+-----+------+------+--------+-------------+------+----+-------+-----+------+-----------------+------------+-----+\n",
      "|      date|customer|retail|external_code|qty|long sleeve|culottes|miniskirt|short sleeves|printed shirt|short cardigan|solid color top|trapeze dress|sleeveless|long cardigan|sheath dress|short coat|medium coat|doll dress|long dress|shorts|long coat|jumpsuit|drop sleeve|patterned top|kimono dress|medium cardigan|shirt dress|maxi|capris|gitana skirt|long duster|yellow|brown|blue|grey|green|black|red|white|orange|violet|acrylic|scuba crepe|tulle|angora|faux leather|georgette|lurex|nice|crepe|satin cotton|silky satin|fur|matte jersey|plisse|velvet|lace|cotton|piquet|plush|bengaline|jacquard|frise|technical|cady|dark jeans|light jeans|ity|plumetis|polyviscous|dainetto|webbing|foam rubber|chanel|marocain|macrame|embossed|heavy jeans|nylon|tencel|paillettes|chambree|chine crepe|muslin cotton or silk|linen|tactel|viscose twill|cloth|mohair|mutton|scottish|milano stitch|devore|hron|ottoman|fluid|flamed|fluid polyviscous|shiny jersey|goose|\n",
      "+----------+--------+------+-------------+---+-----------+--------+---------+-------------+-------------+--------------+---------------+-------------+----------+-------------+------------+----------+-----------+----------+----------+------+---------+--------+-----------+-------------+------------+---------------+-----------+----+------+------------+-----------+------+-----+----+----+-----+-----+---+-----+------+------+-------+-----------+-----+------+------------+---------+-----+----+-----+------------+-----------+---+------------+------+------+----+------+------+-----+---------+--------+-----+---------+----+----------+-----------+---+--------+-----------+--------+-------+-----------+------+--------+-------+--------+-----------+-----+------+----------+--------+-----------+---------------------+-----+------+-------------+-----+------+------+--------+-------------+------+----+-------+-----+------+-----------------+------------+-----+\n",
      "|2017-08-14|       7|     3|          150|  1|         52|      60|       57|           54|           65|            63|             12|         28.2|        62|           58|          62|        38|         19|        50|        81|    60|       24|      38|         67|           82|          66|              0|       83.6|  72|    52|           0|         49|    94|   60|  81|  17|   75|   25| 59|   92|    53|    62|     72|         35|   66|    47|          46|       31|   22|  21|   38|          18|         39| 44|          18|    66|    55|  74|    75|    33|   44|       50|      58|   56|       81|  25|        65|         76| 67|      10|         -1|       0|     69|         53|    60|      62|     75|      65|         31|   79|    46|        15|       0|         27|                   -1|   74|    60|            0|   86|    38|    54|      61|            0|    24|  29|     73|   82|    67|               -1|          33|   27|\n",
      "|2017-07-17|      47|    14|          357|  1|         44|      78|      100|           77|           68|            55|             64|         49.4|        84|           51|          90|        25|         25|        49|        71|    74|       17|      30|         35|           84|          55|              0|       81.0|  82|    63|           0|         65|    89|   60|  82|  16|   75|   25| 58|   84|    57|    57|     83|          0|   71|    53|          30|       27|   19|  21|   37|          63|         40| 41|          18|    65|    59|  73|    76|    27|   42|       55|      65|   59|       81|  22|        42|         60| 86|      21|         -1|      92|     48|         78|    59|      70|     79|      66|         24|   76|    66|        19|       0|         14|                   -1|   81|    49|            0|   90|    40|    52|      70|            0|    27|  16|     64|   86|    54|               -1|           0|   25|\n",
      "|2017-08-21|      72|     2|          455|  1|         54|      92|       49|           59|           62|            56|             37|         61.0|        67|           60|          74|        34|         19|        68|        69|    56|       23|      38|         66|           71|          50|              0|       78.6|  71|    53|           0|         53|    93|   60|  82|  17|   73|   25| 60|   84|    56|    62|     70|          0|   68|    47|          40|       31|   21|  21|   36|          42|         29| 44|           0|    56|    51|  75|    75|    27|   42|       33|      57|   56|       85|  23|        69|         76| 77|      45|         -1|       0|     52|         70|    65|      62|     63|      57|         23|   82|    56|        12|       0|         27|                   -1|   70|    39|            0|   86|    42|    55|      60|           37|    23|  17|     63|   81|    81|               -1|           0|   27|\n",
      "|2017-03-27|      89|    21|          204|  1|         46|      57|       63|           57|           69|            42|             36|         33.4|        72|           51|          82|        24|         33|        60|        77|    54|       24|      34|         54|           83|          59|              0|       80.4|  73|    54|           0|         37|    85|   60|  74|  17|   74|   25| 58|   80|    55|    63|     71|         17|   74|    56|          37|       28|   22|  19|   37|          41|         28| 44|          17|    52|    53|  79|    76|    39|   40|       32|      67|   67|       85|  30|        57|         77| 79|      34|         -1|       0|     54|         46|    66|      62|     64|      59|         38|   77|    60|        15|       0|         45|                   -1|   73|    44|           47|   85|    40|    48|      64|            0|    21|  27|     71|   89|    54|               -1|           0|   28|\n",
      "|2017-03-27|      89|    21|          241|  1|         46|      57|       63|           57|           69|            42|             36|         33.4|        72|           51|          82|        24|         33|        60|        77|    54|       24|      34|         54|           83|          59|              0|       80.4|  73|    54|           0|         37|    85|   60|  74|  17|   74|   25| 58|   80|    55|    63|     71|         17|   74|    56|          37|       28|   22|  19|   37|          41|         28| 44|          17|    52|    53|  79|    76|    39|   40|       32|      67|   67|       85|  30|        57|         77| 79|      34|         -1|       0|     54|         46|    66|      62|     64|      59|         38|   77|    60|        15|       0|         45|                   -1|   73|    44|           47|   85|    40|    48|      64|            0|    21|  27|     71|   89|    54|               -1|           0|   28|\n",
      "|2017-07-03|      89|    21|          217|  1|         42|      87|       52|           79|           66|            55|             52|         56.6|        90|           39|          66|        25|         51|        52|        65|    79|       18|      31|         46|           68|          59|              0|       82.8|  79|    68|           0|         45|    88|   63|  79|  16|   78|   25| 59|   82|    59|    57|     74|         19|   62|    57|          33|       33|   28|  20|   38|          13|         31| 40|          55|    73|    54|  72|    80|    32|   44|       63|      66|   55|       74|  21|        60|         55| 71|      37|         -1|       0|     72|         63|    62|      74|     74|      68|          8|   74|    75|        11|      64|         21|                   -1|   85|    39|           51|   87|    37|    57|      57|            0|    36|  32|     65|   80|    59|               -1|           0|   26|\n",
      "|2017-08-28|      95|    10|          392|  1|         55|      54|       37|           73|           66|            49|             24|         32.4|        60|           66|          75|        40|         19|        45|        71|    55|       31|      39|         44|           72|          54|              0|       85.0|  71|    48|           0|         57|    95|   60|  83|  16|   77|   24| 59|   83|    59|    59|     71|          0|   72|    54|          43|       28|   25|  19|   38|          24|         39| 50|          52|    54|    56|  73|    75|    42|   40|       33|      69|   62|       81|  26|        52|         67| 78|      20|         -1|       0|     57|         73|    69|      61|     65|      67|         31|   74|    61|        11|       0|         34|                   -1|   70|    41|           48|   88|    48|    65|      62|           37|    24|  23|     70|   84|    26|               -1|           0|   31|\n",
      "|2017-08-07|      95|    10|          373|  1|         54|      64|       43|           67|           62|            31|             48|         34.8|        67|           62|          85|        26|          9|        61|        73|    64|       23|      37|         87|           82|          53|             17|       80.2|  72|    58|           0|         33|    93|   59|  80|  17|   76|   25| 58|   85|    56|    58|     77|         17|   70|    50|          42|       35|   24|  20|   40|          48|         19| 44|          86|    61|    56|  76|    73|    34|   46|       46|      64|   57|       81|  18|        66|         70| 84|      10|         -1|       0|     70|         67|    62|      64|     72|      60|          8|   75|    64|        14|       0|         26|                   -1|   79|    33|            0|   84|    46|    46|      61|           36|    28|  20|     79|   82|    40|               -1|          32|   27|\n",
      "|2017-07-17|     103|    20|          483|  1|         44|      78|      100|           77|           68|            55|             64|         49.4|        84|           51|          90|        25|         25|        49|        71|    74|       17|      30|         35|           84|          55|              0|       81.0|  82|    63|           0|         65|    89|   60|  82|  16|   75|   25| 58|   84|    57|    57|     83|          0|   71|    53|          30|       27|   19|  21|   37|          63|         40| 41|          18|    65|    59|  73|    76|    27|   42|       55|      65|   59|       81|  22|        42|         60| 86|      21|         -1|      92|     48|         78|    59|      70|     79|      66|         24|   76|    66|        19|       0|         14|                   -1|   81|    49|            0|   90|    40|    52|      70|            0|    27|  16|     64|   86|    54|               -1|           0|   25|\n",
      "|2017-06-19|     118|     6|           59|  1|         42|      87|       37|           75|           63|            40|             12|         76.6|        92|           27|          78|        26|         10|        60|        72|    90|       14|      27|         77|           73|          69|             17|       91.8|  88|    78|           0|         33|    88|   60|  76|  15|   75|   25| 58|   83|    62|    60|     73|          0|   65|    51|          28|       31|   16|  19|   35|          30|         10| 40|          17|    72|    47|  72|    80|    30|   42|       56|      65|   54|       78|  21|        60|         66| 63|      15|         -1|       0|     49|         43|    64|      72|     70|      69|         23|   75|    64|        15|       0|         33|                   -1|   90|    53|            0|   88|    35|    63|      55|            0|    36|  14|     56|   81|    41|               -1|           0|   24|\n",
      "|2017-02-06|     162|     6|           80|  1|         50|      49|       49|           47|           67|            29|              0|         31.0|        60|           49|          59|        57|         27|        58|        82|    39|       33|      35|         31|           86|          34|              0|       76.0|  66|    35|           0|         41|    80|   61|  73|  27|   76|   26| 58|   81|    57|    58|     65|         17|   79|    65|          44|       31|   25|  19|   54|          35|         37| 56|          50|    51|    73|  78|    72|    34|   40|       13|      68|   67|       82|  21|        65|         75| 95|      38|         -1|      86|     50|         44|    70|      71|     52|      77|         22|   79|    45|        15|       0|         32|                   -1|   61|    46|           46|   81|    65|    49|      61|           35|    29|  18|     71|   83|    68|               -1|           0|   34|\n",
      "|2017-03-20|     167|     6|          414|  1|         49|      53|       47|           65|           69|            33|              0|         52.8|        78|           58|          52|        36|         14|        40|        78|    50|       29|      34|         11|           73|          46|             16|       78.8|  74|    43|           0|         55|    82|   61|  75|  18|   76|   24| 64|   81|    58|    63|     70|          0|   84|    57|          40|       28|   23|  19|   38|          52|         28| 46|          66|    56|    53|  75|    76|    35|   36|       54|      61|   66|       83|  22|        63|         63| 78|      33|         -1|       0|     47|         63|    64|      69|     61|      78|         37|   81|    45|        14|       0|         19|                   -1|   72|    41|            0|   88|    54|    51|      58|            0|    26|  29|     69|   84|    57|               -1|           0|   30|\n",
      "|2017-07-17|     200|    10|          916|  1|         44|      78|      100|           77|           68|            55|             64|         49.4|        84|           51|          90|        25|         25|        49|        71|    74|       17|      30|         35|           84|          55|              0|       81.0|  82|    63|           0|         65|    89|   60|  82|  16|   75|   25| 58|   84|    57|    57|     83|          0|   71|    53|          30|       27|   19|  21|   37|          63|         40| 41|          18|    65|    59|  73|    76|    27|   42|       55|      65|   59|       81|  22|        42|         60| 86|      21|         -1|      92|     48|         78|    59|      70|     79|      66|         24|   76|    66|        19|       0|         14|                   -1|   81|    49|            0|   90|    40|    52|      70|            0|    27|  16|     64|   86|    54|               -1|           0|   25|\n",
      "|2017-06-26|     232|     7|          852|  1|         42|      77|       52|           57|           62|            65|             77|         56.6|        76|           41|          50|        23|         30|        53|        67|    77|       17|      31|         23|           89|          66|              0|       81.0|  81|    70|           0|         40|    89|   66|  81|  16|   75|   25| 63|   86|    64|    58|     76|          0|   65|    58|          26|       33|   19|  20|   37|          51|         31| 43|          55|    75|    51|  73|    79|    46|   43|       42|      80|   60|       79|  18|        61|         68| 84|      37|         -1|       0|     56|         67|    63|      71|     65|      77|         25|   80|    80|        18|      64|         49|                   -1|   82|    52|           51|   94|    36|    59|      58|            0|    23|  18|     56|   81|    55|               -1|          34|   25|\n",
      "|2017-06-26|     232|     7|          645|  1|         42|      77|       52|           57|           62|            65|             77|         56.6|        76|           41|          50|        23|         30|        53|        67|    77|       17|      31|         23|           89|          66|              0|       81.0|  81|    70|           0|         40|    89|   66|  81|  16|   75|   25| 63|   86|    64|    58|     76|          0|   65|    58|          26|       33|   19|  20|   37|          51|         31| 43|          55|    75|    51|  73|    79|    46|   43|       42|      80|   60|       79|  18|        61|         68| 84|      37|         -1|       0|     56|         67|    63|      71|     65|      77|         25|   80|    80|        18|      64|         49|                   -1|   82|    52|           51|   94|    36|    59|      58|            0|    23|  18|     56|   81|    55|               -1|          34|   25|\n",
      "|2017-06-26|     232|     7|          928|  1|         42|      77|       52|           57|           62|            65|             77|         56.6|        76|           41|          50|        23|         30|        53|        67|    77|       17|      31|         23|           89|          66|              0|       81.0|  81|    70|           0|         40|    89|   66|  81|  16|   75|   25| 63|   86|    64|    58|     76|          0|   65|    58|          26|       33|   19|  20|   37|          51|         31| 43|          55|    75|    51|  73|    79|    46|   43|       42|      80|   60|       79|  18|        61|         68| 84|      37|         -1|       0|     56|         67|    63|      71|     65|      77|         25|   80|    80|        18|      64|         49|                   -1|   82|    52|           51|   94|    36|    59|      58|            0|    23|  18|     56|   81|    55|               -1|          34|   25|\n",
      "|2017-06-26|     232|     7|          471|  2|         42|      77|       52|           57|           62|            65|             77|         56.6|        76|           41|          50|        23|         30|        53|        67|    77|       17|      31|         23|           89|          66|              0|       81.0|  81|    70|           0|         40|    89|   66|  81|  16|   75|   25| 63|   86|    64|    58|     76|          0|   65|    58|          26|       33|   19|  20|   37|          51|         31| 43|          55|    75|    51|  73|    79|    46|   43|       42|      80|   60|       79|  18|        61|         68| 84|      37|         -1|       0|     56|         67|    63|      71|     65|      77|         25|   80|    80|        18|      64|         49|                   -1|   82|    52|           51|   94|    36|    59|      58|            0|    23|  18|     56|   81|    55|               -1|          34|   25|\n",
      "|2017-06-26|     232|     7|          469|  1|         42|      77|       52|           57|           62|            65|             77|         56.6|        76|           41|          50|        23|         30|        53|        67|    77|       17|      31|         23|           89|          66|              0|       81.0|  81|    70|           0|         40|    89|   66|  81|  16|   75|   25| 63|   86|    64|    58|     76|          0|   65|    58|          26|       33|   19|  20|   37|          51|         31| 43|          55|    75|    51|  73|    79|    46|   43|       42|      80|   60|       79|  18|        61|         68| 84|      37|         -1|       0|     56|         67|    63|      71|     65|      77|         25|   80|    80|        18|      64|         49|                   -1|   82|    52|           51|   94|    36|    59|      58|            0|    23|  18|     56|   81|    55|               -1|          34|   25|\n",
      "|2017-06-26|     232|     7|          615|  1|         42|      77|       52|           57|           62|            65|             77|         56.6|        76|           41|          50|        23|         30|        53|        67|    77|       17|      31|         23|           89|          66|              0|       81.0|  81|    70|           0|         40|    89|   66|  81|  16|   75|   25| 63|   86|    64|    58|     76|          0|   65|    58|          26|       33|   19|  20|   37|          51|         31| 43|          55|    75|    51|  73|    79|    46|   43|       42|      80|   60|       79|  18|        61|         68| 84|      37|         -1|       0|     56|         67|    63|      71|     65|      77|         25|   80|    80|        18|      64|         49|                   -1|   82|    52|           51|   94|    36|    59|      58|            0|    23|  18|     56|   81|    55|               -1|          34|   25|\n",
      "|2017-06-26|     232|     7|          201|  1|         42|      77|       52|           57|           62|            65|             77|         56.6|        76|           41|          50|        23|         30|        53|        67|    77|       17|      31|         23|           89|          66|              0|       81.0|  81|    70|           0|         40|    89|   66|  81|  16|   75|   25| 63|   86|    64|    58|     76|          0|   65|    58|          26|       33|   19|  20|   37|          51|         31| 43|          55|    75|    51|  73|    79|    46|   43|       42|      80|   60|       79|  18|        61|         68| 84|      37|         -1|       0|     56|         67|    63|      71|     65|      77|         25|   80|    80|        18|      64|         49|                   -1|   82|    52|           51|   94|    36|    59|      58|            0|    23|  18|     56|   81|    55|               -1|          34|   25|\n",
      "+----------+--------+------+-------------+---+-----------+--------+---------+-------------+-------------+--------------+---------------+-------------+----------+-------------+------------+----------+-----------+----------+----------+------+---------+--------+-----------+-------------+------------+---------------+-----------+----+------+------------+-----------+------+-----+----+----+-----+-----+---+-----+------+------+-------+-----------+-----+------+------------+---------+-----+----+-----+------------+-----------+---+------------+------+------+----+------+------+-----+---------+--------+-----+---------+----+----------+-----------+---+--------+-----------+--------+-------+-----------+------+--------+-------+--------+-----------+-----+------+----------+--------+-----------+---------------------+-----+------+-------------+-----+------+------+--------+-------------+------+----+-------+-----+------+-----------------+------------+-----+\n",
      "only showing top 20 rows\n",
      "\n",
      "Number of rows: 114561\n"
     ]
    }
   ],
   "source": [
    "combined_df = customer_df.join(trends_df, on='date', how='inner')\n",
    "combined_df.show()\n",
    "# Using count() method\n",
    "num_rows = combined_df.count()\n",
    "\n",
    "print(f\"Number of rows: {num_rows}\")"
   ]
  },
  {
   "cell_type": "code",
   "execution_count": 7,
   "id": "d2c869bc-a5eb-4a87-80df-04e36f7d4825",
   "metadata": {},
   "outputs": [
    {
     "name": "stdout",
     "output_type": "stream",
     "text": [
      "+---+-------------+------+------+-----------+------+--------------+-----------+------------+-------+---+---+---+---+---+---+---+---+---+---+---+---+\n",
      "|_c0|external_code|retail|season|   category| color|    image_path|     fabric|release_date|restock|  0|  1|  2|  3|  4|  5|  6|  7|  8|  9| 10| 11|\n",
      "+---+-------------+------+------+-----------+------+--------------+-----------+------------+-------+---+---+---+---+---+---+---+---+---+---+---+---+\n",
      "|  0|            5|    36|  SS17|long sleeve|  grey|PE17/00005.png|    acrylic|    11/28/16|     22|  1|  3|  1|  1|  2|  1|  0|  0|  2|  0|  0|  0|\n",
      "|  1|            2|    51|  SS17|long sleeve|violet|PE17/00002.png|    acrylic|    11/28/16|     17|  1|  1|  1|  0|  0|  2|  0|  0|  0|  1|  1|  0|\n",
      "|  2|            5|    10|  SS17|long sleeve|  grey|PE17/00005.png|    acrylic|    11/28/16|     15|  1|  3|  1|  0|  1|  1|  1|  1|  1|  0|  0|  1|\n",
      "|  3|            9|    41|  SS17|   culottes|yellow|PE17/00009.png|scuba crepe|    11/28/16|     32|  1|  1|  1|  1|  0|  0|  0|  1|  0|  1|  0|  0|\n",
      "|  4|            5|    13|  SS17|long sleeve|  grey|PE17/00005.png|    acrylic|    11/28/16|     26|  1|  2|  4|  0|  3|  0|  2|  1|  0|  0|  0|  0|\n",
      "+---+-------------+------+------+-----------+------+--------------+-----------+------------+-------+---+---+---+---+---+---+---+---+---+---+---+---+\n",
      "only showing top 5 rows\n",
      "\n",
      "+-------------+------+---+---+---+---+---+---+---+---+---+---+---+---+------------------+\n",
      "|external_code|retail|  0|  1|  2|  3|  4|  5|  6|  7|  8|  9| 10| 11|             price|\n",
      "+-------------+------+---+---+---+---+---+---+---+---+---+---+---+---+------------------+\n",
      "|            5|    36|0.0|0.0|0.0|0.0|0.0|0.0|0.0|0.0|0.0|0.0|0.0|0.0|0.0549442093112735|\n",
      "|            2|    51|0.5|0.0|0.0|0.0|0.0|0.0|0.0|0.0|0.0|0.0|0.2|0.2|0.0549442093112735|\n",
      "|            5|    10|0.0|0.0|0.0|0.0|0.0|0.0|0.0|0.0|0.0|0.0|0.0|0.0|0.0549442093112735|\n",
      "|            9|    41|0.0|0.0|0.0|0.0|0.0|0.0|0.0|0.0|0.0|0.0|0.0|0.0|0.0439509701533556|\n",
      "|            5|    13|0.0|0.0|0.0|0.0|0.0|0.0|0.0|0.0|0.0|0.0|0.0|0.0|0.0549442093112735|\n",
      "+-------------+------+---+---+---+---+---+---+---+---+---+---+---+---+------------------+\n",
      "only showing top 5 rows\n",
      "\n"
     ]
    }
   ],
   "source": [
    "# Load customer data\n",
    "sales_df = spark.read.csv(\"C:/Documents/m5-sales-forecasting/data/raw - Copy/salesC.csv\", header=True, inferSchema=True)\n",
    "\n",
    "# Load trends data\n",
    "discount_df = spark.read.csv(\"C:/Documents/m5-sales-forecasting/data/raw - Copy/price_discount_seriesC.csv\", header=True, inferSchema=True)\n",
    "\n",
    "# Show sample of data to confirm load\n",
    "sales_df.show(5)\n",
    "discount_df.show(5)"
   ]
  },
  {
   "cell_type": "code",
   "execution_count": 8,
   "id": "366d08c8-e8a8-44ed-8f96-8a10938af723",
   "metadata": {},
   "outputs": [
    {
     "name": "stdout",
     "output_type": "stream",
     "text": [
      "+-------------+------+---+------+-------------+------+--------------+-----------+------------+-------+---+---+---+---+---+---+---+---+---+---+---+---+----+----+----+---+----+----+----+----+----+----+----+----+------------------+\n",
      "|external_code|retail|_c0|season|     category| color|    image_path|     fabric|release_date|restock|  0|  1|  2|  3|  4|  5|  6|  7|  8|  9| 10| 11|   0|   1|   2|  3|   4|   5|   6|   7|   8|   9|  10|  11|             price|\n",
      "+-------------+------+---+------+-------------+------+--------------+-----------+------------+-------+---+---+---+---+---+---+---+---+---+---+---+---+----+----+----+---+----+----+----+----+----+----+----+----+------------------+\n",
      "|            5|    36|  0|  SS17|  long sleeve|  grey|PE17/00005.png|    acrylic|    11/28/16|     22|  1|  3|  1|  1|  2|  1|  0|  0|  2|  0|  0|  0| 0.0| 0.0| 0.0|0.0| 0.0| 0.0| 0.0| 0.0| 0.0| 0.0| 0.0| 0.0|0.0549442093112735|\n",
      "|            2|    51|  1|  SS17|  long sleeve|violet|PE17/00002.png|    acrylic|    11/28/16|     17|  1|  1|  1|  0|  0|  2|  0|  0|  0|  1|  1|  0| 0.5| 0.0| 0.0|0.0| 0.0| 0.0| 0.0| 0.0| 0.0| 0.0| 0.2| 0.2|0.0549442093112735|\n",
      "|            5|    10|  2|  SS17|  long sleeve|  grey|PE17/00005.png|    acrylic|    11/28/16|     15|  1|  3|  1|  0|  1|  1|  1|  1|  1|  0|  0|  1| 0.0| 0.0| 0.0|0.0| 0.0| 0.0| 0.0| 0.0| 0.0| 0.0| 0.0| 0.0|0.0549442093112735|\n",
      "|            9|    41|  3|  SS17|     culottes|yellow|PE17/00009.png|scuba crepe|    11/28/16|     32|  1|  1|  1|  1|  0|  0|  0|  1|  0|  1|  0|  0| 0.0| 0.0| 0.0|0.0| 0.0| 0.0| 0.0| 0.0| 0.0| 0.0| 0.0| 0.0|0.0439509701533556|\n",
      "|            5|    13|  4|  SS17|  long sleeve|  grey|PE17/00005.png|    acrylic|    11/28/16|     26|  1|  2|  4|  0|  3|  0|  2|  1|  0|  0|  0|  0| 0.0| 0.0| 0.0|0.0| 0.0| 0.0| 0.0| 0.0| 0.0| 0.0| 0.0| 0.0|0.0549442093112735|\n",
      "|            5|    41|  5|  SS17|  long sleeve|  grey|PE17/00005.png|    acrylic|    11/28/16|     15|  2|  1|  2|  1|  0|  0|  1|  1|  0|  0|  0|  1|0.25| 0.0| 0.0|0.0| 0.0| 0.0| 0.0| 0.0| 0.0| 0.0| 0.0| 0.0|0.0549442093112735|\n",
      "|            2|    41|  6|  SS17|  long sleeve|violet|PE17/00002.png|    acrylic|    11/28/16|     19|  1|  1|  1|  1|  0|  2|  1|  0|  1|  1|  0|  0| 0.0| 0.0| 0.0|0.0| 0.0| 0.0| 0.0| 0.0| 0.0| 0.0| 0.0| 0.0|0.0549442093112735|\n",
      "|            2|    36|  7|  SS17|  long sleeve|violet|PE17/00002.png|    acrylic|    11/28/16|     15|  1|  0|  2|  1|  0|  0|  0|  1|  0|  1|  1|  1| 0.0| 0.0|0.05|0.0| 0.0| 0.0| 0.0| 0.0| 0.0| 0.0| 0.0| 0.0|0.0549442093112735|\n",
      "|            8|    10|  8|  SS17|  long sleeve| green|PE17/00008.png|    acrylic|    11/28/16|     24|  1|  1|  0|  6|  1|  1|  0|  1|  1|  0|  1|  2| 0.0| 0.0| 0.0|0.0| 0.0| 0.0| 0.0| 0.0| 0.0| 0.0| 0.2| 0.0|0.0549442093112735|\n",
      "|            9|     2|  9|  SS17|     culottes|yellow|PE17/00009.png|scuba crepe|    12/05/16|     21|  2|  1|  1|  0|  1|  0|  1|  0|  0|  2|  0|  0| 0.0| 0.0| 0.0|0.0| 0.0| 0.0| 0.0| 0.0| 0.0| 0.1| 0.1| 0.1|0.0439509701533556|\n",
      "|            8|    22| 10|  SS17|  long sleeve| green|PE17/00008.png|    acrylic|    12/05/16|     15|  1|  0|  1|  1|  0|  1|  0|  1|  1|  0|  0|  0| 0.0| 0.0|0.05|0.0| 0.0| 0.0| 0.0| 0.0| 0.0| 0.0| 0.0| 0.0|0.0549442093112735|\n",
      "|            5|    56| 11|  SS17|  long sleeve|  grey|PE17/00005.png|    acrylic|    12/05/16|     18|  2|  2|  1|  1|  2|  1|  0|  0|  0|  0|  0|  0| 0.0| 0.0| 0.0|0.0| 0.0| 0.0| 0.0| 0.0| 0.0| 0.0| 0.0| 0.0|0.0549442093112735|\n",
      "|            5|     3| 12|  SS17|  long sleeve|  grey|PE17/00005.png|    acrylic|    12/05/16|     63|  4|  7|  5|  8|  1|  3|  5|  2|  3|  2|  0|  0| 0.2| 0.2| 0.0|0.2| 0.2| 0.2| 0.2| 0.2| 0.2|0.28|0.28|0.28|0.0686802616390919|\n",
      "|            2|    16| 13|  SS17|  long sleeve|violet|PE17/00002.png|    acrylic|    12/05/16|     32|  1|  2|  2|  3|  2|  0|  0|  0|  3|  0|  0|  0|0.25|0.25|0.25|0.0|0.25|0.25|0.25|0.25|0.25|0.25|0.25|0.25|0.0732589457483647|\n",
      "|            2|    13| 14|  SS17|  long sleeve|violet|PE17/00002.png|    acrylic|    12/05/16|     17|  1|  2|  2|  0|  0|  1|  1|  0|  1|  0|  0|  0| 0.0| 0.0| 0.0|0.0| 0.0| 0.0| 0.0| 0.0| 0.0| 0.0| 0.0| 0.0|0.0549442093112735|\n",
      "|            9|    19| 15|  SS17|     culottes|yellow|PE17/00009.png|scuba crepe|    12/05/16|     50|  2|  2|  3|  3|  8|  3|  0|  1|  1|  0|  2|  1| 0.0| 0.0| 0.0|0.0| 0.0| 0.0| 0.0| 0.0| 0.0| 0.0| 0.0| 0.0|0.0439509701533556|\n",
      "|            2|    22| 16|  SS17|  long sleeve|violet|PE17/00002.png|    acrylic|    12/05/16|     22|  2|  2|  2|  0|  0|  0|  0|  0|  2|  2|  0|  1| 0.0| 0.0| 0.0|0.0| 0.0| 0.0| 0.0| 0.0| 0.0| 0.0| 0.0| 0.0|0.0549442093112735|\n",
      "|            2|    45| 17|  SS17|  long sleeve|violet|PE17/00002.png|    acrylic|    12/05/16|     16|  1|  1|  1|  0|  0|  0|  1|  0|  1|  1|  0|  0| 0.0| 0.0| 0.0|0.0| 0.0| 0.0| 0.0| 0.0| 0.0| 0.0| 0.0| 0.0|0.0549442093112735|\n",
      "|           16|    22| 18|  SS17|printed shirt|yellow|PE17/00016.png|      tulle|    12/05/16|     21|  1|  0|  1|  1|  0|  1|  2|  0|  1|  1|  3|  0| 0.0| 0.0| 0.0|0.0| 0.0| 0.0| 0.0| 0.0| 0.0| 0.0| 0.0| 0.0|0.0549442093112735|\n",
      "|            2|    24| 19|  SS17|  long sleeve|violet|PE17/00002.png|    acrylic|    12/05/16|     25|  3|  1|  0|  2|  2|  0|  4|  1|  0|  0|  0|  1| 0.0| 0.0| 0.0|0.0| 0.0| 0.0| 0.0| 0.0| 0.0| 0.0| 0.0| 0.0|0.0549442093112735|\n",
      "+-------------+------+---+------+-------------+------+--------------+-----------+------------+-------+---+---+---+---+---+---+---+---+---+---+---+---+----+----+----+---+----+----+----+----+----+----+----+----+------------------+\n",
      "only showing top 20 rows\n",
      "\n"
     ]
    }
   ],
   "source": [
    "# Step 1: Merge sales and discount DataFrames based on 'external_code' and 'retail'\n",
    "combined1_df = sales_df.join(discount_df, on=[\"external_code\", \"retail\"], how=\"inner\")\n",
    "\n",
    "# Step 2: Check the result of the join\n",
    "combined1_df.show()"
   ]
  },
  {
   "cell_type": "code",
   "execution_count": 9,
   "id": "9663bad0-3c3e-4f6d-af69-9a0a22182b4b",
   "metadata": {},
   "outputs": [
    {
     "name": "stdout",
     "output_type": "stream",
     "text": [
      "+----------+--------+------+-------------+---+-----------+--------+---------+-------------+-------------+--------------+---------------+-------------+----------+-------------+------------+----------+-----------+----------+----------+------+---------+--------+-----------+-------------+------------+---------------+-----------+----+------+------------+-----------+------+-----+----+----+-----+-----+---+-----+------+------+-------+-----------+-----+------+------------+---------+-----+----+-----+------------+-----------+---+------------+------+------+----+------+------+-----+---------+--------+-----+---------+----+----------+-----------+---+--------+-----------+--------+-------+-----------+------+--------+-------+--------+-----------+-----+------+----------+--------+-----------+---------------------+-----+------+-------------+-----+------+------+--------+-------------+------+----+-------+-----+------+-----------------+------------+-----+\n",
      "|      date|customer|retail|external_code|qty|long sleeve|culottes|miniskirt|short sleeves|printed shirt|short cardigan|solid color top|trapeze dress|sleeveless|long cardigan|sheath dress|short coat|medium coat|doll dress|long dress|shorts|long coat|jumpsuit|drop sleeve|patterned top|kimono dress|medium cardigan|shirt dress|maxi|capris|gitana skirt|long duster|yellow|brown|blue|grey|green|black|red|white|orange|violet|acrylic|scuba crepe|tulle|angora|faux leather|georgette|lurex|nice|crepe|satin cotton|silky satin|fur|matte jersey|plisse|velvet|lace|cotton|piquet|plush|bengaline|jacquard|frise|technical|cady|dark jeans|light jeans|ity|plumetis|polyviscous|dainetto|webbing|foam rubber|chanel|marocain|macrame|embossed|heavy jeans|nylon|tencel|paillettes|chambree|chine crepe|muslin cotton or silk|linen|tactel|viscose twill|cloth|mohair|mutton|scottish|milano stitch|devore|hron|ottoman|fluid|flamed|fluid polyviscous|shiny jersey|goose|\n",
      "+----------+--------+------+-------------+---+-----------+--------+---------+-------------+-------------+--------------+---------------+-------------+----------+-------------+------------+----------+-----------+----------+----------+------+---------+--------+-----------+-------------+------------+---------------+-----------+----+------+------------+-----------+------+-----+----+----+-----+-----+---+-----+------+------+-------+-----------+-----+------+------------+---------+-----+----+-----+------------+-----------+---+------------+------+------+----+------+------+-----+---------+--------+-----+---------+----+----------+-----------+---+--------+-----------+--------+-------+-----------+------+--------+-------+--------+-----------+-----+------+----------+--------+-----------+---------------------+-----+------+-------------+-----+------+------+--------+-------------+------+----+-------+-----+------+-----------------+------------+-----+\n",
      "|2017-08-14|       7|     3|          150|  1|         52|      60|       57|           54|           65|            63|             12|         28.2|        62|           58|          62|        38|         19|        50|        81|    60|       24|      38|         67|           82|          66|              0|       83.6|  72|    52|           0|         49|    94|   60|  81|  17|   75|   25| 59|   92|    53|    62|     72|         35|   66|    47|          46|       31|   22|  21|   38|          18|         39| 44|          18|    66|    55|  74|    75|    33|   44|       50|      58|   56|       81|  25|        65|         76| 67|      10|         -1|       0|     69|         53|    60|      62|     75|      65|         31|   79|    46|        15|       0|         27|                   -1|   74|    60|            0|   86|    38|    54|      61|            0|    24|  29|     73|   82|    67|               -1|          33|   27|\n",
      "|2017-07-17|      47|    14|          357|  1|         44|      78|      100|           77|           68|            55|             64|         49.4|        84|           51|          90|        25|         25|        49|        71|    74|       17|      30|         35|           84|          55|              0|       81.0|  82|    63|           0|         65|    89|   60|  82|  16|   75|   25| 58|   84|    57|    57|     83|          0|   71|    53|          30|       27|   19|  21|   37|          63|         40| 41|          18|    65|    59|  73|    76|    27|   42|       55|      65|   59|       81|  22|        42|         60| 86|      21|         -1|      92|     48|         78|    59|      70|     79|      66|         24|   76|    66|        19|       0|         14|                   -1|   81|    49|            0|   90|    40|    52|      70|            0|    27|  16|     64|   86|    54|               -1|           0|   25|\n",
      "|2017-08-21|      72|     2|          455|  1|         54|      92|       49|           59|           62|            56|             37|         61.0|        67|           60|          74|        34|         19|        68|        69|    56|       23|      38|         66|           71|          50|              0|       78.6|  71|    53|           0|         53|    93|   60|  82|  17|   73|   25| 60|   84|    56|    62|     70|          0|   68|    47|          40|       31|   21|  21|   36|          42|         29| 44|           0|    56|    51|  75|    75|    27|   42|       33|      57|   56|       85|  23|        69|         76| 77|      45|         -1|       0|     52|         70|    65|      62|     63|      57|         23|   82|    56|        12|       0|         27|                   -1|   70|    39|            0|   86|    42|    55|      60|           37|    23|  17|     63|   81|    81|               -1|           0|   27|\n",
      "|2017-03-27|      89|    21|          204|  1|         46|      57|       63|           57|           69|            42|             36|         33.4|        72|           51|          82|        24|         33|        60|        77|    54|       24|      34|         54|           83|          59|              0|       80.4|  73|    54|           0|         37|    85|   60|  74|  17|   74|   25| 58|   80|    55|    63|     71|         17|   74|    56|          37|       28|   22|  19|   37|          41|         28| 44|          17|    52|    53|  79|    76|    39|   40|       32|      67|   67|       85|  30|        57|         77| 79|      34|         -1|       0|     54|         46|    66|      62|     64|      59|         38|   77|    60|        15|       0|         45|                   -1|   73|    44|           47|   85|    40|    48|      64|            0|    21|  27|     71|   89|    54|               -1|           0|   28|\n",
      "|2017-03-27|      89|    21|          241|  1|         46|      57|       63|           57|           69|            42|             36|         33.4|        72|           51|          82|        24|         33|        60|        77|    54|       24|      34|         54|           83|          59|              0|       80.4|  73|    54|           0|         37|    85|   60|  74|  17|   74|   25| 58|   80|    55|    63|     71|         17|   74|    56|          37|       28|   22|  19|   37|          41|         28| 44|          17|    52|    53|  79|    76|    39|   40|       32|      67|   67|       85|  30|        57|         77| 79|      34|         -1|       0|     54|         46|    66|      62|     64|      59|         38|   77|    60|        15|       0|         45|                   -1|   73|    44|           47|   85|    40|    48|      64|            0|    21|  27|     71|   89|    54|               -1|           0|   28|\n",
      "|2017-07-03|      89|    21|          217|  1|         42|      87|       52|           79|           66|            55|             52|         56.6|        90|           39|          66|        25|         51|        52|        65|    79|       18|      31|         46|           68|          59|              0|       82.8|  79|    68|           0|         45|    88|   63|  79|  16|   78|   25| 59|   82|    59|    57|     74|         19|   62|    57|          33|       33|   28|  20|   38|          13|         31| 40|          55|    73|    54|  72|    80|    32|   44|       63|      66|   55|       74|  21|        60|         55| 71|      37|         -1|       0|     72|         63|    62|      74|     74|      68|          8|   74|    75|        11|      64|         21|                   -1|   85|    39|           51|   87|    37|    57|      57|            0|    36|  32|     65|   80|    59|               -1|           0|   26|\n",
      "|2017-08-28|      95|    10|          392|  1|         55|      54|       37|           73|           66|            49|             24|         32.4|        60|           66|          75|        40|         19|        45|        71|    55|       31|      39|         44|           72|          54|              0|       85.0|  71|    48|           0|         57|    95|   60|  83|  16|   77|   24| 59|   83|    59|    59|     71|          0|   72|    54|          43|       28|   25|  19|   38|          24|         39| 50|          52|    54|    56|  73|    75|    42|   40|       33|      69|   62|       81|  26|        52|         67| 78|      20|         -1|       0|     57|         73|    69|      61|     65|      67|         31|   74|    61|        11|       0|         34|                   -1|   70|    41|           48|   88|    48|    65|      62|           37|    24|  23|     70|   84|    26|               -1|           0|   31|\n",
      "|2017-08-07|      95|    10|          373|  1|         54|      64|       43|           67|           62|            31|             48|         34.8|        67|           62|          85|        26|          9|        61|        73|    64|       23|      37|         87|           82|          53|             17|       80.2|  72|    58|           0|         33|    93|   59|  80|  17|   76|   25| 58|   85|    56|    58|     77|         17|   70|    50|          42|       35|   24|  20|   40|          48|         19| 44|          86|    61|    56|  76|    73|    34|   46|       46|      64|   57|       81|  18|        66|         70| 84|      10|         -1|       0|     70|         67|    62|      64|     72|      60|          8|   75|    64|        14|       0|         26|                   -1|   79|    33|            0|   84|    46|    46|      61|           36|    28|  20|     79|   82|    40|               -1|          32|   27|\n",
      "|2017-07-17|     103|    20|          483|  1|         44|      78|      100|           77|           68|            55|             64|         49.4|        84|           51|          90|        25|         25|        49|        71|    74|       17|      30|         35|           84|          55|              0|       81.0|  82|    63|           0|         65|    89|   60|  82|  16|   75|   25| 58|   84|    57|    57|     83|          0|   71|    53|          30|       27|   19|  21|   37|          63|         40| 41|          18|    65|    59|  73|    76|    27|   42|       55|      65|   59|       81|  22|        42|         60| 86|      21|         -1|      92|     48|         78|    59|      70|     79|      66|         24|   76|    66|        19|       0|         14|                   -1|   81|    49|            0|   90|    40|    52|      70|            0|    27|  16|     64|   86|    54|               -1|           0|   25|\n",
      "|2017-06-19|     118|     6|           59|  1|         42|      87|       37|           75|           63|            40|             12|         76.6|        92|           27|          78|        26|         10|        60|        72|    90|       14|      27|         77|           73|          69|             17|       91.8|  88|    78|           0|         33|    88|   60|  76|  15|   75|   25| 58|   83|    62|    60|     73|          0|   65|    51|          28|       31|   16|  19|   35|          30|         10| 40|          17|    72|    47|  72|    80|    30|   42|       56|      65|   54|       78|  21|        60|         66| 63|      15|         -1|       0|     49|         43|    64|      72|     70|      69|         23|   75|    64|        15|       0|         33|                   -1|   90|    53|            0|   88|    35|    63|      55|            0|    36|  14|     56|   81|    41|               -1|           0|   24|\n",
      "|2017-02-06|     162|     6|           80|  1|         50|      49|       49|           47|           67|            29|              0|         31.0|        60|           49|          59|        57|         27|        58|        82|    39|       33|      35|         31|           86|          34|              0|       76.0|  66|    35|           0|         41|    80|   61|  73|  27|   76|   26| 58|   81|    57|    58|     65|         17|   79|    65|          44|       31|   25|  19|   54|          35|         37| 56|          50|    51|    73|  78|    72|    34|   40|       13|      68|   67|       82|  21|        65|         75| 95|      38|         -1|      86|     50|         44|    70|      71|     52|      77|         22|   79|    45|        15|       0|         32|                   -1|   61|    46|           46|   81|    65|    49|      61|           35|    29|  18|     71|   83|    68|               -1|           0|   34|\n",
      "|2017-03-20|     167|     6|          414|  1|         49|      53|       47|           65|           69|            33|              0|         52.8|        78|           58|          52|        36|         14|        40|        78|    50|       29|      34|         11|           73|          46|             16|       78.8|  74|    43|           0|         55|    82|   61|  75|  18|   76|   24| 64|   81|    58|    63|     70|          0|   84|    57|          40|       28|   23|  19|   38|          52|         28| 46|          66|    56|    53|  75|    76|    35|   36|       54|      61|   66|       83|  22|        63|         63| 78|      33|         -1|       0|     47|         63|    64|      69|     61|      78|         37|   81|    45|        14|       0|         19|                   -1|   72|    41|            0|   88|    54|    51|      58|            0|    26|  29|     69|   84|    57|               -1|           0|   30|\n",
      "|2017-07-17|     200|    10|          916|  1|         44|      78|      100|           77|           68|            55|             64|         49.4|        84|           51|          90|        25|         25|        49|        71|    74|       17|      30|         35|           84|          55|              0|       81.0|  82|    63|           0|         65|    89|   60|  82|  16|   75|   25| 58|   84|    57|    57|     83|          0|   71|    53|          30|       27|   19|  21|   37|          63|         40| 41|          18|    65|    59|  73|    76|    27|   42|       55|      65|   59|       81|  22|        42|         60| 86|      21|         -1|      92|     48|         78|    59|      70|     79|      66|         24|   76|    66|        19|       0|         14|                   -1|   81|    49|            0|   90|    40|    52|      70|            0|    27|  16|     64|   86|    54|               -1|           0|   25|\n",
      "|2017-06-26|     232|     7|          852|  1|         42|      77|       52|           57|           62|            65|             77|         56.6|        76|           41|          50|        23|         30|        53|        67|    77|       17|      31|         23|           89|          66|              0|       81.0|  81|    70|           0|         40|    89|   66|  81|  16|   75|   25| 63|   86|    64|    58|     76|          0|   65|    58|          26|       33|   19|  20|   37|          51|         31| 43|          55|    75|    51|  73|    79|    46|   43|       42|      80|   60|       79|  18|        61|         68| 84|      37|         -1|       0|     56|         67|    63|      71|     65|      77|         25|   80|    80|        18|      64|         49|                   -1|   82|    52|           51|   94|    36|    59|      58|            0|    23|  18|     56|   81|    55|               -1|          34|   25|\n",
      "|2017-06-26|     232|     7|          645|  1|         42|      77|       52|           57|           62|            65|             77|         56.6|        76|           41|          50|        23|         30|        53|        67|    77|       17|      31|         23|           89|          66|              0|       81.0|  81|    70|           0|         40|    89|   66|  81|  16|   75|   25| 63|   86|    64|    58|     76|          0|   65|    58|          26|       33|   19|  20|   37|          51|         31| 43|          55|    75|    51|  73|    79|    46|   43|       42|      80|   60|       79|  18|        61|         68| 84|      37|         -1|       0|     56|         67|    63|      71|     65|      77|         25|   80|    80|        18|      64|         49|                   -1|   82|    52|           51|   94|    36|    59|      58|            0|    23|  18|     56|   81|    55|               -1|          34|   25|\n",
      "|2017-06-26|     232|     7|          928|  1|         42|      77|       52|           57|           62|            65|             77|         56.6|        76|           41|          50|        23|         30|        53|        67|    77|       17|      31|         23|           89|          66|              0|       81.0|  81|    70|           0|         40|    89|   66|  81|  16|   75|   25| 63|   86|    64|    58|     76|          0|   65|    58|          26|       33|   19|  20|   37|          51|         31| 43|          55|    75|    51|  73|    79|    46|   43|       42|      80|   60|       79|  18|        61|         68| 84|      37|         -1|       0|     56|         67|    63|      71|     65|      77|         25|   80|    80|        18|      64|         49|                   -1|   82|    52|           51|   94|    36|    59|      58|            0|    23|  18|     56|   81|    55|               -1|          34|   25|\n",
      "|2017-06-26|     232|     7|          471|  2|         42|      77|       52|           57|           62|            65|             77|         56.6|        76|           41|          50|        23|         30|        53|        67|    77|       17|      31|         23|           89|          66|              0|       81.0|  81|    70|           0|         40|    89|   66|  81|  16|   75|   25| 63|   86|    64|    58|     76|          0|   65|    58|          26|       33|   19|  20|   37|          51|         31| 43|          55|    75|    51|  73|    79|    46|   43|       42|      80|   60|       79|  18|        61|         68| 84|      37|         -1|       0|     56|         67|    63|      71|     65|      77|         25|   80|    80|        18|      64|         49|                   -1|   82|    52|           51|   94|    36|    59|      58|            0|    23|  18|     56|   81|    55|               -1|          34|   25|\n",
      "|2017-06-26|     232|     7|          469|  1|         42|      77|       52|           57|           62|            65|             77|         56.6|        76|           41|          50|        23|         30|        53|        67|    77|       17|      31|         23|           89|          66|              0|       81.0|  81|    70|           0|         40|    89|   66|  81|  16|   75|   25| 63|   86|    64|    58|     76|          0|   65|    58|          26|       33|   19|  20|   37|          51|         31| 43|          55|    75|    51|  73|    79|    46|   43|       42|      80|   60|       79|  18|        61|         68| 84|      37|         -1|       0|     56|         67|    63|      71|     65|      77|         25|   80|    80|        18|      64|         49|                   -1|   82|    52|           51|   94|    36|    59|      58|            0|    23|  18|     56|   81|    55|               -1|          34|   25|\n",
      "|2017-06-26|     232|     7|          615|  1|         42|      77|       52|           57|           62|            65|             77|         56.6|        76|           41|          50|        23|         30|        53|        67|    77|       17|      31|         23|           89|          66|              0|       81.0|  81|    70|           0|         40|    89|   66|  81|  16|   75|   25| 63|   86|    64|    58|     76|          0|   65|    58|          26|       33|   19|  20|   37|          51|         31| 43|          55|    75|    51|  73|    79|    46|   43|       42|      80|   60|       79|  18|        61|         68| 84|      37|         -1|       0|     56|         67|    63|      71|     65|      77|         25|   80|    80|        18|      64|         49|                   -1|   82|    52|           51|   94|    36|    59|      58|            0|    23|  18|     56|   81|    55|               -1|          34|   25|\n",
      "|2017-06-26|     232|     7|          201|  1|         42|      77|       52|           57|           62|            65|             77|         56.6|        76|           41|          50|        23|         30|        53|        67|    77|       17|      31|         23|           89|          66|              0|       81.0|  81|    70|           0|         40|    89|   66|  81|  16|   75|   25| 63|   86|    64|    58|     76|          0|   65|    58|          26|       33|   19|  20|   37|          51|         31| 43|          55|    75|    51|  73|    79|    46|   43|       42|      80|   60|       79|  18|        61|         68| 84|      37|         -1|       0|     56|         67|    63|      71|     65|      77|         25|   80|    80|        18|      64|         49|                   -1|   82|    52|           51|   94|    36|    59|      58|            0|    23|  18|     56|   81|    55|               -1|          34|   25|\n",
      "+----------+--------+------+-------------+---+-----------+--------+---------+-------------+-------------+--------------+---------------+-------------+----------+-------------+------------+----------+-----------+----------+----------+------+---------+--------+-----------+-------------+------------+---------------+-----------+----+------+------------+-----------+------+-----+----+----+-----+-----+---+-----+------+------+-------+-----------+-----+------+------------+---------+-----+----+-----+------------+-----------+---+------------+------+------+----+------+------+-----+---------+--------+-----+---------+----+----------+-----------+---+--------+-----------+--------+-------+-----------+------+--------+-------+--------+-----------+-----+------+----------+--------+-----------+---------------------+-----+------+-------------+-----+------+------+--------+-------------+------+----+-------+-----+------+-----------------+------------+-----+\n",
      "only showing top 20 rows\n",
      "\n"
     ]
    }
   ],
   "source": [
    "combined_df = customer_df.join(trends_df, on='date', how='inner')\n",
    "combined_df.show()\n",
    "\n",
    "\n"
   ]
  },
  {
   "cell_type": "markdown",
   "id": "52db87c4-1483-4e3f-abdf-897e7b7b7137",
   "metadata": {},
   "source": [
    "Import Sales and Discount"
   ]
  },
  {
   "cell_type": "code",
   "execution_count": 10,
   "id": "7259a76d-f791-469b-91f0-b7af50e444a5",
   "metadata": {},
   "outputs": [
    {
     "name": "stdout",
     "output_type": "stream",
     "text": [
      "+---+-------------+------+------+-----------+------+--------------+-----------+------------+-------+---+---+---+---+---+---+---+---+---+---+---+---+\n",
      "|_c0|external_code|retail|season|   category| color|    image_path|     fabric|release_date|restock|  0|  1|  2|  3|  4|  5|  6|  7|  8|  9| 10| 11|\n",
      "+---+-------------+------+------+-----------+------+--------------+-----------+------------+-------+---+---+---+---+---+---+---+---+---+---+---+---+\n",
      "|  0|            5|    36|  SS17|long sleeve|  grey|PE17/00005.png|    acrylic|    11/28/16|     22|  1|  3|  1|  1|  2|  1|  0|  0|  2|  0|  0|  0|\n",
      "|  1|            2|    51|  SS17|long sleeve|violet|PE17/00002.png|    acrylic|    11/28/16|     17|  1|  1|  1|  0|  0|  2|  0|  0|  0|  1|  1|  0|\n",
      "|  2|            5|    10|  SS17|long sleeve|  grey|PE17/00005.png|    acrylic|    11/28/16|     15|  1|  3|  1|  0|  1|  1|  1|  1|  1|  0|  0|  1|\n",
      "|  3|            9|    41|  SS17|   culottes|yellow|PE17/00009.png|scuba crepe|    11/28/16|     32|  1|  1|  1|  1|  0|  0|  0|  1|  0|  1|  0|  0|\n",
      "|  4|            5|    13|  SS17|long sleeve|  grey|PE17/00005.png|    acrylic|    11/28/16|     26|  1|  2|  4|  0|  3|  0|  2|  1|  0|  0|  0|  0|\n",
      "+---+-------------+------+------+-----------+------+--------------+-----------+------------+-------+---+---+---+---+---+---+---+---+---+---+---+---+\n",
      "only showing top 5 rows\n",
      "\n",
      "+-------------+------+---+---+---+---+---+---+---+---+---+---+---+---+------------------+\n",
      "|external_code|retail|  0|  1|  2|  3|  4|  5|  6|  7|  8|  9| 10| 11|             price|\n",
      "+-------------+------+---+---+---+---+---+---+---+---+---+---+---+---+------------------+\n",
      "|            5|    36|0.0|0.0|0.0|0.0|0.0|0.0|0.0|0.0|0.0|0.0|0.0|0.0|0.0549442093112735|\n",
      "|            2|    51|0.5|0.0|0.0|0.0|0.0|0.0|0.0|0.0|0.0|0.0|0.2|0.2|0.0549442093112735|\n",
      "|            5|    10|0.0|0.0|0.0|0.0|0.0|0.0|0.0|0.0|0.0|0.0|0.0|0.0|0.0549442093112735|\n",
      "|            9|    41|0.0|0.0|0.0|0.0|0.0|0.0|0.0|0.0|0.0|0.0|0.0|0.0|0.0439509701533556|\n",
      "|            5|    13|0.0|0.0|0.0|0.0|0.0|0.0|0.0|0.0|0.0|0.0|0.0|0.0|0.0549442093112735|\n",
      "+-------------+------+---+---+---+---+---+---+---+---+---+---+---+---+------------------+\n",
      "only showing top 5 rows\n",
      "\n"
     ]
    }
   ],
   "source": [
    "# Load customer data\n",
    "sales_df = spark.read.csv(\"C:/Documents/m5-sales-forecasting/data/raw - Copy/salesC.csv\", header=True, inferSchema=True)\n",
    "\n",
    "# Load trends data\n",
    "discount_df = spark.read.csv(\"C:/Documents/m5-sales-forecasting/data/raw - Copy/price_discount_seriesC.csv\", header=True, inferSchema=True)\n",
    "\n",
    "# Show sample of data to confirm load\n",
    "sales_df.show(5)\n",
    "discount_df.show(5)"
   ]
  },
  {
   "cell_type": "markdown",
   "id": "ffc7caf9-53b4-4f58-b525-8b32cf4ecb94",
   "metadata": {},
   "source": [
    "rename discount columns"
   ]
  },
  {
   "cell_type": "code",
   "execution_count": 12,
   "id": "4f2f8086-62ae-4c3d-87de-38ff25169392",
   "metadata": {},
   "outputs": [
    {
     "ename": "NameError",
     "evalue": "name 'F' is not defined",
     "output_type": "error",
     "traceback": [
      "\u001b[1;31m---------------------------------------------------------------------------\u001b[0m",
      "\u001b[1;31mNameError\u001b[0m                                 Traceback (most recent call last)",
      "Cell \u001b[1;32mIn[12], line 3\u001b[0m\n\u001b[0;32m      1\u001b[0m \u001b[38;5;66;03m# Rename the discount columns to d_0, d_1, ..., d_11, keeping the 'price' column\u001b[39;00m\n\u001b[0;32m      2\u001b[0m discount_df_renamed \u001b[38;5;241m=\u001b[39m discount_df\u001b[38;5;241m.\u001b[39mselect(\n\u001b[1;32m----> 3\u001b[0m     [F\u001b[38;5;241m.\u001b[39mcol(c)\u001b[38;5;241m.\u001b[39malias(\u001b[38;5;124mf\u001b[39m\u001b[38;5;124m\"\u001b[39m\u001b[38;5;124md_\u001b[39m\u001b[38;5;132;01m{\u001b[39;00mi\u001b[38;5;132;01m}\u001b[39;00m\u001b[38;5;124m\"\u001b[39m) \u001b[38;5;28;01mif\u001b[39;00m c \u001b[38;5;129;01mnot\u001b[39;00m \u001b[38;5;129;01min\u001b[39;00m [\u001b[38;5;124m'\u001b[39m\u001b[38;5;124mexternal_code\u001b[39m\u001b[38;5;124m'\u001b[39m, \u001b[38;5;124m'\u001b[39m\u001b[38;5;124mprice\u001b[39m\u001b[38;5;124m'\u001b[39m] \u001b[38;5;28;01melse\u001b[39;00m F\u001b[38;5;241m.\u001b[39mcol(c) \u001b[38;5;28;01mfor\u001b[39;00m i, c \u001b[38;5;129;01min\u001b[39;00m \u001b[38;5;28menumerate\u001b[39m(discount_df\u001b[38;5;241m.\u001b[39mcolumns)]\n\u001b[0;32m      4\u001b[0m )\n\u001b[0;32m      6\u001b[0m \u001b[38;5;66;03m# Show the renamed discount DataFrame\u001b[39;00m\n\u001b[0;32m      7\u001b[0m discount_df_renamed\u001b[38;5;241m.\u001b[39mshow()\n",
      "Cell \u001b[1;32mIn[12], line 3\u001b[0m, in \u001b[0;36m<listcomp>\u001b[1;34m(.0)\u001b[0m\n\u001b[0;32m      1\u001b[0m \u001b[38;5;66;03m# Rename the discount columns to d_0, d_1, ..., d_11, keeping the 'price' column\u001b[39;00m\n\u001b[0;32m      2\u001b[0m discount_df_renamed \u001b[38;5;241m=\u001b[39m discount_df\u001b[38;5;241m.\u001b[39mselect(\n\u001b[1;32m----> 3\u001b[0m     [F\u001b[38;5;241m.\u001b[39mcol(c)\u001b[38;5;241m.\u001b[39malias(\u001b[38;5;124mf\u001b[39m\u001b[38;5;124m\"\u001b[39m\u001b[38;5;124md_\u001b[39m\u001b[38;5;132;01m{\u001b[39;00mi\u001b[38;5;132;01m}\u001b[39;00m\u001b[38;5;124m\"\u001b[39m) \u001b[38;5;28;01mif\u001b[39;00m c \u001b[38;5;129;01mnot\u001b[39;00m \u001b[38;5;129;01min\u001b[39;00m [\u001b[38;5;124m'\u001b[39m\u001b[38;5;124mexternal_code\u001b[39m\u001b[38;5;124m'\u001b[39m, \u001b[38;5;124m'\u001b[39m\u001b[38;5;124mprice\u001b[39m\u001b[38;5;124m'\u001b[39m] \u001b[38;5;28;01melse\u001b[39;00m \u001b[43mF\u001b[49m\u001b[38;5;241m.\u001b[39mcol(c) \u001b[38;5;28;01mfor\u001b[39;00m i, c \u001b[38;5;129;01min\u001b[39;00m \u001b[38;5;28menumerate\u001b[39m(discount_df\u001b[38;5;241m.\u001b[39mcolumns)]\n\u001b[0;32m      4\u001b[0m )\n\u001b[0;32m      6\u001b[0m \u001b[38;5;66;03m# Show the renamed discount DataFrame\u001b[39;00m\n\u001b[0;32m      7\u001b[0m discount_df_renamed\u001b[38;5;241m.\u001b[39mshow()\n",
      "\u001b[1;31mNameError\u001b[0m: name 'F' is not defined"
     ]
    }
   ],
   "source": [
    "# Rename the discount columns to d_0, d_1, ..., d_11, keeping the 'price' column\n",
    "discount_df_renamed = discount_df.select(\n",
    "    [F.col(c).alias(f\"d_{i}\") if c not in ['external_code', 'price'] else F.col(c) for i, c in enumerate(discount_df.columns)]\n",
    ")\n",
    "\n",
    "# Show the renamed discount DataFrame\n",
    "discount_df_renamed.show()\n"
   ]
  },
  {
   "cell_type": "markdown",
   "id": "3904d946-0e78-4748-87f0-5158eae906ff",
   "metadata": {},
   "source": [
    "merge the datasets"
   ]
  },
  {
   "cell_type": "code",
   "execution_count": 20,
   "id": "9ba0ec82-505e-4fd6-a964-c8397a7f1f7f",
   "metadata": {},
   "outputs": [
    {
     "name": "stdout",
     "output_type": "stream",
     "text": [
      "+-------------+---+------+------+-----------+------+--------------+-------+------------+-------+---+---+---+---+---+---+---+---+---+---+---+---+---+----+---+---+---+----+----+----+---+----+----+----+----+------------------+\n",
      "|external_code|_c0|retail|season|   category| color|    image_path| fabric|release_date|restock|  0|  1|  2|  3|  4|  5|  6|  7|  8|  9| 10| 11|d_1| d_2|d_3|d_4|d_5| d_6| d_7| d_8|d_9|d_10|d_11|d_12|d_13|             price|\n",
      "+-------------+---+------+------+-----------+------+--------------+-------+------------+-------+---+---+---+---+---+---+---+---+---+---+---+---+---+----+---+---+---+----+----+----+---+----+----+----+----+------------------+\n",
      "|            5|  0|    36|  SS17|long sleeve|  grey|PE17/00005.png|acrylic|    11/28/16|     22|  1|  3|  1|  1|  2|  1|  0|  0|  2|  0|  0|  0| 19| 0.0|0.0|0.0|0.0| 0.0| 0.0| 0.0|0.0| 0.0| 0.0| 0.0| 0.0|0.0549442093112735|\n",
      "|            5|  0|    36|  SS17|long sleeve|  grey|PE17/00005.png|acrylic|    11/28/16|     22|  1|  3|  1|  1|  2|  1|  0|  0|  2|  0|  0|  0| 18| 0.0|0.0|0.0|0.0| 0.0| 0.0| 0.0|0.0| 0.0| 0.0| 0.0| 0.0|0.0549442093112735|\n",
      "|            5|  0|    36|  SS17|long sleeve|  grey|PE17/00005.png|acrylic|    11/28/16|     22|  1|  3|  1|  1|  2|  1|  0|  0|  2|  0|  0|  0| 43| 0.0|0.0|0.0|0.0| 0.0| 0.0| 0.0|0.0| 0.0| 0.0| 0.0| 0.0|0.0549442093112735|\n",
      "|            5|  0|    36|  SS17|long sleeve|  grey|PE17/00005.png|acrylic|    11/28/16|     22|  1|  3|  1|  1|  2|  1|  0|  0|  2|  0|  0|  0|  8| 0.0|0.0|0.0|0.0| 0.0| 0.0| 0.0|0.0| 0.0| 0.0| 0.0| 0.0|0.0549442093112735|\n",
      "|            5|  0|    36|  SS17|long sleeve|  grey|PE17/00005.png|acrylic|    11/28/16|     22|  1|  3|  1|  1|  2|  1|  0|  0|  2|  0|  0|  0| 20| 0.0|0.0|0.0|0.0| 0.0| 0.0| 0.0|0.0| 0.0| 0.0| 0.0| 0.0|0.0549442093112735|\n",
      "|            5|  0|    36|  SS17|long sleeve|  grey|PE17/00005.png|acrylic|    11/28/16|     22|  1|  3|  1|  1|  2|  1|  0|  0|  2|  0|  0|  0| 22| 0.0|0.0|0.0|0.0| 0.0| 0.0| 0.0|0.0| 0.0| 0.0| 0.0| 0.0|0.0549442093112735|\n",
      "|            5|  0|    36|  SS17|long sleeve|  grey|PE17/00005.png|acrylic|    11/28/16|     22|  1|  3|  1|  1|  2|  1|  0|  0|  2|  0|  0|  0|  3| 0.2|0.2|0.0|0.2| 0.2| 0.2| 0.2|0.2| 0.2|0.28|0.28|0.28|0.0686802616390919|\n",
      "|            5|  0|    36|  SS17|long sleeve|  grey|PE17/00005.png|acrylic|    11/28/16|     22|  1|  3|  1|  1|  2|  1|  0|  0|  2|  0|  0|  0| 56| 0.0|0.0|0.0|0.0| 0.0| 0.0| 0.0|0.0| 0.0| 0.0| 0.0| 0.0|0.0549442093112735|\n",
      "|            5|  0|    36|  SS17|long sleeve|  grey|PE17/00005.png|acrylic|    11/28/16|     22|  1|  3|  1|  1|  2|  1|  0|  0|  2|  0|  0|  0| 41|0.25|0.0|0.0|0.0| 0.0| 0.0| 0.0|0.0| 0.0| 0.0| 0.0| 0.0|0.0549442093112735|\n",
      "|            5|  0|    36|  SS17|long sleeve|  grey|PE17/00005.png|acrylic|    11/28/16|     22|  1|  3|  1|  1|  2|  1|  0|  0|  2|  0|  0|  0| 13| 0.0|0.0|0.0|0.0| 0.0| 0.0| 0.0|0.0| 0.0| 0.0| 0.0| 0.0|0.0549442093112735|\n",
      "|            5|  0|    36|  SS17|long sleeve|  grey|PE17/00005.png|acrylic|    11/28/16|     22|  1|  3|  1|  1|  2|  1|  0|  0|  2|  0|  0|  0| 10| 0.0|0.0|0.0|0.0| 0.0| 0.0| 0.0|0.0| 0.0| 0.0| 0.0| 0.0|0.0549442093112735|\n",
      "|            5|  0|    36|  SS17|long sleeve|  grey|PE17/00005.png|acrylic|    11/28/16|     22|  1|  3|  1|  1|  2|  1|  0|  0|  2|  0|  0|  0| 36| 0.0|0.0|0.0|0.0| 0.0| 0.0| 0.0|0.0| 0.0| 0.0| 0.0| 0.0|0.0549442093112735|\n",
      "|            2|  1|    51|  SS17|long sleeve|violet|PE17/00002.png|acrylic|    11/28/16|     17|  1|  1|  1|  0|  0|  2|  0|  0|  0|  1|  1|  0| 37| 0.0|0.0|0.0|0.0| 0.0| 0.0|0.03|0.0| 0.0| 0.0| 0.0| 0.0|0.0549442093112735|\n",
      "|            2|  1|    51|  SS17|long sleeve|violet|PE17/00002.png|acrylic|    11/28/16|     17|  1|  1|  1|  0|  0|  2|  0|  0|  0|  1|  1|  0| 65| 0.0|0.0|0.0|0.0| 0.0| 0.0| 0.0|0.0| 0.0| 0.0| 0.0| 0.0|0.0549442093112735|\n",
      "|            2|  1|    51|  SS17|long sleeve|violet|PE17/00002.png|acrylic|    11/28/16|     17|  1|  1|  1|  0|  0|  2|  0|  0|  0|  1|  1|  0| 48| 0.0|0.0|0.0|0.0| 0.0| 0.0| 0.0|0.0| 0.2| 0.0| 0.0| 0.0|0.0549442093112735|\n",
      "|            2|  1|    51|  SS17|long sleeve|violet|PE17/00002.png|acrylic|    11/28/16|     17|  1|  1|  1|  0|  0|  2|  0|  0|  0|  1|  1|  0| 20| 0.0|0.0|0.0|0.0| 0.0| 0.0| 0.0|0.0| 0.0| 0.0| 0.0| 0.0|0.0549515381373788|\n",
      "|            2|  1|    51|  SS17|long sleeve|violet|PE17/00002.png|acrylic|    11/28/16|     17|  1|  1|  1|  0|  0|  2|  0|  0|  0|  1|  1|  0| 56| 0.0|0.0|0.0|0.0|0.12|0.12|0.12|0.0| 0.1| 0.1| 0.0| 0.0|0.0549442093112735|\n",
      "|            2|  1|    51|  SS17|long sleeve|violet|PE17/00002.png|acrylic|    11/28/16|     17|  1|  1|  1|  0|  0|  2|  0|  0|  0|  1|  1|  0|  3| 0.0|0.0|0.0|0.0| 0.0| 0.0| 0.0|0.0|0.07|0.07| 0.0| 0.0|0.0549442093112735|\n",
      "|            2|  1|    51|  SS17|long sleeve|violet|PE17/00002.png|acrylic|    11/28/16|     17|  1|  1|  1|  0|  0|  2|  0|  0|  0|  1|  1|  0|  4| 0.0|0.0|0.0|0.0| 0.0| 0.0| 0.0|0.0| 0.2| 0.2| 0.2| 0.2|0.0549442093112735|\n",
      "|            2|  1|    51|  SS17|long sleeve|violet|PE17/00002.png|acrylic|    11/28/16|     17|  1|  1|  1|  0|  0|  2|  0|  0|  0|  1|  1|  0|  2| 0.0|0.0|0.0|0.0| 0.0| 0.0| 0.0|0.0| 0.0| 0.0| 0.0| 0.0|0.0549442093112735|\n",
      "+-------------+---+------+------+-----------+------+--------------+-------+------------+-------+---+---+---+---+---+---+---+---+---+---+---+---+---+----+---+---+---+----+----+----+---+----+----+----+----+------------------+\n",
      "only showing top 20 rows\n",
      "\n"
     ]
    }
   ],
   "source": [
    "# Merge the sales DataFrame with the renamed discount DataFrame on 'external_code'\n",
    "merge_df = sales_df.join(discount_df_renamed, on='external_code', how='inner')\n",
    "\n",
    "# Show the combined DataFrame\n",
    "merge_df.show()\n"
   ]
  },
  {
   "cell_type": "code",
   "execution_count": 21,
   "id": "e60ef094-17cf-401d-a7b2-6aa096cecec9",
   "metadata": {},
   "outputs": [
    {
     "name": "stdout",
     "output_type": "stream",
     "text": [
      "+-------------+------+---------------------------+--------------------------+\n",
      "|external_code|retail|total_sales_before_discount|total_sales_after_discount|\n",
      "+-------------+------+---------------------------+--------------------------+\n",
      "|            5|    19|                       36.0|        34.022008464794155|\n",
      "|            5|    18|                       36.0|        34.022008464794155|\n",
      "|            5|    43|                       36.0|        34.022008464794155|\n",
      "|            5|     8|                       36.0|        34.022008464794155|\n",
      "|            5|    20|                       36.0|        34.022008464794155|\n",
      "|            5|    22|                       36.0|        34.022008464794155|\n",
      "|            5|     3|                       36.0|        34.022008464794155|\n",
      "|            5|    56|                       36.0|        34.022008464794155|\n",
      "|            5|    41|                       36.0|        34.022008464794155|\n",
      "|            5|    13|                       36.0|        34.022008464794155|\n",
      "|            5|    10|                       36.0|        34.022008464794155|\n",
      "|            5|    36|                       36.0|        34.022008464794155|\n",
      "|            2|    37|                       51.7|         48.85938437860716|\n",
      "|            2|    65|                       51.7|         48.85938437860716|\n",
      "|            2|    48|                       51.7|         48.85938437860716|\n",
      "|            2|    20|                       51.7|         48.85938437860716|\n",
      "|            2|    56|                       51.7|         48.85938437860716|\n",
      "|            2|     3|                       51.7|         48.85938437860716|\n",
      "|            2|     4|                       51.7|         48.85938437860716|\n",
      "|            2|     2|                       51.7|         48.85938437860716|\n",
      "+-------------+------+---------------------------+--------------------------+\n",
      "only showing top 20 rows\n",
      "\n"
     ]
    }
   ],
   "source": [
    "from pyspark.sql import functions as F\n",
    "\n",
    "# Apply discount to sales for each month (d_1 to d_12)\n",
    "for i in range(1, 13):  # d_1 to d_12\n",
    "    sales_col = f\"d_{i}\"\n",
    "    discount_col = \"price\"  # Price is the discount column\n",
    "    \n",
    "    # Apply the discount on sales and create a new column for each month (e.g., sales_after_discount_d_1)\n",
    "    discount_impact_col = f\"sales_after_discount_d_{i}\"\n",
    "    merge_df = merge_df.withColumn(\n",
    "        discount_impact_col,\n",
    "        F.col(sales_col) * (1 - F.col(discount_col))  # Applying the discount\n",
    "    )\n",
    "\n",
    "# Calculate total sales before the discount (sum of d_1 to d_12)\n",
    "merge_df = merge_df.withColumn(\n",
    "    \"total_sales_before_discount\",\n",
    "    sum([F.col(f\"d_{i}\") for i in range(1, 13)])  # Summing up sales for months d_1 to d_12\n",
    ")\n",
    "\n",
    "# Calculate total sales after the discount (sum of sales_after_discount_d_1 to sales_after_discount_d_12)\n",
    "merge_df = merge_df.withColumn(\n",
    "    \"total_sales_after_discount\",\n",
    "    sum([F.col(f\"sales_after_discount_d_{i}\") for i in range(1, 13)])  # Summing up discounted sales\n",
    ")\n",
    "\n",
    "# Show the result with sales before and after discount\n",
    "merge_df.select(\n",
    "    \"external_code\", \"retail\", \"total_sales_before_discount\", \"total_sales_after_discount\"\n",
    ").show()\n"
   ]
  },
  {
   "cell_type": "code",
   "execution_count": 22,
   "id": "393f54ff-eb54-4420-a712-d14a3f9da374",
   "metadata": {},
   "outputs": [
    {
     "name": "stdout",
     "output_type": "stream",
     "text": [
      "+-------------+---+------+------+-----------+------+--------------+-------+------------+-------+---+---+---+---+---+---+---+---+---+---+---+---+---+----+---+---+---+----+----+----+---+----+----+----+----+------------------+------------------------+------------------------+------------------------+------------------------+------------------------+------------------------+------------------------+------------------------+------------------------+-------------------------+-------------------------+-------------------------+---------------------------+--------------------------+\n",
      "|external_code|_c0|retail|season|   category| color|    image_path| fabric|release_date|restock|  0|  1|  2|  3|  4|  5|  6|  7|  8|  9| 10| 11|d_1| d_2|d_3|d_4|d_5| d_6| d_7| d_8|d_9|d_10|d_11|d_12|d_13|             price|sales_after_discount_d_1|sales_after_discount_d_2|sales_after_discount_d_3|sales_after_discount_d_4|sales_after_discount_d_5|sales_after_discount_d_6|sales_after_discount_d_7|sales_after_discount_d_8|sales_after_discount_d_9|sales_after_discount_d_10|sales_after_discount_d_11|sales_after_discount_d_12|total_sales_before_discount|total_sales_after_discount|\n",
      "+-------------+---+------+------+-----------+------+--------------+-------+------------+-------+---+---+---+---+---+---+---+---+---+---+---+---+---+----+---+---+---+----+----+----+---+----+----+----+----+------------------+------------------------+------------------------+------------------------+------------------------+------------------------+------------------------+------------------------+------------------------+------------------------+-------------------------+-------------------------+-------------------------+---------------------------+--------------------------+\n",
      "|            5|  0|    36|  SS17|long sleeve|  grey|PE17/00005.png|acrylic|    11/28/16|     22|  1|  3|  1|  1|  2|  1|  0|  0|  2|  0|  0|  0| 19| 0.0|0.0|0.0|0.0| 0.0| 0.0| 0.0|0.0| 0.0| 0.0| 0.0| 0.0|0.0549442093112735|      17.956060023085804|                     0.0|                     0.0|                     0.0|                     0.0|                     0.0|                     0.0|                     0.0|                     0.0|                      0.0|                      0.0|                      0.0|                       19.0|        17.956060023085804|\n",
      "|            5|  0|    36|  SS17|long sleeve|  grey|PE17/00005.png|acrylic|    11/28/16|     22|  1|  3|  1|  1|  2|  1|  0|  0|  2|  0|  0|  0| 18| 0.0|0.0|0.0|0.0| 0.0| 0.0| 0.0|0.0| 0.0| 0.0| 0.0| 0.0|0.0549442093112735|      17.011004232397077|                     0.0|                     0.0|                     0.0|                     0.0|                     0.0|                     0.0|                     0.0|                     0.0|                      0.0|                      0.0|                      0.0|                       18.0|        17.011004232397077|\n",
      "|            5|  0|    36|  SS17|long sleeve|  grey|PE17/00005.png|acrylic|    11/28/16|     22|  1|  3|  1|  1|  2|  1|  0|  0|  2|  0|  0|  0| 43| 0.0|0.0|0.0|0.0| 0.0| 0.0| 0.0|0.0| 0.0| 0.0| 0.0| 0.0|0.0549442093112735|      40.637398999615236|                     0.0|                     0.0|                     0.0|                     0.0|                     0.0|                     0.0|                     0.0|                     0.0|                      0.0|                      0.0|                      0.0|                       43.0|        40.637398999615236|\n",
      "|            5|  0|    36|  SS17|long sleeve|  grey|PE17/00005.png|acrylic|    11/28/16|     22|  1|  3|  1|  1|  2|  1|  0|  0|  2|  0|  0|  0|  8| 0.0|0.0|0.0|0.0| 0.0| 0.0| 0.0|0.0| 0.0| 0.0| 0.0| 0.0|0.0549442093112735|       7.560446325509812|                     0.0|                     0.0|                     0.0|                     0.0|                     0.0|                     0.0|                     0.0|                     0.0|                      0.0|                      0.0|                      0.0|                        8.0|         7.560446325509812|\n",
      "|            5|  0|    36|  SS17|long sleeve|  grey|PE17/00005.png|acrylic|    11/28/16|     22|  1|  3|  1|  1|  2|  1|  0|  0|  2|  0|  0|  0| 20| 0.0|0.0|0.0|0.0| 0.0| 0.0| 0.0|0.0| 0.0| 0.0| 0.0| 0.0|0.0549442093112735|       18.90111581377453|                     0.0|                     0.0|                     0.0|                     0.0|                     0.0|                     0.0|                     0.0|                     0.0|                      0.0|                      0.0|                      0.0|                       20.0|         18.90111581377453|\n",
      "|            5|  0|    36|  SS17|long sleeve|  grey|PE17/00005.png|acrylic|    11/28/16|     22|  1|  3|  1|  1|  2|  1|  0|  0|  2|  0|  0|  0| 22| 0.0|0.0|0.0|0.0| 0.0| 0.0| 0.0|0.0| 0.0| 0.0| 0.0| 0.0|0.0549442093112735|       20.79122739515198|                     0.0|                     0.0|                     0.0|                     0.0|                     0.0|                     0.0|                     0.0|                     0.0|                      0.0|                      0.0|                      0.0|                       22.0|         20.79122739515198|\n",
      "|            5|  0|    36|  SS17|long sleeve|  grey|PE17/00005.png|acrylic|    11/28/16|     22|  1|  3|  1|  1|  2|  1|  0|  0|  2|  0|  0|  0|  3| 0.2|0.2|0.0|0.2| 0.2| 0.2| 0.2|0.2| 0.2|0.28|0.28|0.28|0.0686802616390919|       2.793959215082724|     0.18626394767218163|     0.18626394767218163|                     0.0|     0.18626394767218163|     0.18626394767218163|     0.18626394767218163|     0.18626394767218163|     0.18626394767218163|      0.18626394767218163|       0.2607695267410543|       0.2607695267410543|          5.160000000000002|         4.805609849942285|\n",
      "|            5|  0|    36|  SS17|long sleeve|  grey|PE17/00005.png|acrylic|    11/28/16|     22|  1|  3|  1|  1|  2|  1|  0|  0|  2|  0|  0|  0| 56| 0.0|0.0|0.0|0.0| 0.0| 0.0| 0.0|0.0| 0.0| 0.0| 0.0| 0.0|0.0549442093112735|       52.92312427856868|                     0.0|                     0.0|                     0.0|                     0.0|                     0.0|                     0.0|                     0.0|                     0.0|                      0.0|                      0.0|                      0.0|                       56.0|         52.92312427856868|\n",
      "|            5|  0|    36|  SS17|long sleeve|  grey|PE17/00005.png|acrylic|    11/28/16|     22|  1|  3|  1|  1|  2|  1|  0|  0|  2|  0|  0|  0| 41|0.25|0.0|0.0|0.0| 0.0| 0.0| 0.0|0.0| 0.0| 0.0| 0.0| 0.0|0.0549442093112735|       38.74728741823778|     0.23626394767218162|                     0.0|                     0.0|                     0.0|                     0.0|                     0.0|                     0.0|                     0.0|                      0.0|                      0.0|                      0.0|                      41.25|         38.98355136590996|\n",
      "|            5|  0|    36|  SS17|long sleeve|  grey|PE17/00005.png|acrylic|    11/28/16|     22|  1|  3|  1|  1|  2|  1|  0|  0|  2|  0|  0|  0| 13| 0.0|0.0|0.0|0.0| 0.0| 0.0| 0.0|0.0| 0.0| 0.0| 0.0| 0.0|0.0549442093112735|      12.285725278953445|                     0.0|                     0.0|                     0.0|                     0.0|                     0.0|                     0.0|                     0.0|                     0.0|                      0.0|                      0.0|                      0.0|                       13.0|        12.285725278953445|\n",
      "|            5|  0|    36|  SS17|long sleeve|  grey|PE17/00005.png|acrylic|    11/28/16|     22|  1|  3|  1|  1|  2|  1|  0|  0|  2|  0|  0|  0| 10| 0.0|0.0|0.0|0.0| 0.0| 0.0| 0.0|0.0| 0.0| 0.0| 0.0| 0.0|0.0549442093112735|       9.450557906887266|                     0.0|                     0.0|                     0.0|                     0.0|                     0.0|                     0.0|                     0.0|                     0.0|                      0.0|                      0.0|                      0.0|                       10.0|         9.450557906887266|\n",
      "|            5|  0|    36|  SS17|long sleeve|  grey|PE17/00005.png|acrylic|    11/28/16|     22|  1|  3|  1|  1|  2|  1|  0|  0|  2|  0|  0|  0| 36| 0.0|0.0|0.0|0.0| 0.0| 0.0| 0.0|0.0| 0.0| 0.0| 0.0| 0.0|0.0549442093112735|      34.022008464794155|                     0.0|                     0.0|                     0.0|                     0.0|                     0.0|                     0.0|                     0.0|                     0.0|                      0.0|                      0.0|                      0.0|                       36.0|        34.022008464794155|\n",
      "|            2|  1|    51|  SS17|long sleeve|violet|PE17/00002.png|acrylic|    11/28/16|     17|  1|  1|  1|  0|  0|  2|  0|  0|  0|  1|  1|  0| 37| 0.0|0.0|0.0|0.0| 0.0| 0.0|0.03|0.0| 0.0| 0.0| 0.0| 0.0|0.0549442093112735|       34.96706425548288|                     0.0|                     0.0|                     0.0|                     0.0|                     0.0|                     0.0|     0.02835167372066179|                     0.0|                      0.0|                      0.0|                      0.0|                      37.03|        34.995415929203546|\n",
      "|            2|  1|    51|  SS17|long sleeve|violet|PE17/00002.png|acrylic|    11/28/16|     17|  1|  1|  1|  0|  0|  2|  0|  0|  0|  1|  1|  0| 65| 0.0|0.0|0.0|0.0| 0.0| 0.0| 0.0|0.0| 0.0| 0.0| 0.0| 0.0|0.0549442093112735|       61.42862639476722|                     0.0|                     0.0|                     0.0|                     0.0|                     0.0|                     0.0|                     0.0|                     0.0|                      0.0|                      0.0|                      0.0|                       65.0|         61.42862639476722|\n",
      "|            2|  1|    51|  SS17|long sleeve|violet|PE17/00002.png|acrylic|    11/28/16|     17|  1|  1|  1|  0|  0|  2|  0|  0|  0|  1|  1|  0| 48| 0.0|0.0|0.0|0.0| 0.0| 0.0| 0.0|0.0| 0.2| 0.0| 0.0| 0.0|0.0549442093112735|       45.36267795305887|                     0.0|                     0.0|                     0.0|                     0.0|                     0.0|                     0.0|                     0.0|                     0.0|       0.1890111581377453|                      0.0|                      0.0|                       48.2|        45.551689111196616|\n",
      "|            2|  1|    51|  SS17|long sleeve|violet|PE17/00002.png|acrylic|    11/28/16|     17|  1|  1|  1|  0|  0|  2|  0|  0|  0|  1|  1|  0| 20| 0.0|0.0|0.0|0.0| 0.0| 0.0| 0.0|0.0| 0.0| 0.0| 0.0| 0.0|0.0549515381373788|      18.900969237252422|                     0.0|                     0.0|                     0.0|                     0.0|                     0.0|                     0.0|                     0.0|                     0.0|                      0.0|                      0.0|                      0.0|                       20.0|        18.900969237252422|\n",
      "|            2|  1|    51|  SS17|long sleeve|violet|PE17/00002.png|acrylic|    11/28/16|     17|  1|  1|  1|  0|  0|  2|  0|  0|  0|  1|  1|  0| 56| 0.0|0.0|0.0|0.0|0.12|0.12|0.12|0.0| 0.1| 0.1| 0.0| 0.0|0.0549442093112735|       52.92312427856868|                     0.0|                     0.0|                     0.0|                     0.0|     0.11340669488264717|     0.11340669488264717|     0.11340669488264717|                     0.0|      0.09450557906887265|      0.09450557906887265|                      0.0|         56.559999999999995|         53.45235552135437|\n",
      "|            2|  1|    51|  SS17|long sleeve|violet|PE17/00002.png|acrylic|    11/28/16|     17|  1|  1|  1|  0|  0|  2|  0|  0|  0|  1|  1|  0|  3| 0.0|0.0|0.0|0.0| 0.0| 0.0| 0.0|0.0|0.07|0.07| 0.0| 0.0|0.0549442093112735|      2.8351673720661794|                     0.0|                     0.0|                     0.0|                     0.0|                     0.0|                     0.0|                     0.0|                     0.0|      0.06615390534821086|      0.06615390534821086|                      0.0|         3.1399999999999997|        2.9674751827626014|\n",
      "|            2|  1|    51|  SS17|long sleeve|violet|PE17/00002.png|acrylic|    11/28/16|     17|  1|  1|  1|  0|  0|  2|  0|  0|  0|  1|  1|  0|  4| 0.0|0.0|0.0|0.0| 0.0| 0.0| 0.0|0.0| 0.2| 0.2| 0.2| 0.2|0.0549442093112735|       3.780223162754906|                     0.0|                     0.0|                     0.0|                     0.0|                     0.0|                     0.0|                     0.0|                     0.0|       0.1890111581377453|       0.1890111581377453|       0.1890111581377453|         4.6000000000000005|         4.347256637168142|\n",
      "|            2|  1|    51|  SS17|long sleeve|violet|PE17/00002.png|acrylic|    11/28/16|     17|  1|  1|  1|  0|  0|  2|  0|  0|  0|  1|  1|  0|  2| 0.0|0.0|0.0|0.0| 0.0| 0.0| 0.0|0.0| 0.0| 0.0| 0.0| 0.0|0.0549442093112735|       1.890111581377453|                     0.0|                     0.0|                     0.0|                     0.0|                     0.0|                     0.0|                     0.0|                     0.0|                      0.0|                      0.0|                      0.0|                        2.0|         1.890111581377453|\n",
      "+-------------+---+------+------+-----------+------+--------------+-------+------------+-------+---+---+---+---+---+---+---+---+---+---+---+---+---+----+---+---+---+----+----+----+---+----+----+----+----+------------------+------------------------+------------------------+------------------------+------------------------+------------------------+------------------------+------------------------+------------------------+------------------------+-------------------------+-------------------------+-------------------------+---------------------------+--------------------------+\n",
      "only showing top 20 rows\n",
      "\n"
     ]
    }
   ],
   "source": [
    "merge_df.show()"
   ]
  },
  {
   "cell_type": "markdown",
   "id": "eb976743-bd82-4277-a1b3-58c68c3cb6de",
   "metadata": {},
   "source": [
    "Major step combine both the data"
   ]
  },
  {
   "cell_type": "code",
   "execution_count": 23,
   "id": "612b9067-02a3-4a4f-8620-01123429aaa8",
   "metadata": {},
   "outputs": [
    {
     "name": "stdout",
     "output_type": "stream",
     "text": [
      "+-------------+----------+--------+------+---+-----------+--------+---------+-------------+-------------+--------------+---------------+-------------+----------+-------------+------------+----------+-----------+----------+----------+------+---------+--------+-----------+-------------+------------+---------------+-----------+----+------+------------+-----------+------+-----+----+----+-----+-----+---+-----+------+------+-------+-----------+-----+------+------------+---------+-----+----+-----+------------+-----------+---+------------+------+------+----+------+------+-----+---------+--------+-----+---------+----+----------+-----------+---+--------+-----------+--------+-------+-----------+------+--------+-------+--------+-----------+-----+------+----------+--------+-----------+---------------------+-----+------+-------------+-----+------+------+--------+-------------+------+----+-------+-----+------+-----------------+------------+-----+---+------+------+---------------+------+--------------+------+------------+-------+---+---+---+---+---+---+---+---+---+---+---+---+---+---+---+---+---+---+---+---+---+----+----+----+----+------------------+------------------------+------------------------+------------------------+------------------------+------------------------+------------------------+------------------------+------------------------+------------------------+-------------------------+-------------------------+-------------------------+---------------------------+--------------------------+\n",
      "|external_code|      date|customer|retail|qty|long sleeve|culottes|miniskirt|short sleeves|printed shirt|short cardigan|solid color top|trapeze dress|sleeveless|long cardigan|sheath dress|short coat|medium coat|doll dress|long dress|shorts|long coat|jumpsuit|drop sleeve|patterned top|kimono dress|medium cardigan|shirt dress|maxi|capris|gitana skirt|long duster|yellow|brown|blue|grey|green|black|red|white|orange|violet|acrylic|scuba crepe|tulle|angora|faux leather|georgette|lurex|nice|crepe|satin cotton|silky satin|fur|matte jersey|plisse|velvet|lace|cotton|piquet|plush|bengaline|jacquard|frise|technical|cady|dark jeans|light jeans|ity|plumetis|polyviscous|dainetto|webbing|foam rubber|chanel|marocain|macrame|embossed|heavy jeans|nylon|tencel|paillettes|chambree|chine crepe|muslin cotton or silk|linen|tactel|viscose twill|cloth|mohair|mutton|scottish|milano stitch|devore|hron|ottoman|fluid|flamed|fluid polyviscous|shiny jersey|goose|_c0|retail|season|       category| color|    image_path|fabric|release_date|restock|  0|  1|  2|  3|  4|  5|  6|  7|  8|  9| 10| 11|d_1|d_2|d_3|d_4|d_5|d_6|d_7|d_8|d_9|d_10|d_11|d_12|d_13|             price|sales_after_discount_d_1|sales_after_discount_d_2|sales_after_discount_d_3|sales_after_discount_d_4|sales_after_discount_d_5|sales_after_discount_d_6|sales_after_discount_d_7|sales_after_discount_d_8|sales_after_discount_d_9|sales_after_discount_d_10|sales_after_discount_d_11|sales_after_discount_d_12|total_sales_before_discount|total_sales_after_discount|\n",
      "+-------------+----------+--------+------+---+-----------+--------+---------+-------------+-------------+--------------+---------------+-------------+----------+-------------+------------+----------+-----------+----------+----------+------+---------+--------+-----------+-------------+------------+---------------+-----------+----+------+------------+-----------+------+-----+----+----+-----+-----+---+-----+------+------+-------+-----------+-----+------+------------+---------+-----+----+-----+------------+-----------+---+------------+------+------+----+------+------+-----+---------+--------+-----+---------+----+----------+-----------+---+--------+-----------+--------+-------+-----------+------+--------+-------+--------+-----------+-----+------+----------+--------+-----------+---------------------+-----+------+-------------+-----+------+------+--------+-------------+------+----+-------+-----+------+-----------------+------------+-----+---+------+------+---------------+------+--------------+------+------------+-------+---+---+---+---+---+---+---+---+---+---+---+---+---+---+---+---+---+---+---+---+---+----+----+----+----+------------------+------------------------+------------------------+------------------------+------------------------+------------------------+------------------------+------------------------+------------------------+------------------------+-------------------------+-------------------------+-------------------------+---------------------------+--------------------------+\n",
      "|           28|2016-12-19|   10295|    28|  1|         65|      47|       41|           43|           60|            17|             26|         36.4|        58|           46|          44|        83|         36|        53|        70|    37|       54|      49|         47|           63|          26|             36|       66.6|  69|    24|           0|         36|    74|   65|  79|  16|   80|   27| 60|   86|    58|    54|     78|          0|   64|    65|          55|       31|   26|  20|   34|          39|         21| 80|           0|    44|   100|  69|    71|    23|   64|       43|      67|   68|       68|  20|        55|         64| 70|      43|         -1|       0|     40|         32|    85|      76|     51|      55|         42|   78|    37|        28|      32|         43|                   -1|   50|    51|            0|   81|    77|    49|      53|            0|    12|  17|     56|   78|    48|               -1|          35|   58|182|    16|  SS17|solid color top|yellow|PE17/00028.png| tulle|    12/12/16|     13|  1|  1|  2|  0|  0|  0|  0|  1|  0|  1|  1|  0| 16|0.0|0.0|0.4|0.4|0.4|0.4|0.4|0.6| 0.6| 0.6| 0.6| 0.6|0.0549442093112735|      15.120892651019624|                     0.0|                     0.0|      0.3780223162754906|      0.3780223162754906|      0.3780223162754906|      0.3780223162754906|      0.3780223162754906|      0.5670334744132358|       0.5670334744132358|       0.5670334744132358|       0.5670334744132358|                       20.4|        19.279138130050022|\n",
      "|           28|2017-03-06|   13597|    54|  1|         50|      52|       37|           68|           72|            32|             34|         42.4|        67|           54|          66|        42|         45|        50|        85|    48|       29|      33|         41|           82|          38|             31|       84.6|  74|    47|           0|         76|    80|   59|  73|  19|   73|   24| 56|   80|    58|    57|     71|          0|   75|    52|          44|       27|   20|  21|   37|          34|          9| 53|          80|    39|    56|  79|    74|    31|   38|       34|      74|   70|       82|  29|        64|         78| 90|      51|         -1|       0|     66|         59|    68|      68|     61|      72|         36|   75|    40|        16|       0|         43|                   -1|   67|    52|           44|   85|    45|    51|      65|           34|    26|  18|     84|   85|    41|               -1|          30|   30|182|    16|  SS17|solid color top|yellow|PE17/00028.png| tulle|    12/12/16|     13|  1|  1|  2|  0|  0|  0|  0|  1|  0|  1|  1|  0| 16|0.0|0.0|0.4|0.4|0.4|0.4|0.4|0.6| 0.6| 0.6| 0.6| 0.6|0.0549442093112735|      15.120892651019624|                     0.0|                     0.0|      0.3780223162754906|      0.3780223162754906|      0.3780223162754906|      0.3780223162754906|      0.3780223162754906|      0.5670334744132358|       0.5670334744132358|       0.5670334744132358|       0.5670334744132358|                       20.4|        19.279138130050022|\n",
      "+-------------+----------+--------+------+---+-----------+--------+---------+-------------+-------------+--------------+---------------+-------------+----------+-------------+------------+----------+-----------+----------+----------+------+---------+--------+-----------+-------------+------------+---------------+-----------+----+------+------------+-----------+------+-----+----+----+-----+-----+---+-----+------+------+-------+-----------+-----+------+------------+---------+-----+----+-----+------------+-----------+---+------------+------+------+----+------+------+-----+---------+--------+-----+---------+----+----------+-----------+---+--------+-----------+--------+-------+-----------+------+--------+-------+--------+-----------+-----+------+----------+--------+-----------+---------------------+-----+------+-------------+-----+------+------+--------+-------------+------+----+-------+-----+------+-----------------+------------+-----+---+------+------+---------------+------+--------------+------+------------+-------+---+---+---+---+---+---+---+---+---+---+---+---+---+---+---+---+---+---+---+---+---+----+----+----+----+------------------+------------------------+------------------------+------------------------+------------------------+------------------------+------------------------+------------------------+------------------------+------------------------+-------------------------+-------------------------+-------------------------+---------------------------+--------------------------+\n",
      "only showing top 2 rows\n",
      "\n"
     ]
    }
   ],
   "source": [
    "\n",
    "final_df=combined_df.join(merge_df, on='external_code', how='inner')\n",
    "# Show sample of merged data\n",
    "final_df.show(2)\n"
   ]
  },
  {
   "cell_type": "markdown",
   "id": "595d43c8-dac1-4c7f-af87-2bf91f28ced7",
   "metadata": {},
   "source": [
    "Save Data to Parquet"
   ]
  },
  {
   "cell_type": "code",
   "execution_count": 26,
   "id": "ff6f9eff-830d-4ee1-b5e6-9089d7a0d956",
   "metadata": {},
   "outputs": [],
   "source": [
    "#remove duplicate columns before saving into parquet format\n",
    "# Assume you have a DataFrame `df` with duplicate column names\n",
    "columns = final_df.columns\n",
    "duplicates = [col for col in columns if columns.count(col) > 1]\n",
    "\n",
    "for col in duplicates:\n",
    "    final_df = final_df.drop(col)\n"
   ]
  },
  {
   "cell_type": "code",
   "execution_count": 28,
   "id": "c3caae8c-6050-45a9-ae9e-d4ef82db8a2f",
   "metadata": {},
   "outputs": [],
   "source": [
    "\n",
    "\n",
    "final_df.write.mode('overwrite').parquet('C:/Documents/m5-sales-forecasting/data/Customeranalysis')\n"
   ]
  },
  {
   "cell_type": "code",
   "execution_count": 1,
   "id": "2b17f37e-539b-429c-a30f-2cc7d6b800a2",
   "metadata": {},
   "outputs": [
    {
     "ename": "NameError",
     "evalue": "name 'final_df' is not defined",
     "output_type": "error",
     "traceback": [
      "\u001b[1;31m---------------------------------------------------------------------------\u001b[0m",
      "\u001b[1;31mNameError\u001b[0m                                 Traceback (most recent call last)",
      "Cell \u001b[1;32mIn[1], line 4\u001b[0m\n\u001b[0;32m      1\u001b[0m \u001b[38;5;28;01mfrom\u001b[39;00m\u001b[38;5;250m \u001b[39m\u001b[38;5;21;01mpyspark\u001b[39;00m\u001b[38;5;21;01m.\u001b[39;00m\u001b[38;5;21;01msql\u001b[39;00m\u001b[38;5;21;01m.\u001b[39;00m\u001b[38;5;21;01mfunctions\u001b[39;00m\u001b[38;5;250m \u001b[39m\u001b[38;5;28;01mimport\u001b[39;00m rand\n\u001b[0;32m      3\u001b[0m \u001b[38;5;66;03m# Sample 500 random rows\u001b[39;00m\n\u001b[1;32m----> 4\u001b[0m sample_df \u001b[38;5;241m=\u001b[39m \u001b[43mfinal_df\u001b[49m\u001b[38;5;241m.\u001b[39morderBy(rand())\u001b[38;5;241m.\u001b[39mlimit(\u001b[38;5;241m500\u001b[39m)\n\u001b[0;32m      6\u001b[0m \u001b[38;5;66;03m# Write to a single CSV file with header\u001b[39;00m\n\u001b[0;32m      7\u001b[0m sample_df\u001b[38;5;241m.\u001b[39mcoalesce(\u001b[38;5;241m1\u001b[39m)\u001b[38;5;241m.\u001b[39mwrite\u001b[38;5;241m.\u001b[39mmode(\u001b[38;5;124m'\u001b[39m\u001b[38;5;124moverwrite\u001b[39m\u001b[38;5;124m'\u001b[39m)\u001b[38;5;241m.\u001b[39moption(\u001b[38;5;124m\"\u001b[39m\u001b[38;5;124mheader\u001b[39m\u001b[38;5;124m\"\u001b[39m, \u001b[38;5;28;01mTrue\u001b[39;00m)\u001b[38;5;241m.\u001b[39mcsv(\u001b[38;5;124m\"\u001b[39m\u001b[38;5;124mC:/Documents/m5-sales-forecasting/data/Customeranalysis_sample_csv\u001b[39m\u001b[38;5;124m\"\u001b[39m)\n",
      "\u001b[1;31mNameError\u001b[0m: name 'final_df' is not defined"
     ]
    }
   ],
   "source": [
    "from pyspark.sql.functions import rand\n",
    "\n",
    "# Sample 500 random rows\n",
    "sample_df = final_df.orderBy(rand()).limit(500)\n",
    "\n",
    "# Write to a single CSV file with header\n",
    "sample_df.coalesce(1).write.mode('overwrite').option(\"header\", True).csv(\"C:/Documents/m5-sales-forecasting/data/Customeranalysis_sample_csv\")"
   ]
  },
  {
   "cell_type": "code",
   "execution_count": null,
   "id": "966dddbe-4d7a-430a-973a-6d44fd218a12",
   "metadata": {},
   "outputs": [],
   "source": []
  }
 ],
 "metadata": {
  "kernelspec": {
   "display_name": "Python 3 (ipykernel)",
   "language": "python",
   "name": "python3"
  },
  "language_info": {
   "codemirror_mode": {
    "name": "ipython",
    "version": 3
   },
   "file_extension": ".py",
   "mimetype": "text/x-python",
   "name": "python",
   "nbconvert_exporter": "python",
   "pygments_lexer": "ipython3",
   "version": "3.10.0"
  }
 },
 "nbformat": 4,
 "nbformat_minor": 5
}
