{
  "nbformat": 4,
  "nbformat_minor": 0,
  "metadata": {
    "colab": {
      "provenance": [],
      "gpuType": "T4"
    },
    "kernelspec": {
      "name": "python3",
      "display_name": "Python 3"
    },
    "language_info": {
      "name": "python"
    },
    "accelerator": "GPU"
  },
  "cells": [
    {
      "cell_type": "code",
      "execution_count": null,
      "metadata": {
        "id": "eNKqig1vxxjT",
        "outputId": "1d473993-cc68-4629-f767-00c0c90ec573",
        "colab": {
          "base_uri": "https://localhost:8080/"
        }
      },
      "outputs": [
        {
          "output_type": "stream",
          "name": "stdout",
          "text": [
            "\u001b[31mERROR: Operation cancelled by user\u001b[0m\u001b[31m\n",
            "\u001b[0m"
          ]
        }
      ],
      "source": [
        "# Install PySpark and findspark\n",
        "!pip install -q findspark\n",
        "\n"
      ]
    },
    {
      "cell_type": "code",
      "source": [
        "!pip install sparkxgb"
      ],
      "metadata": {
        "colab": {
          "base_uri": "https://localhost:8080/",
          "height": 517
        },
        "id": "uUiSztJ0MUfW",
        "outputId": "6736f0a2-6b37-4d36-a994-8720facc61b9"
      },
      "execution_count": null,
      "outputs": [
        {
          "output_type": "stream",
          "name": "stdout",
          "text": [
            "Collecting sparkxgb\n",
            "  Downloading sparkxgb-0.2.tar.gz (3.9 kB)\n",
            "  Preparing metadata (setup.py) ... \u001b[?25l\u001b[?25hdone\n",
            "Collecting pyspark==3.5.4 (from sparkxgb)\n",
            "  Downloading pyspark-3.5.4.tar.gz (317.3 MB)\n",
            "\u001b[2K     \u001b[90m━━━━━━━━━━━━━━━━━━━━━━━━━━━━━━━━━━━━━━━\u001b[0m \u001b[32m317.3/317.3 MB\u001b[0m \u001b[31m3.8 MB/s\u001b[0m eta \u001b[36m0:00:00\u001b[0m\n",
            "\u001b[?25h  Preparing metadata (setup.py) ... \u001b[?25l\u001b[?25hdone\n",
            "Requirement already satisfied: py4j==0.10.9.7 in /usr/local/lib/python3.11/dist-packages (from pyspark==3.5.4->sparkxgb) (0.10.9.7)\n",
            "Building wheels for collected packages: sparkxgb, pyspark\n",
            "  Building wheel for sparkxgb (setup.py) ... \u001b[?25l\u001b[?25hdone\n",
            "  Created wheel for sparkxgb: filename=sparkxgb-0.2-py3-none-any.whl size=5629 sha256=70294a349e8fdb38a7f354f92b21904774429abdc7a698ef378bd4dcb07b1156\n",
            "  Stored in directory: /root/.cache/pip/wheels/f9/e5/73/8b34b9b0ba0e0793033077ead4ec8cb93329bcc71d53cfd7fc\n",
            "  Building wheel for pyspark (setup.py) ... \u001b[?25l\u001b[?25hdone\n",
            "  Created wheel for pyspark: filename=pyspark-3.5.4-py2.py3-none-any.whl size=317849769 sha256=c1a928b5f356675293155a80aaf8c3c096bc606ae8d54c3f9238c8592c6457d2\n",
            "  Stored in directory: /root/.cache/pip/wheels/8d/28/22/5dbae8a8714ef046cebd320d0ef7c92f5383903cf854c15c0c\n",
            "Successfully built sparkxgb pyspark\n",
            "Installing collected packages: pyspark, sparkxgb\n",
            "  Attempting uninstall: pyspark\n",
            "    Found existing installation: pyspark 3.5.5\n",
            "    Uninstalling pyspark-3.5.5:\n",
            "      Successfully uninstalled pyspark-3.5.5\n",
            "Successfully installed pyspark-3.5.4 sparkxgb-0.2\n"
          ]
        },
        {
          "output_type": "display_data",
          "data": {
            "application/vnd.colab-display-data+json": {
              "pip_warning": {
                "packages": [
                  "pyspark"
                ]
              },
              "id": "92d297d5f6c34fd2baecdb8834e79679"
            }
          },
          "metadata": {}
        }
      ]
    },
    {
      "cell_type": "code",
      "source": [
        "# Import necessary libraries\n",
        "from pyspark.sql import SparkSession\n",
        "from pyspark.ml.feature import VectorAssembler\n",
        "from pyspark.ml.classification import LogisticRegression\n",
        "from pyspark.ml.evaluation import BinaryClassificationEvaluator\n",
        "import sparkxgb\n"
      ],
      "metadata": {
        "id": "EoIIMVsvMNve"
      },
      "execution_count": null,
      "outputs": []
    },
    {
      "cell_type": "code",
      "source": [
        "from google.colab import drive\n",
        "drive.mount('/content/drive')\n"
      ],
      "metadata": {
        "colab": {
          "base_uri": "https://localhost:8080/"
        },
        "id": "6YacJ_rqykGM",
        "outputId": "d89ad367-e40a-4db8-c5e9-308c4d28dbbf"
      },
      "execution_count": null,
      "outputs": [
        {
          "output_type": "stream",
          "name": "stdout",
          "text": [
            "Drive already mounted at /content/drive; to attempt to forcibly remount, call drive.mount(\"/content/drive\", force_remount=True).\n"
          ]
        }
      ]
    },
    {
      "cell_type": "code",
      "source": [
        "from pyspark.sql import SparkSession\n",
        "spark = SparkSession.builder \\\n",
        "    .appName(\"GPU_Enabled_Spark\") \\\n",
        "    .config(\"spark.executor.memory\", \"4g\") \\\n",
        "    .config(\"spark.driver.memory\", \"4g\") \\\n",
        "    .getOrCreate()\n"
      ],
      "metadata": {
        "id": "9ZjwIaqAzcDe"
      },
      "execution_count": null,
      "outputs": []
    },
    {
      "cell_type": "code",
      "source": [
        "from pyspark.sql.functions import rand\n",
        "import os, shutil\n",
        "from google.colab import files\n",
        "\n",
        "# Step 1: Load Parquet file\n",
        "parquet_path = '/content/drive/MyDrive/Customeranalysis/part-00000-bc34bbb5-8bd9-48b4-b7b8-7dabcfd43015-c000.snappy.parquet'\n",
        "df = spark.read.parquet(parquet_path)\n",
        "\n",
        "# Step 2: Limit and sample 500 random rows\n",
        "df = df.limit(10000).orderBy(rand()).limit(500)\n",
        "\n",
        "\n",
        "\n",
        "\n"
      ],
      "metadata": {
        "colab": {
          "base_uri": "https://localhost:8080/",
          "height": 17
        },
        "id": "ll4lwIIpzMN_",
        "outputId": "5ba26ae3-43d1-4296-ff7b-0975bbbf16ff"
      },
      "execution_count": null,
      "outputs": [
        {
          "output_type": "display_data",
          "data": {
            "text/plain": [
              "<IPython.core.display.Javascript object>"
            ],
            "application/javascript": [
              "\n",
              "    async function download(id, filename, size) {\n",
              "      if (!google.colab.kernel.accessAllowed) {\n",
              "        return;\n",
              "      }\n",
              "      const div = document.createElement('div');\n",
              "      const label = document.createElement('label');\n",
              "      label.textContent = `Downloading \"${filename}\": `;\n",
              "      div.appendChild(label);\n",
              "      const progress = document.createElement('progress');\n",
              "      progress.max = size;\n",
              "      div.appendChild(progress);\n",
              "      document.body.appendChild(div);\n",
              "\n",
              "      const buffers = [];\n",
              "      let downloaded = 0;\n",
              "\n",
              "      const channel = await google.colab.kernel.comms.open(id);\n",
              "      // Send a message to notify the kernel that we're ready.\n",
              "      channel.send({})\n",
              "\n",
              "      for await (const message of channel.messages) {\n",
              "        // Send a message to notify the kernel that we're ready.\n",
              "        channel.send({})\n",
              "        if (message.buffers) {\n",
              "          for (const buffer of message.buffers) {\n",
              "            buffers.push(buffer);\n",
              "            downloaded += buffer.byteLength;\n",
              "            progress.value = downloaded;\n",
              "          }\n",
              "        }\n",
              "      }\n",
              "      const blob = new Blob(buffers, {type: 'application/binary'});\n",
              "      const a = document.createElement('a');\n",
              "      a.href = window.URL.createObjectURL(blob);\n",
              "      a.download = filename;\n",
              "      div.appendChild(a);\n",
              "      a.click();\n",
              "      div.remove();\n",
              "    }\n",
              "  "
            ]
          },
          "metadata": {}
        },
        {
          "output_type": "display_data",
          "data": {
            "text/plain": [
              "<IPython.core.display.Javascript object>"
            ],
            "application/javascript": [
              "download(\"download_f2c4665b-aa45-46fd-9a5b-b591aac7cce6\", \"sample_500.csv\", 314602)"
            ]
          },
          "metadata": {}
        }
      ]
    },
    {
      "cell_type": "code",
      "source": [
        "from pyspark.sql.functions import col\n",
        "\n",
        "# Convert the sales columns to numeric (float type)\n",
        "sales_columns = ['sales_after_discount_d_9', 'sales_after_discount_d_10', 'sales_after_discount_d_11']\n",
        "\n",
        "# Convert the sales columns to float\n",
        "for column in sales_columns:\n",
        "    df = df.withColumn(column, col(column).cast('float'))\n",
        "\n",
        "# Create the churn column: churn if 2 or more of the last 3 months have 0 sales\n",
        "df = df.withColumn('churned',\n",
        "                   ( (col('sales_after_discount_d_9') == 0).cast('int') +\n",
        "                     (col('sales_after_discount_d_10') == 0).cast('int') +\n",
        "                     (col('sales_after_discount_d_11') == 0).cast('int') ) >= 2 )"
      ],
      "metadata": {
        "id": "1_RFX-flz49X"
      },
      "execution_count": null,
      "outputs": []
    },
    {
      "cell_type": "code",
      "source": [
        "Exploratory Data Analysis"
      ],
      "metadata": {
        "id": "bDCKU-Mkz8qS"
      },
      "execution_count": null,
      "outputs": []
    },
    {
      "cell_type": "markdown",
      "source": [
        "# Exploratory Data Analysis"
      ],
      "metadata": {
        "id": "HMbHHnh40d5o"
      }
    },
    {
      "cell_type": "code",
      "source": [
        "import matplotlib.pyplot as plt\n",
        "\n",
        "# Plot the distribution of churned vs. non-churned customers\n",
        "churn_count = df.groupBy('churned').count().toPandas()\n",
        "\n",
        "plt.bar(churn_count['churned'], churn_count['count'], color=['blue', 'orange'])\n",
        "plt.xlabel('Churned (0 = No, 1 = Yes)')\n",
        "plt.ylabel('Count')\n",
        "plt.title('Distribution of Churned vs Non-Churned Customers')\n",
        "plt.xticks([0, 1], ['No', 'Yes'])\n",
        "plt.show()\n"
      ],
      "metadata": {
        "colab": {
          "base_uri": "https://localhost:8080/",
          "height": 472
        },
        "id": "B4GPmz2_0ilZ",
        "outputId": "dcc984c1-1df4-45ca-bb74-993dbf2b923d"
      },
      "execution_count": null,
      "outputs": [
        {
          "output_type": "display_data",
          "data": {
            "text/plain": [
              "<Figure size 640x480 with 1 Axes>"
            ],
            "image/png": "[encoded data removed]"
          },
          "metadata": {}
        }
      ]
    },
    {
      "cell_type": "code",
      "source": [
        "# Assemble features into a single vector column\n",
        "assembler = VectorAssembler(\n",
        "    inputCols=[col for col in selected_columns if col != 'churned'],\n",
        "    outputCol=\"features\"\n",
        ")\n",
        "df_features = assembler.transform(df_selected)\n",
        "\n",
        "# Cast churned column into integer\n",
        "df_features = df_features.withColumn(\"churned\", col(\"churned\").cast(\"integer\"))\n"
      ],
      "metadata": {
        "id": "rskbcGHi_0eB"
      },
      "execution_count": null,
      "outputs": []
    },
    {
      "cell_type": "code",
      "source": [
        "# Split the data into training and test sets\n",
        "train_data, test_data = df_features.randomSplit([0.8, 0.2], seed=42)\n"
      ],
      "metadata": {
        "id": "_T8epQEq8Y_d"
      },
      "execution_count": null,
      "outputs": []
    },
    {
      "cell_type": "code",
      "source": [
        "predictions = model.transform(test_data)\n"
      ],
      "metadata": {
        "id": "EUmFsfqDBMvm"
      },
      "execution_count": null,
      "outputs": []
    },
    {
      "cell_type": "code",
      "source": [
        "from pyspark.ml.evaluation import BinaryClassificationEvaluator\n",
        "\n",
        "evaluator = BinaryClassificationEvaluator(labelCol=\"churned\")\n",
        "auc = evaluator.evaluate(predictions)\n",
        "print(f\"AUC: {auc:.3f}\")\n"
      ],
      "metadata": {
        "id": "GkJu2SiIBO2F"
      },
      "execution_count": null,
      "outputs": []
    },
    {
      "cell_type": "code",
      "source": [
        "from pyspark.mllib.evaluation import MulticlassMetrics\n",
        "\n",
        "# Make predictions\n",
        "predictions = model.transform(test_data)\n",
        "\n",
        "# Convert predictions to RDD of (prediction, label)\n",
        "prediction_and_labels = predictions.select(\"prediction\", \"churned\").rdd.map(lambda row: (float(row[0]), float(row[1])))\n",
        "\n",
        "# Compute confusion matrix\n",
        "metrics = MulticlassMetrics(prediction_and_labels)\n",
        "conf_matrix = metrics.confusionMatrix().toArray()\n",
        "\n",
        "print(\"Confusion Matrix:\")\n",
        "print(conf_matrix)\n"
      ],
      "metadata": {
        "id": "9buAgJ-eBplj"
      },
      "execution_count": null,
      "outputs": []
    },
    {
      "cell_type": "code",
      "source": [
        "# Get feature importances\n",
        "weights = model.coefficients\n",
        "features = assembler.getInputCols()\n",
        "\n",
        "print(\"\\nFeature Weights:\")\n",
        "for feature, weight in zip(features, weights):\n",
        "    print(f\"{feature}: {weight:.4f}\")\n"
      ],
      "metadata": {
        "id": "95N9Ddj-BqwE"
      },
      "execution_count": null,
      "outputs": []
    },
    {
      "cell_type": "code",
      "source": [
        "#new code run from here"
      ],
      "metadata": {
        "id": "RmNBvMncXXro"
      },
      "execution_count": null,
      "outputs": []
    },
    {
      "cell_type": "code",
      "source": [
        "import pandas as pd\n",
        "\n",
        "df = pd.read_csv('/content/sample_500.csv')\n"
      ],
      "metadata": {
        "id": "C1I24pSYXaKk"
      },
      "execution_count": null,
      "outputs": []
    },
    {
      "cell_type": "code",
      "source": [
        "df.info()\n",
        "df.describe()\n",
        "df.head()\n"
      ],
      "metadata": {
        "colab": {
          "base_uri": "https://localhost:8080/",
          "height": 451
        },
        "id": "Om_IeR1KXqVN",
        "outputId": "a8bc49c0-1e62-49c1-fa17-290d70e67df9"
      },
      "execution_count": null,
      "outputs": [
        {
          "output_type": "stream",
          "name": "stdout",
          "text": [
            "<class 'pandas.core.frame.DataFrame'>\n",
            "RangeIndex: 500 entries, 0 to 499\n",
            "Columns: 148 entries, external_code to total_sales_after_discount\n",
            "dtypes: float64(29), int64(112), object(7)\n",
            "memory usage: 578.3+ KB\n"
          ]
        },
        {
          "output_type": "execute_result",
          "data": {
            "text/plain": [
              "   external_code        date  customer  qty  long sleeve  culottes  miniskirt  \\\n",
              "0            101  2017-07-03    119101    1           42        87         52   \n",
              "1            101  2017-07-24    253496    1           45        84         52   \n",
              "2            101  2017-07-17    352874    1           44        78        100   \n",
              "3             81  2017-02-13    170866    1           48        57         53   \n",
              "4             85  2017-03-06    242706    1           50        52         37   \n",
              "\n",
              "   short sleeves  printed shirt  short cardigan  ...  \\\n",
              "0             79             66              55  ...   \n",
              "1             65             66              51  ...   \n",
              "2             77             68              55  ...   \n",
              "3             59             64              38  ...   \n",
              "4             68             72              32  ...   \n",
              "\n",
              "   sales_after_discount_d_5  sales_after_discount_d_6  \\\n",
              "0                  0.548194                  0.548194   \n",
              "1                  0.548194                  0.548194   \n",
              "2                  0.548194                  0.548194   \n",
              "3                  0.000000                  0.230767   \n",
              "4                  0.107584                  0.107584   \n",
              "\n",
              "   sales_after_discount_d_7  sales_after_discount_d_8  \\\n",
              "0                  0.548194                  0.548194   \n",
              "1                  0.548194                  0.548194   \n",
              "2                  0.548194                  0.548194   \n",
              "3                  0.000000                  0.000000   \n",
              "4                  0.107584                  0.107584   \n",
              "\n",
              "   sales_after_discount_d_9  sales_after_discount_d_10  \\\n",
              "0                  0.548194                   0.548194   \n",
              "1                  0.548194                   0.548194   \n",
              "2                  0.548194                   0.548194   \n",
              "3                  0.000000                   0.000000   \n",
              "4                  0.107584                   0.107584   \n",
              "\n",
              "   sales_after_discount_d_11  sales_after_discount_d_12  \\\n",
              "0                   0.548194                   0.548194   \n",
              "1                   0.548194                   0.548194   \n",
              "2                   0.548194                   0.548194   \n",
              "3                   0.000000                   0.000000   \n",
              "4                   0.107584                   0.107584   \n",
              "\n",
              "   total_sales_before_discount  total_sales_after_discount  \n",
              "0                         5.96                    5.731991  \n",
              "1                        68.96                   66.321834  \n",
              "2                         5.96                    5.731991  \n",
              "3                        12.25                   11.307599  \n",
              "4                        39.99                   39.111640  \n",
              "\n",
              "[5 rows x 148 columns]"
            ],
            "text/html": [
              "\n",
              "  <div id=\"df-c07c04f1-ac75-46e4-908e-29199286c9b9\" class=\"colab-df-container\">\n",
              "    <div>\n",
              "<style scoped>\n",
              "    .dataframe tbody tr th:only-of-type {\n",
              "        vertical-align: middle;\n",
              "    }\n",
              "\n",
              "    .dataframe tbody tr th {\n",
              "        vertical-align: top;\n",
              "    }\n",
              "\n",
              "    .dataframe thead th {\n",
              "        text-align: right;\n",
              "    }\n",
              "</style>\n",
              "<table border=\"1\" class=\"dataframe\">\n",
              "  <thead>\n",
              "    <tr style=\"text-align: right;\">\n",
              "      <th></th>\n",
              "      <th>external_code</th>\n",
              "      <th>date</th>\n",
              "      <th>customer</th>\n",
              "      <th>qty</th>\n",
              "      <th>long sleeve</th>\n",
              "      <th>culottes</th>\n",
              "      <th>miniskirt</th>\n",
              "      <th>short sleeves</th>\n",
              "      <th>printed shirt</th>\n",
              "      <th>short cardigan</th>\n",
              "      <th>...</th>\n",
              "      <th>sales_after_discount_d_5</th>\n",
              "      <th>sales_after_discount_d_6</th>\n",
              "      <th>sales_after_discount_d_7</th>\n",
              "      <th>sales_after_discount_d_8</th>\n",
              "      <th>sales_after_discount_d_9</th>\n",
              "      <th>sales_after_discount_d_10</th>\n",
              "      <th>sales_after_discount_d_11</th>\n",
              "      <th>sales_after_discount_d_12</th>\n",
              "      <th>total_sales_before_discount</th>\n",
              "      <th>total_sales_after_discount</th>\n",
              "    </tr>\n",
              "  </thead>\n",
              "  <tbody>\n",
              "    <tr>\n",
              "      <th>0</th>\n",
              "      <td>101</td>\n",
              "      <td>2017-07-03</td>\n",
              "      <td>119101</td>\n",
              "      <td>1</td>\n",
              "      <td>42</td>\n",
              "      <td>87</td>\n",
              "      <td>52</td>\n",
              "      <td>79</td>\n",
              "      <td>66</td>\n",
              "      <td>55</td>\n",
              "      <td>...</td>\n",
              "      <td>0.548194</td>\n",
              "      <td>0.548194</td>\n",
              "      <td>0.548194</td>\n",
              "      <td>0.548194</td>\n",
              "      <td>0.548194</td>\n",
              "      <td>0.548194</td>\n",
              "      <td>0.548194</td>\n",
              "      <td>0.548194</td>\n",
              "      <td>5.96</td>\n",
              "      <td>5.731991</td>\n",
              "    </tr>\n",
              "    <tr>\n",
              "      <th>1</th>\n",
              "      <td>101</td>\n",
              "      <td>2017-07-24</td>\n",
              "      <td>253496</td>\n",
              "      <td>1</td>\n",
              "      <td>45</td>\n",
              "      <td>84</td>\n",
              "      <td>52</td>\n",
              "      <td>65</td>\n",
              "      <td>66</td>\n",
              "      <td>51</td>\n",
              "      <td>...</td>\n",
              "      <td>0.548194</td>\n",
              "      <td>0.548194</td>\n",
              "      <td>0.548194</td>\n",
              "      <td>0.548194</td>\n",
              "      <td>0.548194</td>\n",
              "      <td>0.548194</td>\n",
              "      <td>0.548194</td>\n",
              "      <td>0.548194</td>\n",
              "      <td>68.96</td>\n",
              "      <td>66.321834</td>\n",
              "    </tr>\n",
              "    <tr>\n",
              "      <th>2</th>\n",
              "      <td>101</td>\n",
              "      <td>2017-07-17</td>\n",
              "      <td>352874</td>\n",
              "      <td>1</td>\n",
              "      <td>44</td>\n",
              "      <td>78</td>\n",
              "      <td>100</td>\n",
              "      <td>77</td>\n",
              "      <td>68</td>\n",
              "      <td>55</td>\n",
              "      <td>...</td>\n",
              "      <td>0.548194</td>\n",
              "      <td>0.548194</td>\n",
              "      <td>0.548194</td>\n",
              "      <td>0.548194</td>\n",
              "      <td>0.548194</td>\n",
              "      <td>0.548194</td>\n",
              "      <td>0.548194</td>\n",
              "      <td>0.548194</td>\n",
              "      <td>5.96</td>\n",
              "      <td>5.731991</td>\n",
              "    </tr>\n",
              "    <tr>\n",
              "      <th>3</th>\n",
              "      <td>81</td>\n",
              "      <td>2017-02-13</td>\n",
              "      <td>170866</td>\n",
              "      <td>1</td>\n",
              "      <td>48</td>\n",
              "      <td>57</td>\n",
              "      <td>53</td>\n",
              "      <td>59</td>\n",
              "      <td>64</td>\n",
              "      <td>38</td>\n",
              "      <td>...</td>\n",
              "      <td>0.000000</td>\n",
              "      <td>0.230767</td>\n",
              "      <td>0.000000</td>\n",
              "      <td>0.000000</td>\n",
              "      <td>0.000000</td>\n",
              "      <td>0.000000</td>\n",
              "      <td>0.000000</td>\n",
              "      <td>0.000000</td>\n",
              "      <td>12.25</td>\n",
              "      <td>11.307599</td>\n",
              "    </tr>\n",
              "    <tr>\n",
              "      <th>4</th>\n",
              "      <td>85</td>\n",
              "      <td>2017-03-06</td>\n",
              "      <td>242706</td>\n",
              "      <td>1</td>\n",
              "      <td>50</td>\n",
              "      <td>52</td>\n",
              "      <td>37</td>\n",
              "      <td>68</td>\n",
              "      <td>72</td>\n",
              "      <td>32</td>\n",
              "      <td>...</td>\n",
              "      <td>0.107584</td>\n",
              "      <td>0.107584</td>\n",
              "      <td>0.107584</td>\n",
              "      <td>0.107584</td>\n",
              "      <td>0.107584</td>\n",
              "      <td>0.107584</td>\n",
              "      <td>0.107584</td>\n",
              "      <td>0.107584</td>\n",
              "      <td>39.99</td>\n",
              "      <td>39.111640</td>\n",
              "    </tr>\n",
              "  </tbody>\n",
              "</table>\n",
              "<p>5 rows × 148 columns</p>\n",
              "</div>\n",
              "    <div class=\"colab-df-buttons\">\n",
              "\n",
              "  <div class=\"colab-df-container\">\n",
              "    <button class=\"colab-df-convert\" onclick=\"convertToInteractive('df-c07c04f1-ac75-46e4-908e-29199286c9b9')\"\n",
              "            title=\"Convert this dataframe to an interactive table.\"\n",
              "            style=\"display:none;\">\n",
              "\n",
              "  <svg xmlns=\"http://www.w3.org/2000/svg\" height=\"24px\" viewBox=\"0 -960 960 960\">\n",
              "    <path d=\"M120-120v-720h720v720H120Zm60-500h600v-160H180v160Zm220 220h160v-160H400v160Zm0 220h160v-160H400v160ZM180-400h160v-160H180v160Zm440 0h160v-160H620v160ZM180-180h160v-160H180v160Zm440 0h160v-160H620v160Z\"/>\n",
              "  </svg>\n",
              "    </button>\n",
              "\n",
              "  <style>\n",
              "    .colab-df-container {\n",
              "      display:flex;\n",
              "      gap: 12px;\n",
              "    }\n",
              "\n",
              "    .colab-df-convert {\n",
              "      background-color: #E8F0FE;\n",
              "      border: none;\n",
              "      border-radius: 50%;\n",
              "      cursor: pointer;\n",
              "      display: none;\n",
              "      fill: #1967D2;\n",
              "      height: 32px;\n",
              "      padding: 0 0 0 0;\n",
              "      width: 32px;\n",
              "    }\n",
              "\n",
              "    .colab-df-convert:hover {\n",
              "      background-color: #E2EBFA;\n",
              "      box-shadow: 0px 1px 2px rgba(60, 64, 67, 0.3), 0px 1px 3px 1px rgba(60, 64, 67, 0.15);\n",
              "      fill: #174EA6;\n",
              "    }\n",
              "\n",
              "    .colab-df-buttons div {\n",
              "      margin-bottom: 4px;\n",
              "    }\n",
              "\n",
              "    [theme=dark] .colab-df-convert {\n",
              "      background-color: #3B4455;\n",
              "      fill: #D2E3FC;\n",
              "    }\n",
              "\n",
              "    [theme=dark] .colab-df-convert:hover {\n",
              "      background-color: #434B5C;\n",
              "      box-shadow: 0px 1px 3px 1px rgba(0, 0, 0, 0.15);\n",
              "      filter: drop-shadow(0px 1px 2px rgba(0, 0, 0, 0.3));\n",
              "      fill: #FFFFFF;\n",
              "    }\n",
              "  </style>\n",
              "\n",
              "    <script>\n",
              "      const buttonEl =\n",
              "        document.querySelector('#df-c07c04f1-ac75-46e4-908e-29199286c9b9 button.colab-df-convert');\n",
              "      buttonEl.style.display =\n",
              "        google.colab.kernel.accessAllowed ? 'block' : 'none';\n",
              "\n",
              "      async function convertToInteractive(key) {\n",
              "        const element = document.querySelector('#df-c07c04f1-ac75-46e4-908e-29199286c9b9');\n",
              "        const dataTable =\n",
              "          await google.colab.kernel.invokeFunction('convertToInteractive',\n",
              "                                                    [key], {});\n",
              "        if (!dataTable) return;\n",
              "\n",
              "        const docLinkHtml = 'Like what you see? Visit the ' +\n",
              "          '<a target=\"_blank\" href=https://colab.research.google.com/notebooks/data_table.ipynb>data table notebook</a>'\n",
              "          + ' to learn more about interactive tables.';\n",
              "        element.innerHTML = '';\n",
              "        dataTable['output_type'] = 'display_data';\n",
              "        await google.colab.output.renderOutput(dataTable, element);\n",
              "        const docLink = document.createElement('div');\n",
              "        docLink.innerHTML = docLinkHtml;\n",
              "        element.appendChild(docLink);\n",
              "      }\n",
              "    </script>\n",
              "  </div>\n",
              "\n",
              "\n",
              "    <div id=\"df-4b919320-9856-43e4-92f2-8be1fd1d3a85\">\n",
              "      <button class=\"colab-df-quickchart\" onclick=\"quickchart('df-4b919320-9856-43e4-92f2-8be1fd1d3a85')\"\n",
              "                title=\"Suggest charts\"\n",
              "                style=\"display:none;\">\n",
              "\n",
              "<svg xmlns=\"http://www.w3.org/2000/svg\" height=\"24px\"viewBox=\"0 0 24 24\"\n",
              "     width=\"24px\">\n",
              "    <g>\n",
              "        <path d=\"M19 3H5c-1.1 0-2 .9-2 2v14c0 1.1.9 2 2 2h14c1.1 0 2-.9 2-2V5c0-1.1-.9-2-2-2zM9 17H7v-7h2v7zm4 0h-2V7h2v10zm4 0h-2v-4h2v4z\"/>\n",
              "    </g>\n",
              "</svg>\n",
              "      </button>\n",
              "\n",
              "<style>\n",
              "  .colab-df-quickchart {\n",
              "      --bg-color: #E8F0FE;\n",
              "      --fill-color: #1967D2;\n",
              "      --hover-bg-color: #E2EBFA;\n",
              "      --hover-fill-color: #174EA6;\n",
              "      --disabled-fill-color: #AAA;\n",
              "      --disabled-bg-color: #DDD;\n",
              "  }\n",
              "\n",
              "  [theme=dark] .colab-df-quickchart {\n",
              "      --bg-color: #3B4455;\n",
              "      --fill-color: #D2E3FC;\n",
              "      --hover-bg-color: #434B5C;\n",
              "      --hover-fill-color: #FFFFFF;\n",
              "      --disabled-bg-color: #3B4455;\n",
              "      --disabled-fill-color: #666;\n",
              "  }\n",
              "\n",
              "  .colab-df-quickchart {\n",
              "    background-color: var(--bg-color);\n",
              "    border: none;\n",
              "    border-radius: 50%;\n",
              "    cursor: pointer;\n",
              "    display: none;\n",
              "    fill: var(--fill-color);\n",
              "    height: 32px;\n",
              "    padding: 0;\n",
              "    width: 32px;\n",
              "  }\n",
              "\n",
              "  .colab-df-quickchart:hover {\n",
              "    background-color: var(--hover-bg-color);\n",
              "    box-shadow: 0 1px 2px rgba(60, 64, 67, 0.3), 0 1px 3px 1px rgba(60, 64, 67, 0.15);\n",
              "    fill: var(--button-hover-fill-color);\n",
              "  }\n",
              "\n",
              "  .colab-df-quickchart-complete:disabled,\n",
              "  .colab-df-quickchart-complete:disabled:hover {\n",
              "    background-color: var(--disabled-bg-color);\n",
              "    fill: var(--disabled-fill-color);\n",
              "    box-shadow: none;\n",
              "  }\n",
              "\n",
              "  .colab-df-spinner {\n",
              "    border: 2px solid var(--fill-color);\n",
              "    border-color: transparent;\n",
              "    border-bottom-color: var(--fill-color);\n",
              "    animation:\n",
              "      spin 1s steps(1) infinite;\n",
              "  }\n",
              "\n",
              "  @keyframes spin {\n",
              "    0% {\n",
              "      border-color: transparent;\n",
              "      border-bottom-color: var(--fill-color);\n",
              "      border-left-color: var(--fill-color);\n",
              "    }\n",
              "    20% {\n",
              "      border-color: transparent;\n",
              "      border-left-color: var(--fill-color);\n",
              "      border-top-color: var(--fill-color);\n",
              "    }\n",
              "    30% {\n",
              "      border-color: transparent;\n",
              "      border-left-color: var(--fill-color);\n",
              "      border-top-color: var(--fill-color);\n",
              "      border-right-color: var(--fill-color);\n",
              "    }\n",
              "    40% {\n",
              "      border-color: transparent;\n",
              "      border-right-color: var(--fill-color);\n",
              "      border-top-color: var(--fill-color);\n",
              "    }\n",
              "    60% {\n",
              "      border-color: transparent;\n",
              "      border-right-color: var(--fill-color);\n",
              "    }\n",
              "    80% {\n",
              "      border-color: transparent;\n",
              "      border-right-color: var(--fill-color);\n",
              "      border-bottom-color: var(--fill-color);\n",
              "    }\n",
              "    90% {\n",
              "      border-color: transparent;\n",
              "      border-bottom-color: var(--fill-color);\n",
              "    }\n",
              "  }\n",
              "</style>\n",
              "\n",
              "      <script>\n",
              "        async function quickchart(key) {\n",
              "          const quickchartButtonEl =\n",
              "            document.querySelector('#' + key + ' button');\n",
              "          quickchartButtonEl.disabled = true;  // To prevent multiple clicks.\n",
              "          quickchartButtonEl.classList.add('colab-df-spinner');\n",
              "          try {\n",
              "            const charts = await google.colab.kernel.invokeFunction(\n",
              "                'suggestCharts', [key], {});\n",
              "          } catch (error) {\n",
              "            console.error('Error during call to suggestCharts:', error);\n",
              "          }\n",
              "          quickchartButtonEl.classList.remove('colab-df-spinner');\n",
              "          quickchartButtonEl.classList.add('colab-df-quickchart-complete');\n",
              "        }\n",
              "        (() => {\n",
              "          let quickchartButtonEl =\n",
              "            document.querySelector('#df-4b919320-9856-43e4-92f2-8be1fd1d3a85 button');\n",
              "          quickchartButtonEl.style.display =\n",
              "            google.colab.kernel.accessAllowed ? 'block' : 'none';\n",
              "        })();\n",
              "      </script>\n",
              "    </div>\n",
              "\n",
              "    </div>\n",
              "  </div>\n"
            ],
            "application/vnd.google.colaboratory.intrinsic+json": {
              "type": "dataframe",
              "variable_name": "df"
            }
          },
          "metadata": {},
          "execution_count": 34
        }
      ]
    },
    {
      "cell_type": "code",
      "source": [
        "import pandas as pd\n",
        "import numpy as np\n",
        "from sklearn.model_selection import train_test_split\n",
        "from sklearn.preprocessing import StandardScaler\n",
        "from sklearn.linear_model import LogisticRegression\n",
        "from sklearn.metrics import classification_report\n",
        "\n",
        "# Define sales columns\n",
        "sales_columns = ['sales_after_discount_d_9', 'sales_after_discount_d_10', 'sales_after_discount_d_11']\n",
        "\n",
        "# Convert sales columns to float\n",
        "df[sales_columns] = df[sales_columns].astype(float)\n",
        "\n",
        "# Create churn column: churn = 1 if 2 or more of the last 3 months have 0 sales\n",
        "df['churned'] = ((df[sales_columns] == 0).sum(axis=1) >= 2).astype(int)\n",
        "\n",
        "# Select features\n",
        "selected_columns = [\n",
        "    'qty', 'price', 'total_sales_after_discount',\n",
        "    'sales_after_discount_d_1', 'sales_after_discount_d_2', 'sales_after_discount_d_3',\n",
        "    'sales_after_discount_d_4', 'sales_after_discount_d_5', 'sales_after_discount_d_6',\n",
        "    'sales_after_discount_d_7', 'total_sales_before_discount', 'churned'\n",
        "]\n",
        "\n",
        "# Drop rows with missing values\n",
        "df_selected = df[selected_columns].dropna()\n",
        "\n",
        "# Split features and target\n",
        "X = df_selected.drop('churned', axis=1)\n",
        "y = df_selected['churned']\n",
        "\n",
        "# Standardize features\n",
        "scaler = StandardScaler()\n",
        "X_scaled = scaler.fit_transform(X)\n",
        "\n",
        "# Train-test split\n",
        "X_train, X_test, y_train, y_test = train_test_split(X_scaled, y, test_size=0.2, random_state=42)\n",
        "\n",
        "# Train logistic regression\n",
        "lr = LogisticRegression(max_iter=100)\n",
        "lr.fit(X_train, y_train)\n",
        "\n",
        "# Predict and evaluate\n",
        "y_pred = lr.predict(X_test)\n",
        "print(classification_report(y_test, y_pred))\n"
      ],
      "metadata": {
        "colab": {
          "base_uri": "https://localhost:8080/"
        },
        "id": "vCU7AVtXYHRh",
        "outputId": "d9fcaa98-e638-450f-fa1b-4f7b3bf253a2"
      },
      "execution_count": null,
      "outputs": [
        {
          "output_type": "stream",
          "name": "stdout",
          "text": [
            "              precision    recall  f1-score   support\n",
            "\n",
            "           0       0.87      0.98      0.92        53\n",
            "           1       0.97      0.83      0.90        47\n",
            "\n",
            "    accuracy                           0.91       100\n",
            "   macro avg       0.92      0.91      0.91       100\n",
            "weighted avg       0.92      0.91      0.91       100\n",
            "\n"
          ]
        }
      ]
    },
    {
      "cell_type": "code",
      "source": [
        "from sklearn.metrics import confusion_matrix, ConfusionMatrixDisplay\n",
        "import matplotlib.pyplot as plt\n",
        "\n",
        "# Generate the confusion matrix\n",
        "cm = confusion_matrix(y_test, y_pred)\n",
        "\n",
        "# Display it as a text matrix\n",
        "print(\"Confusion Matrix:\\n\", cm)\n",
        "\n",
        "# Optional: Visualize it using a heatmap-style plot\n",
        "disp = ConfusionMatrixDisplay(confusion_matrix=cm, display_labels=lr.classes_)\n",
        "disp.plot(cmap=plt.cm.Blues)\n",
        "plt.title(\"Confusion Matrix\")\n",
        "plt.grid(False)\n",
        "plt.show()\n"
      ],
      "metadata": {
        "colab": {
          "base_uri": "https://localhost:8080/",
          "height": 527
        },
        "id": "FvCgpU98YbOf",
        "outputId": "484a4124-cafa-48d4-8816-52ef15fd1bdb"
      },
      "execution_count": null,
      "outputs": [
        {
          "output_type": "stream",
          "name": "stdout",
          "text": [
            "Confusion Matrix:\n",
            " [[52  1]\n",
            " [ 8 39]]\n"
          ]
        },
        {
          "output_type": "display_data",
          "data": {
            "text/plain": [
              "<Figure size 640x480 with 2 Axes>"
            ],
            "image/png": "[encoded data removed]"
          },
          "metadata": {}
        }
      ]
    }
  ]
}